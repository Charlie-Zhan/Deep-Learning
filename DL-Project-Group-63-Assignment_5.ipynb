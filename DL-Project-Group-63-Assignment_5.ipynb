{
  "nbformat": 4,
  "nbformat_minor": 0,
  "metadata": {
    "colab": {
      "name": "Lab-based Group Assignment-5.ipynb",
      "provenance": [],
      "collapsed_sections": []
    },
    "kernelspec": {
      "name": "python3",
      "display_name": "Python 3"
    },
    "accelerator": "GPU"
  },
  "cells": [
    {
      "cell_type": "markdown",
      "metadata": {
        "id": "ppsub4PAg-3I"
      },
      "source": [
        "# Lab-based Group Assignment 5: \n",
        "## Deceptive Design by Generating DeepFake Signatures for Preventing Fraud Transactions"
      ]
    },
    {
      "cell_type": "markdown",
      "metadata": {
        "id": "kt8XtTxqVjZR"
      },
      "source": [
        "![Imgur](https://i.imgur.com/4HJknC2.png)"
      ]
    },
    {
      "cell_type": "markdown",
      "metadata": {
        "id": "ra9SPf5SdjzH"
      },
      "source": [
        "You can see the question below!"
      ]
    },
    {
      "cell_type": "markdown",
      "metadata": {
        "id": "2LCxoMm3hRhz"
      },
      "source": [
        "## Business Problem \n",
        "Deepfake technology which manipulates images, videos, and voices of real people has huge impacts on nowadays businesses. However, deepfake technology also induces the most serious AI crime threat. Your signature, for example, can be generated easily, leading to potential losses of privacy, ethnics, money, etc. It is very important to develop digital authenticity verification and Deepfake detection technologies.\n",
        "\n",
        "This project asks you help the bank in Module 3 design a neural network to manipulate and generate signatures. With more signature data, we can build better fraud detection model and therefore prevent fraud transactions.\n",
        "\n",
        "(Optional) \"Designed to Deceive: Do These People Look Real to You?\"\n",
        "\n",
        "https://www.continuitycentral.com/index.php/news/erm-news/5559-deepfakes-are-a-threat-that-businesses-need-to-take-seriously"
      ]
    },
    {
      "cell_type": "markdown",
      "metadata": {
        "id": "W3V4-nuZFmv8"
      },
      "source": [
        "<img src=\"https://storage.googleapis.com/kaggle-datasets-images/107946/257611/57ea0c6f63a05a981b18eb7ad5547464/dataset-cover.png?t=2019-01-20-18-39-59\">"
      ]
    },
    {
      "cell_type": "markdown",
      "metadata": {
        "id": "lDRYGY6kHcH_"
      },
      "source": [
        "### Generative Adversarial Networks"
      ]
    },
    {
      "cell_type": "markdown",
      "metadata": {
        "id": "X2lmTNEnHTkF"
      },
      "source": [
        "![Imgur](https://i.imgur.com/ir8fwwK.png)"
      ]
    },
    {
      "cell_type": "markdown",
      "metadata": {
        "id": "AQyI6oFoKYJl"
      },
      "source": [
        "Credit: https://arxiv.org/pdf/1511.06434.pdf"
      ]
    },
    {
      "cell_type": "markdown",
      "metadata": {
        "id": "SUL43ngIbwcf"
      },
      "source": [
        "### How to Evaluate the Results of GANs"
      ]
    },
    {
      "cell_type": "markdown",
      "metadata": {
        "id": "Jlz7zQWZdWCJ"
      },
      "source": [
        "- Fidelity (Quality of Image)"
      ]
    },
    {
      "cell_type": "markdown",
      "metadata": {
        "id": "Cg6u34jAdWuL"
      },
      "source": [
        "![Imgur](https://i.imgur.com/1XBY0cC.png)"
      ]
    },
    {
      "cell_type": "markdown",
      "metadata": {
        "id": "ThrsL0-Wb15q"
      },
      "source": [
        "\n",
        "- Diversity (Variety of Images)"
      ]
    },
    {
      "cell_type": "markdown",
      "metadata": {
        "id": "P7MIHV8qdSfS"
      },
      "source": [
        "![Imgur](https://i.imgur.com/EZuQqmB.png)"
      ]
    },
    {
      "cell_type": "markdown",
      "metadata": {
        "id": "fySibWbYVcMr"
      },
      "source": [
        "### 1. Mode Collapse"
      ]
    },
    {
      "cell_type": "markdown",
      "metadata": {
        "id": "yGr1lssUVebS"
      },
      "source": [
        "Produces limited varieties of samples\n",
        "- If we have multi-outputs, we can have this problem.\n",
        "- The generator is always trying to find the one output\n",
        "- The discriminator’s best strategy is always to reject the output of the generator.\n",
        "- Discriminator gets stuck in a local minimum\n",
        "- It will keep on repeating the same output"
      ]
    },
    {
      "cell_type": "markdown",
      "metadata": {
        "id": "9vPUdktQV8z2"
      },
      "source": [
        "###  2. Vanishing Gradients"
      ]
    },
    {
      "cell_type": "markdown",
      "metadata": {
        "id": "4QYZMWH8V1sW"
      },
      "source": [
        "- The discriminator gets too successful\n",
        "- The generator learn nothing or little bit\n",
        "- So, the discriminator performs significantly better than the generator.\n"
      ]
    },
    {
      "cell_type": "markdown",
      "metadata": {
        "id": "L9hZpk3aWrRa"
      },
      "source": [
        "###  3. Non-Convergence Problem\n"
      ]
    },
    {
      "cell_type": "markdown",
      "metadata": {
        "id": "DEkrLPFOWtGV"
      },
      "source": [
        "- The generator gets better with next epochs \n",
        "- The discriminator performs worse because the discriminator can’t easily tell the difference between a real and a fake one. "
      ]
    },
    {
      "cell_type": "markdown",
      "metadata": {
        "id": "QftyR48sXgue"
      },
      "source": [
        "###  4. Others"
      ]
    },
    {
      "cell_type": "markdown",
      "metadata": {
        "id": "jADAJ9PgXfFy"
      },
      "source": [
        "- Unbalance between the generator and discriminator causing overfitting.\n",
        "- Highly sensitive to the hyperparameter selections.\n",
        "- The obvious solution is to balance their training to avoid overfitting."
      ]
    },
    {
      "cell_type": "markdown",
      "metadata": {
        "id": "O9X2mDDBhiiT"
      },
      "source": [
        "##  Solution for Business Problem\n",
        "Build a GAN model that learns from available real images to help your company generate new signatures. In this way, we can help the company to show AI generated fake signatures for preventing new threats."
      ]
    },
    {
      "cell_type": "code",
      "metadata": {
        "id": "p-pmKV2ikvrr",
        "colab": {
          "base_uri": "https://localhost:8080/"
        },
        "outputId": "10392aa9-08c9-47cb-e40e-1d495ad351e3"
      },
      "source": [
        "try:\n",
        "    from google.colab import drive\n",
        "    drive.mount('/content/drive', force_remount=True)\n",
        "    COLAB = True\n",
        "    print(\"Note: using Google CoLab\")\n",
        "    %tensorflow_version 2.x\n",
        "except:\n",
        "    print(\"Note: not using Google CoLab\")\n",
        "    COLAB = False"
      ],
      "execution_count": 1,
      "outputs": [
        {
          "output_type": "stream",
          "name": "stdout",
          "text": [
            "Mounted at /content/drive\n",
            "Note: using Google CoLab\n"
          ]
        }
      ]
    },
    {
      "cell_type": "markdown",
      "metadata": {
        "id": "dWbkPYwAZiCz"
      },
      "source": [
        "Please copy your path for unzip the file on the contect"
      ]
    },
    {
      "cell_type": "code",
      "metadata": {
        "id": "m2HR0QsIAG1Y"
      },
      "source": [
        "!unzip -q \"/content/drive/MyDrive/deep learning/signature-verification-dataset.zip\" -d /content/"
      ],
      "execution_count": 3,
      "outputs": []
    },
    {
      "cell_type": "markdown",
      "metadata": {
        "id": "0dnRhqXWZoIW"
      },
      "source": [
        "Please load your train dataset for the GANs"
      ]
    },
    {
      "cell_type": "code",
      "metadata": {
        "id": "3cqq64-mQ2OE",
        "colab": {
          "base_uri": "https://localhost:8080/"
        },
        "outputId": "0b4ab19b-319b-48f5-c0ee-02a27b281a61"
      },
      "source": [
        "import pandas as pd\n",
        "import numpy as np\n",
        "# Load your train data\n",
        "train_df=pd.read_csv(\"/content/sign_data/train_data.csv\",header=None,usecols=[1,2],names=[\"file_name\",\"forged\"],dtype=str)\n",
        "# Load your test data\n",
        "test_df=pd.read_csv(\"/content/sign_data/test_data.csv\",header=None,usecols=[1,2],names=[\"file_name\",\"forged\"],dtype=str)\n",
        "# Split your train and test data for validation.\n",
        "from sklearn.model_selection import train_test_split\n",
        "train_df, validation_df=train_test_split(train_df,train_size=0.9)\n",
        "print(train_df.shape,validation_df.shape,test_df.shape)"
      ],
      "execution_count": 4,
      "outputs": [
        {
          "output_type": "stream",
          "name": "stdout",
          "text": [
            "(20885, 2) (2321, 2) (5748, 2)\n"
          ]
        }
      ]
    },
    {
      "cell_type": "markdown",
      "metadata": {
        "id": "yAcvufUjZu6t"
      },
      "source": [
        "Please select and extract all real dataset for GANs"
      ]
    },
    {
      "cell_type": "code",
      "metadata": {
        "id": "cLbaVO7TRe8j",
        "colab": {
          "base_uri": "https://localhost:8080/",
          "height": 423
        },
        "outputId": "708426c3-dc3f-4283-907d-77f21166f133"
      },
      "source": [
        "# Drop the forged signatures from the dataframe.\n",
        "train_df.forged.value_counts()\n",
        "train_df = train_df[train_df.forged==\"0\"] # selecting all real dataset here.\n",
        "# Show your trained data to check that all forged images have been excluded.\n",
        "display(train_df)\n",
        "\n",
        "path=\"/content/sign_data/\"\n",
        "\n",
        "# Open one image to see how your images look like.\n",
        "from PIL import Image, ImageOps\n",
        "Image.open(\"/content/sign_data/train/001/001_01.PNG\").mode\n",
        "\n",
        "# Load the torchvision package.\n",
        "import torchvision.datasets as dset\n",
        "import torchvision.transforms as transforms\n",
        "\n",
        "# Set the root of your GoogleDrive.\n",
        "root_path = '/content/sign_data/train'\n",
        "\n",
        "# Determine the image size (we use 64*64 here).\n",
        "image_size = (32,32)\n",
        "\n",
        "def gray_reader(image_path):\n",
        "  im = Image.open(image_path)\n",
        "  im2 = ImageOps.grayscale(im)\n",
        "  im.close()\n",
        "  return im2\n",
        "\n",
        "# Create your images dataframe.\n",
        "dt = dset.ImageFolder(root = root_path,\n",
        "                      transform = transforms.Compose([transforms.Resize(image_size),\n",
        "                                                      transforms.CenterCrop(image_size),\n",
        "                                                      transforms.ToTensor()]))"
      ],
      "execution_count": 5,
      "outputs": [
        {
          "output_type": "display_data",
          "data": {
            "text/html": [
              "<div>\n",
              "<style scoped>\n",
              "    .dataframe tbody tr th:only-of-type {\n",
              "        vertical-align: middle;\n",
              "    }\n",
              "\n",
              "    .dataframe tbody tr th {\n",
              "        vertical-align: top;\n",
              "    }\n",
              "\n",
              "    .dataframe thead th {\n",
              "        text-align: right;\n",
              "    }\n",
              "</style>\n",
              "<table border=\"1\" class=\"dataframe\">\n",
              "  <thead>\n",
              "    <tr style=\"text-align: right;\">\n",
              "      <th></th>\n",
              "      <th>file_name</th>\n",
              "      <th>forged</th>\n",
              "    </tr>\n",
              "  </thead>\n",
              "  <tbody>\n",
              "    <tr>\n",
              "      <th>5329</th>\n",
              "      <td>012/012_15.PNG</td>\n",
              "      <td>0</td>\n",
              "    </tr>\n",
              "    <tr>\n",
              "      <th>4120</th>\n",
              "      <td>014/014_23.PNG</td>\n",
              "      <td>0</td>\n",
              "    </tr>\n",
              "    <tr>\n",
              "      <th>18444</th>\n",
              "      <td>015/015_11.PNG</td>\n",
              "      <td>0</td>\n",
              "    </tr>\n",
              "    <tr>\n",
              "      <th>4849</th>\n",
              "      <td>012/012_01.PNG</td>\n",
              "      <td>0</td>\n",
              "    </tr>\n",
              "    <tr>\n",
              "      <th>5120</th>\n",
              "      <td>012/012_22.PNG</td>\n",
              "      <td>0</td>\n",
              "    </tr>\n",
              "    <tr>\n",
              "      <th>...</th>\n",
              "      <td>...</td>\n",
              "      <td>...</td>\n",
              "    </tr>\n",
              "    <tr>\n",
              "      <th>4177</th>\n",
              "      <td>014/014_22.PNG</td>\n",
              "      <td>0</td>\n",
              "    </tr>\n",
              "    <tr>\n",
              "      <th>21076</th>\n",
              "      <td>021/02_021.png</td>\n",
              "      <td>0</td>\n",
              "    </tr>\n",
              "    <tr>\n",
              "      <th>20693</th>\n",
              "      <td>032/08_032.png</td>\n",
              "      <td>0</td>\n",
              "    </tr>\n",
              "    <tr>\n",
              "      <th>1079</th>\n",
              "      <td>047/11_047.png</td>\n",
              "      <td>0</td>\n",
              "    </tr>\n",
              "    <tr>\n",
              "      <th>22142</th>\n",
              "      <td>037/10_037.png</td>\n",
              "      <td>0</td>\n",
              "    </tr>\n",
              "  </tbody>\n",
              "</table>\n",
              "<p>11392 rows × 2 columns</p>\n",
              "</div>"
            ],
            "text/plain": [
              "            file_name forged\n",
              "5329   012/012_15.PNG      0\n",
              "4120   014/014_23.PNG      0\n",
              "18444  015/015_11.PNG      0\n",
              "4849   012/012_01.PNG      0\n",
              "5120   012/012_22.PNG      0\n",
              "...               ...    ...\n",
              "4177   014/014_22.PNG      0\n",
              "21076  021/02_021.png      0\n",
              "20693  032/08_032.png      0\n",
              "1079   047/11_047.png      0\n",
              "22142  037/10_037.png      0\n",
              "\n",
              "[11392 rows x 2 columns]"
            ]
          },
          "metadata": {}
        }
      ]
    },
    {
      "cell_type": "code",
      "metadata": {
        "id": "P3cIZ1wwhV1L",
        "colab": {
          "base_uri": "https://localhost:8080/",
          "height": 49
        },
        "outputId": "b9356ab6-174c-4c52-ff3a-d0190bf5e871"
      },
      "source": [
        "import keras\n",
        "# Use Keras to convert your Numpy array to a PIL Image instance.\n",
        "keras.preprocessing.image.array_to_img(dt[0][0].numpy().transpose((1, 2, 0)) * 255., scale=False)"
      ],
      "execution_count": 6,
      "outputs": [
        {
          "output_type": "execute_result",
          "data": {
            "image/png": "[encoded data removed]",
            "text/plain": [
              "<PIL.Image.Image image mode=RGB size=32x32 at 0x7F625A9E8C10>"
            ]
          },
          "metadata": {},
          "execution_count": 6
        }
      ]
    },
    {
      "cell_type": "code",
      "metadata": {
        "id": "GgibtfJkTpGa"
      },
      "source": [
        "import torch.utils.data\n",
        "# Set your batch size.\n",
        "batch_size = 32\n",
        "# This composite transform is used by the dataloader to pre-process images.\n",
        "dataloader = torch.utils.data.DataLoader(dt,\n",
        "                                         batch_size = batch_size,\n",
        "                                         shuffle = True, \n",
        "                                         num_workers = 2) #https://stackoverflow.com/questions/53998282/how-does-the-number-of-workers-parameter-in-pytorch-dataloader-actually-work"
      ],
      "execution_count": 7,
      "outputs": []
    },
    {
      "cell_type": "markdown",
      "metadata": {
        "id": "rNaI4nY7Z41z"
      },
      "source": [
        "You can find all tricks below for building the balanced model for the business problem. "
      ]
    },
    {
      "cell_type": "markdown",
      "metadata": {
        "id": "hllquTETJGmt"
      },
      "source": [
        "## A schematic GAN implementation\n",
        "\n",
        "\n",
        "- Our specific implementation will be a deep convolutional GAN, or DCGAN: a GAN where the generator and discriminator are deep CNNs. \n",
        "\n",
        "- In particular, it leverages a `Conv2DTranspose` layer for image upsampling in the generator.\n",
        "\n",
        "- We will train our GAN on images based on the signature dataset.\n",
        "\n",
        "Schematically, our GAN looks like this:\n",
        "\n",
        "Note: The values will change in the architecture.\n",
        "* A `generator` network maps vectors of shape `(latent_dim,)` to images of shape `(32, 32, 3)`.\n",
        "* A `discriminator` network maps images of shape (32, 32, 3) to a binary score estimating the probability that the image is real.\n",
        "* A `gan` network chains the generator and the discriminator together: `gan(x) = discriminator(generator(x))`. Thus this `gan` network maps \n",
        "latent space vectors to the discriminator's assessment of the realism of these latent vectors as decoded by the generator.\n",
        "* We train the discriminator using examples of real and fake images along with \"real\"/\"fake\" labels, as we would train any regular image \n",
        "classification model.\n",
        "* To train the generator, we use the gradients of the generator's weights with regard to the loss of the `gan` model. This means that, at \n",
        "every step, we move the weights of the generator in a direction that will make the discriminator more likely to classify as \"real\" the \n",
        "images decoded by the generator. I.e. we train the generator to fool the discriminator.\n",
        "\n",
        "**Credit:** Chollet, Francois \"Deep learning with Python (2017).\""
      ]
    },
    {
      "cell_type": "markdown",
      "metadata": {
        "id": "70l-KZ9zJREc"
      },
      "source": [
        "## A bag of tricks\n",
        "\n",
        "\n",
        "Training GANs and tuning GAN implementations is notoriously difficult. There are a number of known \"tricks\" that one should keep in mind. \n",
        "Like most things in deep learning, it is more alchemy than science: these tricks are really just heuristics, not theory-backed guidelines. \n",
        "They are backed by some level of intuitive understanding of the phenomenon at hand, and they are known to work well empirically, albeit not \n",
        "necessarily in every context.\n",
        "\n",
        "Here are a few of the tricks that we leverage in our own implementation of a GAN generator and discriminator below. It is not an exhaustive \n",
        "list of GAN-related tricks; you will find many more across the GAN literature.\n",
        "\n",
        "* We use `tanh` as the last activation in the generator, instead of `sigmoid`, which would be more commonly found in other types of models.\n",
        "* We sample points from the latent space using a _normal distribution_ (Gaussian distribution), not a uniform distribution.\n",
        "* Stochasticity is good to induce robustness. Since GAN training results in a dynamic equilibrium, GANs are likely to get \"stuck\" in all sorts of ways. \n",
        "Introducing randomness during training helps prevent this. We introduce randomness in two ways: 1) we use dropout in the discriminator, 2) \n",
        "we add some random noise to the labels for the discriminator.\n",
        "* Sparse gradients can hinder GAN training. In deep learning, sparsity is often a desirable property, but not in GANs. There are two things \n",
        "that can induce gradient sparsity: 1) max pooling operations, 2) ReLU activations. Instead of max pooling, we recommend using strided \n",
        "convolutions for downsampling, and we recommend using a `LeakyReLU` layer instead of a ReLU activation. It is similar to ReLU but it \n",
        "relaxes sparsity constraints by allowing small negative activation values.\n",
        "* In generated images, it is common to see \"checkerboard artifacts\" caused by unequal coverage of the pixel space in the generator. To fix \n",
        "this, we use a kernel size that is divisible by the stride size, whenever we use a strided `Conv2DTranpose` or `Conv2D` in both the \n",
        "generator and discriminator.\n",
        "\n",
        "**Credit:** Chollet, Francois \"Deep learning with Python (2017).\""
      ]
    },
    {
      "cell_type": "markdown",
      "metadata": {
        "id": "HuJcO-v0aigA"
      },
      "source": [
        "# **Question: Please find the balance point for the generator networks and discriminator networks for improving the generated signatures. After improvement, please look at the fidelity (quality of images) and diversity (variety of images) for interpreting the results.**\n",
        "\n",
        "Note: As seen in the Colab file above, we got 0.4 d_loss (discriminator loss) and 1.5 a_loss (generator loss) values. These values are supposed to be close (e.g. 0.83 and 0.95) to getting a balanced point. Now, we have a gap between these two values. But, when we looked at fidelity and diversity, we realized that we can see the signatures on the generated images and we have different signatures as well. It means that our model works. But, we need to improve the fidelity (quality of images). Please try to improve the signature quality and interpret your results. For example, when we make a more strong generator or weak generator network (by increasing or decreasing dropout value, adding new dropout value, or leakyrelu values), can we find the balance point with high fidelity and diversity. When we make more strong discriminator networks or weak discriminator networks (by increasing or decreasing dropout value, adding new dropout value, or leakyrelu values), can we find the balance point with high fidelity and diversity? Based on the results, please interpret and show how you improve the generated images. "
      ]
    },
    {
      "cell_type": "markdown",
      "metadata": {
        "id": "bo0CgyiraFde"
      },
      "source": [
        "Let's start to build the generator and discriminator networks!"
      ]
    },
    {
      "cell_type": "markdown",
      "metadata": {
        "id": "5uU93I92JXRQ"
      },
      "source": [
        "## The generator\n",
        "\n",
        "\n",
        "First, we develop a `generator` model, which turns a vector (from the latent space -- during training it will sampled at random) into a \n",
        "candidate image. One of the many issues that commonly arise with GANs is that the generator gets stuck with generated images that look like \n",
        "noise. A possible solution is to use dropout on both the discriminator and generator.\n",
        "\n",
        "**Credit:** Chollet, Francois \"Deep learning with Python (2017).\""
      ]
    },
    {
      "cell_type": "markdown",
      "metadata": {
        "id": "b8w9le6waOV5"
      },
      "source": [
        "This is strong generator networks because we added dropout and leakyrelu for building the architecture. "
      ]
    },
    {
      "cell_type": "code",
      "metadata": {
        "colab": {
          "base_uri": "https://localhost:8080/"
        },
        "id": "ofZCBv5VpykV",
        "outputId": "2ce2287b-1db2-496b-ed92-f29e66be735c"
      },
      "source": [
        "import keras\n",
        "from keras import layers\n",
        "import numpy as np\n",
        "\n",
        "# Set the latent dim.\n",
        "latent_dim = 32\n",
        "height = 32\n",
        "width = 32\n",
        "channels = 3\n",
        "\n",
        "generator_input = keras.Input(shape=(latent_dim,))\n",
        "\n",
        "# First, transform the input into a 4x4 256-channels feature map\n",
        "x = layers.Dense(256*4*4)(generator_input)\n",
        "x = layers.LeakyReLU()(x)\n",
        "x = layers.Reshape((4,4,256))(x)\n",
        "\n",
        "x = layers.Conv2DTranspose(256, kernel_size=2,strides=(2,2), padding = \"same\")(x)\n",
        "x = layers.LeakyReLU(alpha=0.3)(x)\n",
        "    \n",
        "x = layers.Conv2DTranspose(256, kernel_size=2,strides=(2,2), padding = \"same\")(x)\n",
        "x = layers.LeakyReLU(alpha=0.3)(x)\n",
        "\n",
        "#Add dropout\n",
        "x = layers.Dropout(0.2)(x)\n",
        "\n",
        "x = layers.Conv2DTranspose(256, kernel_size=2, strides=(2,2), padding = \"same\")(x)\n",
        "x = layers.LeakyReLU(alpha=0.3)(x)\n",
        "\n",
        "#x = layers.Conv2DTranspose(256, kernel_size=2, strides=(2,2), padding = \"same\")(x)\n",
        "#x = layers.LeakyReLU(alpha=0.3)(x)\n",
        "x = layers.Dropout(0.2)(x)\n",
        "    \n",
        "x = layers.Conv2D(3, kernel_size=2, padding = 'same', activation= 'tanh')(x)\n",
        "\n",
        "generator = keras.models.Model(generator_input, x)\n",
        "generator.summary()"
      ],
      "execution_count": 8,
      "outputs": [
        {
          "output_type": "stream",
          "name": "stdout",
          "text": [
            "Model: \"model\"\n",
            "_________________________________________________________________\n",
            " Layer (type)                Output Shape              Param #   \n",
            "=================================================================\n",
            " input_1 (InputLayer)        [(None, 32)]              0         \n",
            "                                                                 \n",
            " dense (Dense)               (None, 4096)              135168    \n",
            "                                                                 \n",
            " leaky_re_lu (LeakyReLU)     (None, 4096)              0         \n",
            "                                                                 \n",
            " reshape (Reshape)           (None, 4, 4, 256)         0         \n",
            "                                                                 \n",
            " conv2d_transpose (Conv2DTra  (None, 8, 8, 256)        262400    \n",
            " nspose)                                                         \n",
            "                                                                 \n",
            " leaky_re_lu_1 (LeakyReLU)   (None, 8, 8, 256)         0         \n",
            "                                                                 \n",
            " conv2d_transpose_1 (Conv2DT  (None, 16, 16, 256)      262400    \n",
            " ranspose)                                                       \n",
            "                                                                 \n",
            " leaky_re_lu_2 (LeakyReLU)   (None, 16, 16, 256)       0         \n",
            "                                                                 \n",
            " dropout (Dropout)           (None, 16, 16, 256)       0         \n",
            "                                                                 \n",
            " conv2d_transpose_2 (Conv2DT  (None, 32, 32, 256)      262400    \n",
            " ranspose)                                                       \n",
            "                                                                 \n",
            " leaky_re_lu_3 (LeakyReLU)   (None, 32, 32, 256)       0         \n",
            "                                                                 \n",
            " dropout_1 (Dropout)         (None, 32, 32, 256)       0         \n",
            "                                                                 \n",
            " conv2d (Conv2D)             (None, 32, 32, 3)         3075      \n",
            "                                                                 \n",
            "=================================================================\n",
            "Total params: 925,443\n",
            "Trainable params: 925,443\n",
            "Non-trainable params: 0\n",
            "_________________________________________________________________\n"
          ]
        }
      ]
    },
    {
      "cell_type": "markdown",
      "metadata": {
        "id": "FS6llZvOJsGp"
      },
      "source": [
        "## The discriminator\n",
        "\n",
        "\n",
        "Then, we develop a `discriminator` model, that takes as input a candidate image (real or synthetic) and classifies it into one of two \n",
        "classes, either \"generated image\" or \"real image that comes from the training set\".\n",
        "\n",
        "**Credit:** Chollet, Francois \"Deep learning with Python (2017).\""
      ]
    },
    {
      "cell_type": "markdown",
      "metadata": {
        "id": "kgApqs1OaabJ"
      },
      "source": [
        "This is strong discriminator networks because we added dropout and leakyrelu for building the architecture. "
      ]
    },
    {
      "cell_type": "code",
      "metadata": {
        "colab": {
          "base_uri": "https://localhost:8080/"
        },
        "id": "7tYARJIOpykV",
        "outputId": "26ae8fef-4141-4548-c30b-002ebd288bd7"
      },
      "source": [
        "#Redesign the discriminator\n",
        "from tensorflow import optimizers\n",
        "discriminator_input = layers.Input(shape=(height, width, channels))\n",
        "x = layers.Conv2D(64, kernel_size=3, padding = \"same\", input_shape = (64,64,3))(discriminator_input)\n",
        "x = layers.LeakyReLU(alpha=0.2)(x)\n",
        "\n",
        "x = layers.Conv2D(128, kernel_size=3,strides=(2,2), padding = \"same\")(x)\n",
        "x = layers.LeakyReLU(alpha=0.2)(x)\n",
        "\n",
        "x = layers.Conv2D(128, kernel_size=3,strides=(2,2), padding = \"same\")(x)\n",
        "x = layers.LeakyReLU(alpha=0.2)(x)\n",
        "x = layers.Dropout(0.3)(x)\n",
        "\n",
        "x = layers.Conv2D(256, kernel_size=3, strides=(2,2), padding = \"same\")(x)\n",
        "x = layers.LeakyReLU(alpha=0.2)(x)\n",
        "x = layers.Dropout(0.3)(x)\n",
        "\n",
        "\n",
        "x = layers.Flatten()(x)\n",
        "x = layers.Dropout(0.4)(x)\n",
        "x = layers.Dense(1, activation='sigmoid')(x)\n",
        "\n",
        "discriminator = keras.models.Model(discriminator_input, x)\n",
        "\n",
        "# To stabilize training, we use learning rate decay\n",
        "# and gradient clipping (by value) in the optimizer.\n",
        "discriminator_optimizer = optimizers.RMSprop(lr=0.0008, clipvalue=1.0, decay=1e-8)\n",
        "discriminator.compile(optimizer=discriminator_optimizer, loss='binary_crossentropy')\n",
        "\n",
        "discriminator.summary()"
      ],
      "execution_count": 15,
      "outputs": [
        {
          "output_type": "stream",
          "name": "stdout",
          "text": [
            "Model: \"model_5\"\n",
            "_________________________________________________________________\n",
            " Layer (type)                Output Shape              Param #   \n",
            "=================================================================\n",
            " input_6 (InputLayer)        [(None, 32, 32, 3)]       0         \n",
            "                                                                 \n",
            " conv2d_13 (Conv2D)          (None, 32, 32, 64)        1792      \n",
            "                                                                 \n",
            " leaky_re_lu_16 (LeakyReLU)  (None, 32, 32, 64)        0         \n",
            "                                                                 \n",
            " conv2d_14 (Conv2D)          (None, 16, 16, 128)       73856     \n",
            "                                                                 \n",
            " leaky_re_lu_17 (LeakyReLU)  (None, 16, 16, 128)       0         \n",
            "                                                                 \n",
            " conv2d_15 (Conv2D)          (None, 8, 8, 128)         147584    \n",
            "                                                                 \n",
            " leaky_re_lu_18 (LeakyReLU)  (None, 8, 8, 128)         0         \n",
            "                                                                 \n",
            " dropout_11 (Dropout)        (None, 8, 8, 128)         0         \n",
            "                                                                 \n",
            " conv2d_16 (Conv2D)          (None, 4, 4, 256)         295168    \n",
            "                                                                 \n",
            " leaky_re_lu_19 (LeakyReLU)  (None, 4, 4, 256)         0         \n",
            "                                                                 \n",
            " dropout_12 (Dropout)        (None, 4, 4, 256)         0         \n",
            "                                                                 \n",
            " flatten_3 (Flatten)         (None, 4096)              0         \n",
            "                                                                 \n",
            " dropout_13 (Dropout)        (None, 4096)              0         \n",
            "                                                                 \n",
            " dense_4 (Dense)             (None, 1)                 4097      \n",
            "                                                                 \n",
            "=================================================================\n",
            "Total params: 522,497\n",
            "Trainable params: 522,497\n",
            "Non-trainable params: 0\n",
            "_________________________________________________________________\n"
          ]
        },
        {
          "output_type": "stream",
          "name": "stderr",
          "text": [
            "/usr/local/lib/python3.7/dist-packages/keras/optimizer_v2/rmsprop.py:130: UserWarning: The `lr` argument is deprecated, use `learning_rate` instead.\n",
            "  super(RMSprop, self).__init__(name, **kwargs)\n"
          ]
        }
      ]
    },
    {
      "cell_type": "markdown",
      "metadata": {
        "id": "_Ghii9WCKBsq"
      },
      "source": [
        "## The adversarial network\n",
        "\n",
        "Finally, we setup the GAN, which chains the generator and the discriminator. This is the model that, when trained, will move the generator \n",
        "in a direction that improves its ability to fool the discriminator. This model turns latent space points into a classification decision, \n",
        "\"fake\" or \"real\", and it is meant to be trained with labels that are always \"these are real images\". So training `gan` will updates the \n",
        "weights of `generator` in a way that makes `discriminator` more likely to predict \"real\" when looking at fake images. Very importantly, we \n",
        "set the discriminator to be frozen during training (non-trainable): its weights will not be updated when training `gan`. If the \n",
        "discriminator weights could be updated during this process, then we would be training the discriminator to always predict \"real\", which is \n",
        "not what we want!\n",
        "\n",
        "**Credit:** Chollet, Francois \"Deep learning with Python (2017).\""
      ]
    },
    {
      "cell_type": "code",
      "metadata": {
        "id": "hdsBt2WHpykV",
        "colab": {
          "base_uri": "https://localhost:8080/"
        },
        "outputId": "db61826a-dbc0-4760-e89d-d82e62011727"
      },
      "source": [
        "# Set discriminator weights to non-trainable\n",
        "# (will only apply to the `gan` model)\n",
        "discriminator.trainable = False\n",
        "\n",
        "gan_input = keras.Input(shape=(latent_dim,))\n",
        "gan_output = discriminator(generator(gan_input))\n",
        "gan = keras.models.Model(gan_input, gan_output)\n",
        "\n",
        "gan_optimizer = optimizers.RMSprop(lr=0.0004, clipvalue=1.0, decay=1e-8)\n",
        "gan.compile(optimizer=gan_optimizer, loss='binary_crossentropy')"
      ],
      "execution_count": 17,
      "outputs": [
        {
          "output_type": "stream",
          "name": "stderr",
          "text": [
            "/usr/local/lib/python3.7/dist-packages/keras/optimizer_v2/rmsprop.py:130: UserWarning: The `lr` argument is deprecated, use `learning_rate` instead.\n",
            "  super(RMSprop, self).__init__(name, **kwargs)\n"
          ]
        }
      ]
    },
    {
      "cell_type": "code",
      "metadata": {
        "colab": {
          "base_uri": "https://localhost:8080/"
        },
        "id": "a-KdzP94pykW",
        "outputId": "96026593-3d14-4c29-e403-16b3c3874404"
      },
      "source": [
        "save_dir = \"drive/My Drive\"\n",
        "\n",
        "iteration = 100\n",
        "\n",
        "for it in range(iteration):\n",
        "    for i, data in enumerate(dataloader):\n",
        "        if i == len(dt)//batch_size:\n",
        "            break\n",
        "        else:\n",
        "            random_latent_vectors = np.random.normal(size=(batch_size, latent_dim))\n",
        "            generated_images = generator.predict(random_latent_vectors)\n",
        "            real_images = data[0].numpy().transpose((0, 2, 3, 1))\n",
        "            combined_images = np.concatenate([generated_images, real_images])\n",
        "            # Assemble labels discriminating real from fake images\n",
        "            labels = np.concatenate([np.ones((batch_size, 1)),\n",
        "                                     np.zeros((batch_size, 1))])\n",
        "            # Add random noise to the labels - important trick!\n",
        "            labels += 0.05 * np.random.random(labels.shape)\n",
        "            # Train the discriminator\n",
        "            d_loss = discriminator.train_on_batch(combined_images, labels)\n",
        "\n",
        "            # sample random points in the latent space\n",
        "            random_latent_vectors = np.random.normal(size=(batch_size, latent_dim))\n",
        "\n",
        "            # Assemble labels that say \"all real images\"\n",
        "            misleading_targets = np.zeros((batch_size, 1))\n",
        "\n",
        "            # Train the generator (via the gan model,\n",
        "            # where the discriminator weights are frozen)\n",
        "            a_loss = gan.train_on_batch(random_latent_vectors, misleading_targets)\n",
        "\n",
        "    if it %5 == 0:\n",
        "        print(f'{it}/{iteration}, d_loss is {d_loss}, a_loss is {a_loss}')"
      ],
      "execution_count": 18,
      "outputs": [
        {
          "output_type": "stream",
          "name": "stdout",
          "text": [
            "0/100, d_loss is 0.6894110441207886, a_loss is 0.7861940860748291\n",
            "5/100, d_loss is 0.674959659576416, a_loss is 0.9321973323822021\n",
            "10/100, d_loss is 0.6600867509841919, a_loss is 0.9726551175117493\n",
            "15/100, d_loss is 0.6428821086883545, a_loss is 0.6821562051773071\n",
            "20/100, d_loss is 0.4967659115791321, a_loss is 1.5926783084869385\n",
            "25/100, d_loss is 0.5302510261535645, a_loss is 0.9612585306167603\n",
            "30/100, d_loss is 0.5758460760116577, a_loss is 2.3057258129119873\n",
            "35/100, d_loss is 0.39623773097991943, a_loss is 2.2688241004943848\n",
            "40/100, d_loss is 0.5341513752937317, a_loss is 1.2715661525726318\n",
            "45/100, d_loss is 0.3865973651409149, a_loss is 2.0168464183807373\n",
            "50/100, d_loss is 0.7182787656784058, a_loss is 1.022184133529663\n",
            "55/100, d_loss is 0.4927363395690918, a_loss is 2.1367902755737305\n",
            "60/100, d_loss is 0.7313417196273804, a_loss is 2.3551697731018066\n",
            "65/100, d_loss is 0.6265875697135925, a_loss is 1.2099995613098145\n",
            "70/100, d_loss is 0.39817166328430176, a_loss is 2.3547523021698\n",
            "75/100, d_loss is 0.30895254015922546, a_loss is 2.477466583251953\n",
            "80/100, d_loss is 0.5103904008865356, a_loss is 2.198103427886963\n",
            "85/100, d_loss is 0.5070657730102539, a_loss is 2.877516984939575\n",
            "90/100, d_loss is 0.3787952661514282, a_loss is 2.829418182373047\n",
            "95/100, d_loss is 0.37477821111679077, a_loss is 2.9873757362365723\n"
          ]
        }
      ]
    },
    {
      "cell_type": "markdown",
      "metadata": {
        "id": "G3-I7oAUXuZV"
      },
      "source": [
        "Finally, you can save the generated images to the dataset for using them on the CNN models for detecting the forged signature. "
      ]
    },
    {
      "cell_type": "code",
      "metadata": {
        "id": "-O4kTnHUXraQ",
        "colab": {
          "base_uri": "https://localhost:8080/",
          "height": 1000
        },
        "outputId": "833b36e5-6940-4bac-994f-86ff0f4a7489"
      },
      "source": [
        "# Load pyplot package.\n",
        "import matplotlib.pyplot as plt\n",
        "\n",
        "# Sample random points in the latent space.\n",
        "random_latent_vectors = np.random.normal(size=(10, latent_dim))\n",
        "\n",
        "# Decode them to fake images and show.\n",
        "generated_images = generator.predict(random_latent_vectors)\n",
        "\n",
        "for i in range(generated_images.shape[0],):\n",
        "    img = keras.preprocessing.image.array_to_img(generated_images[i] * 255., scale=False)\n",
        "    # Name your generated images.\n",
        "    img_name = \"/forged\"+str(i)+\".png\"\n",
        "    # Set the directory that you want to save the generated images. You can add your genreated images to the original dataset\n",
        "    # by setting file_path = \"drive/My Drive/content/sign_data\"\n",
        "    file_path = \"/content\"+img_name\n",
        "    plt.figure()\n",
        "    # Show your genreted images.\n",
        "    plt.imshow(img)\n",
        "    # Save to your selected directory.\n",
        "    plt.savefig(file_path)\n",
        "# Show your generated images.    \n",
        "plt.show()"
      ],
      "execution_count": 19,
      "outputs": [
        {
          "output_type": "display_data",
          "data": {
            "image/png": "[encoded data removed]",
            "text/plain": [
              "<Figure size 432x288 with 1 Axes>"
            ]
          },
          "metadata": {
            "needs_background": "light"
          }
        },
        {
          "output_type": "display_data",
          "data": {
            "image/png": "[encoded data removed]",
            "text/plain": [
              "<Figure size 432x288 with 1 Axes>"
            ]
          },
          "metadata": {
            "needs_background": "light"
          }
        },
        {
          "output_type": "display_data",
          "data": {
            "image/png": "[encoded data removed]",
            "text/plain": [
              "<Figure size 432x288 with 1 Axes>"
            ]
          },
          "metadata": {
            "needs_background": "light"
          }
        },
        {
          "output_type": "display_data",
          "data": {
            "image/png": "[encoded data removed]",
            "text/plain": [
              "<Figure size 432x288 with 1 Axes>"
            ]
          },
          "metadata": {
            "needs_background": "light"
          }
        },
        {
          "output_type": "display_data",
          "data": {
            "image/png": "[encoded data removed]",
            "text/plain": [
              "<Figure size 432x288 with 1 Axes>"
            ]
          },
          "metadata": {
            "needs_background": "light"
          }
        },
        {
          "output_type": "display_data",
          "data": {
            "image/png": "[encoded data removed]",
            "text/plain": [
              "<Figure size 432x288 with 1 Axes>"
            ]
          },
          "metadata": {
            "needs_background": "light"
          }
        },
        {
          "output_type": "display_data",
          "data": {
            "image/png": "[encoded data removed]",
            "text/plain": [
              "<Figure size 432x288 with 1 Axes>"
            ]
          },
          "metadata": {
            "needs_background": "light"
          }
        },
        {
          "output_type": "display_data",
          "data": {
            "image/png": "[encoded data removed]",
            "text/plain": [
              "<Figure size 432x288 with 1 Axes>"
            ]
          },
          "metadata": {
            "needs_background": "light"
          }
        },
        {
          "output_type": "display_data",
          "data": {
            "image/png": "[encoded data removed]",
            "text/plain": [
              "<Figure size 432x288 with 1 Axes>"
            ]
          },
          "metadata": {
            "needs_background": "light"
          }
        },
        {
          "output_type": "display_data",
          "data": {
            "image/png": "[encoded data removed]",
            "text/plain": [
              "<Figure size 432x288 with 1 Axes>"
            ]
          },
          "metadata": {
            "needs_background": "light"
          }
        }
      ]
    },
    {
      "cell_type": "markdown",
      "metadata": {
        "id": "t6UoKFdGdFq3"
      },
      "source": [
        "Please interpret your results here based on the balanced point, fidelity, and diversity. If you did not improve the results, please interpret what you have. \n",
        "\n"
      ]
    },
    {
      "cell_type": "markdown",
      "metadata": {
        "id": "XPkSIrKOdaXp"
      },
      "source": [
        "***Comments and Answers:***\n",
        "The generated signatures look not that good, but at least we can see the outlines, and they are quite different."
      ]
    }
  ]
}