{
  "nbformat": 4,
  "nbformat_minor": 0,
  "metadata": {
    "colab": {
      "name": "Lab-based Group Assignment 1.ipynb",
      "provenance": [],
      "collapsed_sections": []
    },
    "kernelspec": {
      "display_name": "Python 3",
      "language": "python",
      "name": "python3"
    },
    "language_info": {
      "codemirror_mode": {
        "name": "ipython",
        "version": 3
      },
      "file_extension": ".py",
      "mimetype": "text/x-python",
      "name": "python",
      "nbconvert_exporter": "python",
      "pygments_lexer": "ipython3",
      "version": "3.7.3"
    }
  },
  "cells": [
    {
      "cell_type": "markdown",
      "metadata": {
        "id": "sxnVgl0JvOgS"
      },
      "source": [
        "# Lab-based Group Assignment 1: \n",
        "## Prediction of Loyalty of Credit Applications for Risky Customers"
      ]
    },
    {
      "cell_type": "markdown",
      "metadata": {
        "id": "vsNLRgyDomPQ"
      },
      "source": [
        "<div class=\"LI-profile-badge\"  data-version=\"v1\" data-size=\"large\" data-locale=\"en_US\" data-type=\"horizontal\" data-theme=\"light\" data-vanity=\"drsalihtutun\"><a class=\"LI-simple-link\" href='https://www.linkedin.com/in/drsalihtutun/en-us?trk=profile-badge'>Salih Tutun, PhD</a></div>"
      ]
    },
    {
      "cell_type": "markdown",
      "metadata": {
        "id": "RiaMErG_njwv"
      },
      "source": [
        "### Fundamentals of Deep Neural Networks"
      ]
    },
    {
      "cell_type": "markdown",
      "metadata": {
        "id": "dr04_snkT4Is"
      },
      "source": [
        "![Imgur](https://i.imgur.com/4HJknC2.png)"
      ]
    },
    {
      "cell_type": "markdown",
      "metadata": {
        "id": "FKwXuCoVbmw4"
      },
      "source": [
        "![Imgur](https://i.imgur.com/eUUHWKJ.png)"
      ]
    },
    {
      "cell_type": "markdown",
      "metadata": {
        "id": "0VxmH0F4np1j"
      },
      "source": [
        "Two Main Topics Related to Artificial Neural Networks:\n",
        "\n",
        "- Forward Propagation\n",
        "- Backpropagation"
      ]
    },
    {
      "cell_type": "markdown",
      "metadata": {
        "id": "XDH_b_Npn202"
      },
      "source": [
        "#### Representation Learning"
      ]
    },
    {
      "cell_type": "markdown",
      "metadata": {
        "id": "5yyZqEDDns__"
      },
      "source": [
        "![Imgur](https://i.imgur.com/VUVEXi2.png)"
      ]
    },
    {
      "cell_type": "markdown",
      "metadata": {
        "id": "q1bu8MfsqWym"
      },
      "source": [
        "#### Basic Structure"
      ]
    },
    {
      "cell_type": "markdown",
      "metadata": {
        "id": "DnNicwn4oNHB"
      },
      "source": [
        "![Imgur](https://i.imgur.com/mrGDtkM.png)"
      ]
    },
    {
      "cell_type": "markdown",
      "metadata": {
        "id": "5qnLg05-oIwo"
      },
      "source": [
        "#### The Perceptron: Forward Propagation"
      ]
    },
    {
      "cell_type": "markdown",
      "metadata": {
        "id": "iavJY96_oGGe"
      },
      "source": [
        "![Imgur](https://i.imgur.com/rUL3Uz0.png)"
      ]
    },
    {
      "cell_type": "markdown",
      "metadata": {
        "id": "bJuesW2DjdxY"
      },
      "source": [
        "![Imgur](https://i.imgur.com/tH0M8oO.png)"
      ]
    },
    {
      "cell_type": "markdown",
      "metadata": {
        "id": "iudrhG8tvOgW"
      },
      "source": [
        "### Business Problem\n",
        "\n",
        "<font color='green'>Understand the uncertain loyalty level (for payment difficulties) of customers given his/her background information collected in the application process. </font>"
      ]
    },
    {
      "cell_type": "markdown",
      "metadata": {
        "id": "LWMDOSvrvOgV"
      },
      "source": [
        "### Business Objectives\n",
        "\n",
        "This application aims to identify patterns that indicate <font color='green'>if a customer has difficulty paying their installments</font> which may be used for taking actions such as denying the loan, reducing the amount of loan, lending (to risky applicants) at a higher interest rate, etc. And this will ensure that the consumers capable of repaying the loan will not be rejected.\n"
      ]
    },
    {
      "cell_type": "markdown",
      "metadata": {
        "id": "7h6xO-5KvOgT"
      },
      "source": [
        "![Imgur](https://i.imgur.com/tyqhhLR.png)\n",
        "\n",
        "**Credit:** Investopedia"
      ]
    },
    {
      "cell_type": "code",
      "metadata": {
        "id": "66O9bQeLEZIY",
        "colab": {
          "base_uri": "https://localhost:8080/"
        },
        "outputId": "b76825e7-de46-460a-cdac-55703c4165bb"
      },
      "source": [
        "#Mount with Google Drive\n",
        "from google.colab import drive\n",
        "drive.mount('/content/drive')"
      ],
      "execution_count": 2,
      "outputs": [
        {
          "output_type": "stream",
          "name": "stdout",
          "text": [
            "Mounted at /content/drive\n"
          ]
        }
      ]
    },
    {
      "cell_type": "markdown",
      "metadata": {
        "id": "6-F0RJgxPCPm"
      },
      "source": [
        "\n",
        "\n",
        "### <font color='red'>**Q1: Please explore the given dataset** </font>"
      ]
    },
    {
      "cell_type": "markdown",
      "metadata": {
        "id": "n5LC_8IuvOgX"
      },
      "source": [
        "Read the dataset"
      ]
    },
    {
      "cell_type": "code",
      "metadata": {
        "id": "MwC4kpiovOgZ",
        "scrolled": true
      },
      "source": [
        "# Import the dataset named 'credit_data.csv' \n",
        "# The data is kind of large. Please only load the first 1000 rows. \n",
        "import pandas as pd  \n",
        "data = pd.read_csv('/content/drive/MyDrive/deep learning/Lab-based Group Assignment 1/credit_card.csv', nrows = 1000).drop(\"Car Owner\",axis=1)"
      ],
      "execution_count": 3,
      "outputs": []
    },
    {
      "cell_type": "code",
      "metadata": {
        "id": "kel7FIYzAtKu",
        "colab": {
          "base_uri": "https://localhost:8080/",
          "height": 388
        },
        "outputId": "00d44312-ece1-473f-c312-20c2dd61cc70"
      },
      "source": [
        "#Column Description is shown below\n",
        "pd.read_csv('/content/drive/MyDrive/deep learning/Lab-based Group Assignment 1/Credit Card Column Description.csv', sep = ';', index_col = 0)"
      ],
      "execution_count": null,
      "outputs": [
        {
          "output_type": "execute_result",
          "data": {
            "text/html": [
              "<div>\n",
              "<style scoped>\n",
              "    .dataframe tbody tr th:only-of-type {\n",
              "        vertical-align: middle;\n",
              "    }\n",
              "\n",
              "    .dataframe tbody tr th {\n",
              "        vertical-align: top;\n",
              "    }\n",
              "\n",
              "    .dataframe thead th {\n",
              "        text-align: right;\n",
              "    }\n",
              "</style>\n",
              "<table border=\"1\" class=\"dataframe\">\n",
              "  <thead>\n",
              "    <tr style=\"text-align: right;\">\n",
              "      <th></th>\n",
              "      <th>Description</th>\n",
              "    </tr>\n",
              "    <tr>\n",
              "      <th>Column Name</th>\n",
              "      <th></th>\n",
              "    </tr>\n",
              "  </thead>\n",
              "  <tbody>\n",
              "    <tr>\n",
              "      <th>Mobile Phone</th>\n",
              "      <td>(0,1) 1: Client provided Mobile phone</td>\n",
              "    </tr>\n",
              "    <tr>\n",
              "      <th>Work Phone</th>\n",
              "      <td>(0,1) 1: Client provided Work phone</td>\n",
              "    </tr>\n",
              "    <tr>\n",
              "      <th>Correct Phone Number</th>\n",
              "      <td>(0,1) 1: Phone numbers provided are reachable</td>\n",
              "    </tr>\n",
              "    <tr>\n",
              "      <th>City Rating</th>\n",
              "      <td>(1,2,3) 1 is the best</td>\n",
              "    </tr>\n",
              "    <tr>\n",
              "      <th>Region Rating</th>\n",
              "      <td>(1,2,3) 1 is the best</td>\n",
              "    </tr>\n",
              "    <tr>\n",
              "      <th>House Owner</th>\n",
              "      <td>(0,1) 1: Client owns certain real estate</td>\n",
              "    </tr>\n",
              "    <tr>\n",
              "      <th>Car Owner</th>\n",
              "      <td>(0,1) 1: Client owns a car</td>\n",
              "    </tr>\n",
              "    <tr>\n",
              "      <th>Income</th>\n",
              "      <td>Income of the client</td>\n",
              "    </tr>\n",
              "    <tr>\n",
              "      <th>Document</th>\n",
              "      <td>(0,1) 1: Client provided additional document</td>\n",
              "    </tr>\n",
              "    <tr>\n",
              "      <th>Target</th>\n",
              "      <td>(0,1) 1: Client with payment difficulties</td>\n",
              "    </tr>\n",
              "  </tbody>\n",
              "</table>\n",
              "</div>"
            ],
            "text/plain": [
              "                                                         Description\n",
              "Column Name                                                         \n",
              "Mobile Phone                  (0,1) 1: Client provided Mobile phone \n",
              "Work Phone                      (0,1) 1: Client provided Work phone \n",
              "Correct Phone Number  (0,1) 1: Phone numbers provided are reachable \n",
              "City Rating                                    (1,2,3) 1 is the best\n",
              "Region Rating              (1,2,3) 1 is the best                    \n",
              "House Owner                 (0,1) 1: Client owns certain real estate\n",
              "Car Owner                                 (0,1) 1: Client owns a car\n",
              "Income                                          Income of the client\n",
              "Document                (0,1) 1: Client provided additional document\n",
              "Target                     (0,1) 1: Client with payment difficulties"
            ]
          },
          "metadata": {},
          "execution_count": 3
        }
      ]
    },
    {
      "cell_type": "code",
      "metadata": {
        "id": "ismFosO9AtKl",
        "colab": {
          "base_uri": "https://localhost:8080/",
          "height": 357
        },
        "outputId": "68caa66a-3a2f-4217-eded-c3933eabb758"
      },
      "source": [
        "#View the head of the data\n",
        "data.head(10) "
      ],
      "execution_count": 4,
      "outputs": [
        {
          "output_type": "execute_result",
          "data": {
            "text/html": [
              "<div>\n",
              "<style scoped>\n",
              "    .dataframe tbody tr th:only-of-type {\n",
              "        vertical-align: middle;\n",
              "    }\n",
              "\n",
              "    .dataframe tbody tr th {\n",
              "        vertical-align: top;\n",
              "    }\n",
              "\n",
              "    .dataframe thead th {\n",
              "        text-align: right;\n",
              "    }\n",
              "</style>\n",
              "<table border=\"1\" class=\"dataframe\">\n",
              "  <thead>\n",
              "    <tr style=\"text-align: right;\">\n",
              "      <th></th>\n",
              "      <th>Mobile Phone</th>\n",
              "      <th>Work Phone</th>\n",
              "      <th>Correct Phone Number</th>\n",
              "      <th>City Rating</th>\n",
              "      <th>Region Rating</th>\n",
              "      <th>House Owner</th>\n",
              "      <th>Income</th>\n",
              "      <th>Document</th>\n",
              "      <th>Target</th>\n",
              "    </tr>\n",
              "  </thead>\n",
              "  <tbody>\n",
              "    <tr>\n",
              "      <th>0</th>\n",
              "      <td>1</td>\n",
              "      <td>1</td>\n",
              "      <td>1</td>\n",
              "      <td>2</td>\n",
              "      <td>2</td>\n",
              "      <td>1</td>\n",
              "      <td>1</td>\n",
              "      <td>1</td>\n",
              "      <td>0</td>\n",
              "    </tr>\n",
              "    <tr>\n",
              "      <th>1</th>\n",
              "      <td>1</td>\n",
              "      <td>1</td>\n",
              "      <td>1</td>\n",
              "      <td>1</td>\n",
              "      <td>1</td>\n",
              "      <td>0</td>\n",
              "      <td>0</td>\n",
              "      <td>1</td>\n",
              "      <td>0</td>\n",
              "    </tr>\n",
              "    <tr>\n",
              "      <th>2</th>\n",
              "      <td>1</td>\n",
              "      <td>1</td>\n",
              "      <td>1</td>\n",
              "      <td>2</td>\n",
              "      <td>2</td>\n",
              "      <td>1</td>\n",
              "      <td>0</td>\n",
              "      <td>0</td>\n",
              "      <td>1</td>\n",
              "    </tr>\n",
              "    <tr>\n",
              "      <th>3</th>\n",
              "      <td>1</td>\n",
              "      <td>1</td>\n",
              "      <td>1</td>\n",
              "      <td>2</td>\n",
              "      <td>2</td>\n",
              "      <td>1</td>\n",
              "      <td>0</td>\n",
              "      <td>1</td>\n",
              "      <td>0</td>\n",
              "    </tr>\n",
              "    <tr>\n",
              "      <th>4</th>\n",
              "      <td>1</td>\n",
              "      <td>1</td>\n",
              "      <td>1</td>\n",
              "      <td>2</td>\n",
              "      <td>2</td>\n",
              "      <td>1</td>\n",
              "      <td>0</td>\n",
              "      <td>0</td>\n",
              "      <td>0</td>\n",
              "    </tr>\n",
              "    <tr>\n",
              "      <th>5</th>\n",
              "      <td>1</td>\n",
              "      <td>1</td>\n",
              "      <td>1</td>\n",
              "      <td>2</td>\n",
              "      <td>2</td>\n",
              "      <td>1</td>\n",
              "      <td>0</td>\n",
              "      <td>1</td>\n",
              "      <td>0</td>\n",
              "    </tr>\n",
              "    <tr>\n",
              "      <th>6</th>\n",
              "      <td>1</td>\n",
              "      <td>1</td>\n",
              "      <td>1</td>\n",
              "      <td>2</td>\n",
              "      <td>2</td>\n",
              "      <td>1</td>\n",
              "      <td>0</td>\n",
              "      <td>0</td>\n",
              "      <td>1</td>\n",
              "    </tr>\n",
              "    <tr>\n",
              "      <th>7</th>\n",
              "      <td>1</td>\n",
              "      <td>1</td>\n",
              "      <td>1</td>\n",
              "      <td>3</td>\n",
              "      <td>3</td>\n",
              "      <td>1</td>\n",
              "      <td>0</td>\n",
              "      <td>1</td>\n",
              "      <td>1</td>\n",
              "    </tr>\n",
              "    <tr>\n",
              "      <th>8</th>\n",
              "      <td>1</td>\n",
              "      <td>0</td>\n",
              "      <td>1</td>\n",
              "      <td>2</td>\n",
              "      <td>2</td>\n",
              "      <td>1</td>\n",
              "      <td>0</td>\n",
              "      <td>1</td>\n",
              "      <td>0</td>\n",
              "    </tr>\n",
              "    <tr>\n",
              "      <th>9</th>\n",
              "      <td>1</td>\n",
              "      <td>1</td>\n",
              "      <td>1</td>\n",
              "      <td>2</td>\n",
              "      <td>2</td>\n",
              "      <td>1</td>\n",
              "      <td>0</td>\n",
              "      <td>0</td>\n",
              "      <td>0</td>\n",
              "    </tr>\n",
              "  </tbody>\n",
              "</table>\n",
              "</div>"
            ],
            "text/plain": [
              "   Mobile Phone  Work Phone  Correct Phone Number  ...  Income  Document  Target\n",
              "0             1           1                     1  ...       1         1       0\n",
              "1             1           1                     1  ...       0         1       0\n",
              "2             1           1                     1  ...       0         0       1\n",
              "3             1           1                     1  ...       0         1       0\n",
              "4             1           1                     1  ...       0         0       0\n",
              "5             1           1                     1  ...       0         1       0\n",
              "6             1           1                     1  ...       0         0       1\n",
              "7             1           1                     1  ...       0         1       1\n",
              "8             1           0                     1  ...       0         1       0\n",
              "9             1           1                     1  ...       0         0       0\n",
              "\n",
              "[10 rows x 9 columns]"
            ]
          },
          "metadata": {},
          "execution_count": 4
        }
      ]
    },
    {
      "cell_type": "code",
      "metadata": {
        "id": "M5VGSyzBAtKo",
        "colab": {
          "base_uri": "https://localhost:8080/",
          "height": 295
        },
        "outputId": "4d84cde9-64c1-4818-e373-d96580ba8cf5"
      },
      "source": [
        "#View the main statistics of the data columns\n",
        "#You may use DataFrame.description() method\n",
        "data.describe()"
      ],
      "execution_count": 5,
      "outputs": [
        {
          "output_type": "execute_result",
          "data": {
            "text/html": [
              "<div>\n",
              "<style scoped>\n",
              "    .dataframe tbody tr th:only-of-type {\n",
              "        vertical-align: middle;\n",
              "    }\n",
              "\n",
              "    .dataframe tbody tr th {\n",
              "        vertical-align: top;\n",
              "    }\n",
              "\n",
              "    .dataframe thead th {\n",
              "        text-align: right;\n",
              "    }\n",
              "</style>\n",
              "<table border=\"1\" class=\"dataframe\">\n",
              "  <thead>\n",
              "    <tr style=\"text-align: right;\">\n",
              "      <th></th>\n",
              "      <th>Mobile Phone</th>\n",
              "      <th>Work Phone</th>\n",
              "      <th>Correct Phone Number</th>\n",
              "      <th>City Rating</th>\n",
              "      <th>Region Rating</th>\n",
              "      <th>House Owner</th>\n",
              "      <th>Income</th>\n",
              "      <th>Document</th>\n",
              "      <th>Target</th>\n",
              "    </tr>\n",
              "  </thead>\n",
              "  <tbody>\n",
              "    <tr>\n",
              "      <th>count</th>\n",
              "      <td>1000.0</td>\n",
              "      <td>1000.000000</td>\n",
              "      <td>1000.000000</td>\n",
              "      <td>1000.000000</td>\n",
              "      <td>1000.000000</td>\n",
              "      <td>1000.000000</td>\n",
              "      <td>1000.000000</td>\n",
              "      <td>1000.00000</td>\n",
              "      <td>1000.000000</td>\n",
              "    </tr>\n",
              "    <tr>\n",
              "      <th>mean</th>\n",
              "      <td>1.0</td>\n",
              "      <td>0.842000</td>\n",
              "      <td>0.997000</td>\n",
              "      <td>2.016000</td>\n",
              "      <td>2.042000</td>\n",
              "      <td>0.707000</td>\n",
              "      <td>0.070000</td>\n",
              "      <td>0.72300</td>\n",
              "      <td>0.335000</td>\n",
              "    </tr>\n",
              "    <tr>\n",
              "      <th>std</th>\n",
              "      <td>0.0</td>\n",
              "      <td>0.364924</td>\n",
              "      <td>0.054717</td>\n",
              "      <td>0.481639</td>\n",
              "      <td>0.492421</td>\n",
              "      <td>0.455366</td>\n",
              "      <td>0.255275</td>\n",
              "      <td>0.44774</td>\n",
              "      <td>0.472227</td>\n",
              "    </tr>\n",
              "    <tr>\n",
              "      <th>min</th>\n",
              "      <td>1.0</td>\n",
              "      <td>0.000000</td>\n",
              "      <td>0.000000</td>\n",
              "      <td>1.000000</td>\n",
              "      <td>1.000000</td>\n",
              "      <td>0.000000</td>\n",
              "      <td>0.000000</td>\n",
              "      <td>0.00000</td>\n",
              "      <td>0.000000</td>\n",
              "    </tr>\n",
              "    <tr>\n",
              "      <th>25%</th>\n",
              "      <td>1.0</td>\n",
              "      <td>1.000000</td>\n",
              "      <td>1.000000</td>\n",
              "      <td>2.000000</td>\n",
              "      <td>2.000000</td>\n",
              "      <td>0.000000</td>\n",
              "      <td>0.000000</td>\n",
              "      <td>0.00000</td>\n",
              "      <td>0.000000</td>\n",
              "    </tr>\n",
              "    <tr>\n",
              "      <th>50%</th>\n",
              "      <td>1.0</td>\n",
              "      <td>1.000000</td>\n",
              "      <td>1.000000</td>\n",
              "      <td>2.000000</td>\n",
              "      <td>2.000000</td>\n",
              "      <td>1.000000</td>\n",
              "      <td>0.000000</td>\n",
              "      <td>1.00000</td>\n",
              "      <td>0.000000</td>\n",
              "    </tr>\n",
              "    <tr>\n",
              "      <th>75%</th>\n",
              "      <td>1.0</td>\n",
              "      <td>1.000000</td>\n",
              "      <td>1.000000</td>\n",
              "      <td>2.000000</td>\n",
              "      <td>2.000000</td>\n",
              "      <td>1.000000</td>\n",
              "      <td>0.000000</td>\n",
              "      <td>1.00000</td>\n",
              "      <td>1.000000</td>\n",
              "    </tr>\n",
              "    <tr>\n",
              "      <th>max</th>\n",
              "      <td>1.0</td>\n",
              "      <td>1.000000</td>\n",
              "      <td>1.000000</td>\n",
              "      <td>3.000000</td>\n",
              "      <td>3.000000</td>\n",
              "      <td>1.000000</td>\n",
              "      <td>1.000000</td>\n",
              "      <td>1.00000</td>\n",
              "      <td>1.000000</td>\n",
              "    </tr>\n",
              "  </tbody>\n",
              "</table>\n",
              "</div>"
            ],
            "text/plain": [
              "       Mobile Phone   Work Phone  ...    Document       Target\n",
              "count        1000.0  1000.000000  ...  1000.00000  1000.000000\n",
              "mean            1.0     0.842000  ...     0.72300     0.335000\n",
              "std             0.0     0.364924  ...     0.44774     0.472227\n",
              "min             1.0     0.000000  ...     0.00000     0.000000\n",
              "25%             1.0     1.000000  ...     0.00000     0.000000\n",
              "50%             1.0     1.000000  ...     1.00000     0.000000\n",
              "75%             1.0     1.000000  ...     1.00000     1.000000\n",
              "max             1.0     1.000000  ...     1.00000     1.000000\n",
              "\n",
              "[8 rows x 9 columns]"
            ]
          },
          "metadata": {},
          "execution_count": 5
        }
      ]
    },
    {
      "cell_type": "code",
      "metadata": {
        "id": "RwqI3ZBPAtKr",
        "colab": {
          "base_uri": "https://localhost:8080/"
        },
        "outputId": "f656fad7-30d9-458a-bbdd-eb47da243521"
      },
      "source": [
        "#View the datatype of each column\n",
        "#You may use the DataFrame.info() method\n",
        "data.info()"
      ],
      "execution_count": 6,
      "outputs": [
        {
          "output_type": "stream",
          "name": "stdout",
          "text": [
            "<class 'pandas.core.frame.DataFrame'>\n",
            "RangeIndex: 1000 entries, 0 to 999\n",
            "Data columns (total 9 columns):\n",
            " #   Column                Non-Null Count  Dtype\n",
            "---  ------                --------------  -----\n",
            " 0   Mobile Phone          1000 non-null   int64\n",
            " 1   Work Phone            1000 non-null   int64\n",
            " 2   Correct Phone Number  1000 non-null   int64\n",
            " 3   City Rating           1000 non-null   int64\n",
            " 4   Region Rating         1000 non-null   int64\n",
            " 5   House Owner           1000 non-null   int64\n",
            " 6   Income                1000 non-null   int64\n",
            " 7   Document              1000 non-null   int64\n",
            " 8   Target                1000 non-null   int64\n",
            "dtypes: int64(9)\n",
            "memory usage: 70.4 KB\n"
          ]
        }
      ]
    },
    {
      "cell_type": "markdown",
      "metadata": {
        "id": "uL2g8eAePkBF"
      },
      "source": [
        "### <font color='red'>**Q2:Please prepare your dataset for the model** </font>"
      ]
    },
    {
      "cell_type": "code",
      "metadata": {
        "id": "A2yaoMG8vOgp",
        "colab": {
          "base_uri": "https://localhost:8080/",
          "height": 417
        },
        "outputId": "b8c12624-0088-4be9-ae45-7bfe60c29a02"
      },
      "source": [
        "#Split the data into training set (80%) and testing set (20%)\n",
        "import numpy as np\n",
        "\n",
        "#Get all index first\n",
        "all_index = np.array(data.index)\n",
        "\n",
        "\n",
        "#Randomly select 80% of the index as training index\n",
        "#You may use np.random.choice() to sample from a set\n",
        "train_index = np.random.choice(all_index,size=int(1000*0.8),replace=False)\n",
        "\n",
        " \n",
        "#Get the rest as the test index\n",
        "#You may use np.setdiff1d() to get the complement set\n",
        "test_index = np.setdiff1d(all_index,train_index)\n",
        "\n",
        "\n",
        "#Split the data using the split index\n",
        "train_data = data.loc[train_index,]\n",
        "test_data = data.loc[test_index,]\n",
        "test_data"
      ],
      "execution_count": 7,
      "outputs": [
        {
          "output_type": "execute_result",
          "data": {
            "text/html": [
              "<div>\n",
              "<style scoped>\n",
              "    .dataframe tbody tr th:only-of-type {\n",
              "        vertical-align: middle;\n",
              "    }\n",
              "\n",
              "    .dataframe tbody tr th {\n",
              "        vertical-align: top;\n",
              "    }\n",
              "\n",
              "    .dataframe thead th {\n",
              "        text-align: right;\n",
              "    }\n",
              "</style>\n",
              "<table border=\"1\" class=\"dataframe\">\n",
              "  <thead>\n",
              "    <tr style=\"text-align: right;\">\n",
              "      <th></th>\n",
              "      <th>Mobile Phone</th>\n",
              "      <th>Work Phone</th>\n",
              "      <th>Correct Phone Number</th>\n",
              "      <th>City Rating</th>\n",
              "      <th>Region Rating</th>\n",
              "      <th>House Owner</th>\n",
              "      <th>Income</th>\n",
              "      <th>Document</th>\n",
              "      <th>Target</th>\n",
              "    </tr>\n",
              "  </thead>\n",
              "  <tbody>\n",
              "    <tr>\n",
              "      <th>8</th>\n",
              "      <td>1</td>\n",
              "      <td>0</td>\n",
              "      <td>1</td>\n",
              "      <td>2</td>\n",
              "      <td>2</td>\n",
              "      <td>1</td>\n",
              "      <td>0</td>\n",
              "      <td>1</td>\n",
              "      <td>0</td>\n",
              "    </tr>\n",
              "    <tr>\n",
              "      <th>22</th>\n",
              "      <td>1</td>\n",
              "      <td>1</td>\n",
              "      <td>1</td>\n",
              "      <td>2</td>\n",
              "      <td>3</td>\n",
              "      <td>0</td>\n",
              "      <td>0</td>\n",
              "      <td>1</td>\n",
              "      <td>0</td>\n",
              "    </tr>\n",
              "    <tr>\n",
              "      <th>36</th>\n",
              "      <td>1</td>\n",
              "      <td>1</td>\n",
              "      <td>1</td>\n",
              "      <td>2</td>\n",
              "      <td>2</td>\n",
              "      <td>1</td>\n",
              "      <td>0</td>\n",
              "      <td>1</td>\n",
              "      <td>0</td>\n",
              "    </tr>\n",
              "    <tr>\n",
              "      <th>38</th>\n",
              "      <td>1</td>\n",
              "      <td>0</td>\n",
              "      <td>1</td>\n",
              "      <td>2</td>\n",
              "      <td>2</td>\n",
              "      <td>1</td>\n",
              "      <td>0</td>\n",
              "      <td>1</td>\n",
              "      <td>0</td>\n",
              "    </tr>\n",
              "    <tr>\n",
              "      <th>40</th>\n",
              "      <td>1</td>\n",
              "      <td>1</td>\n",
              "      <td>1</td>\n",
              "      <td>2</td>\n",
              "      <td>2</td>\n",
              "      <td>1</td>\n",
              "      <td>1</td>\n",
              "      <td>1</td>\n",
              "      <td>0</td>\n",
              "    </tr>\n",
              "    <tr>\n",
              "      <th>...</th>\n",
              "      <td>...</td>\n",
              "      <td>...</td>\n",
              "      <td>...</td>\n",
              "      <td>...</td>\n",
              "      <td>...</td>\n",
              "      <td>...</td>\n",
              "      <td>...</td>\n",
              "      <td>...</td>\n",
              "      <td>...</td>\n",
              "    </tr>\n",
              "    <tr>\n",
              "      <th>984</th>\n",
              "      <td>1</td>\n",
              "      <td>1</td>\n",
              "      <td>1</td>\n",
              "      <td>2</td>\n",
              "      <td>2</td>\n",
              "      <td>1</td>\n",
              "      <td>0</td>\n",
              "      <td>1</td>\n",
              "      <td>1</td>\n",
              "    </tr>\n",
              "    <tr>\n",
              "      <th>986</th>\n",
              "      <td>1</td>\n",
              "      <td>1</td>\n",
              "      <td>1</td>\n",
              "      <td>2</td>\n",
              "      <td>2</td>\n",
              "      <td>1</td>\n",
              "      <td>1</td>\n",
              "      <td>1</td>\n",
              "      <td>0</td>\n",
              "    </tr>\n",
              "    <tr>\n",
              "      <th>992</th>\n",
              "      <td>1</td>\n",
              "      <td>1</td>\n",
              "      <td>1</td>\n",
              "      <td>2</td>\n",
              "      <td>2</td>\n",
              "      <td>0</td>\n",
              "      <td>0</td>\n",
              "      <td>1</td>\n",
              "      <td>1</td>\n",
              "    </tr>\n",
              "    <tr>\n",
              "      <th>997</th>\n",
              "      <td>1</td>\n",
              "      <td>0</td>\n",
              "      <td>1</td>\n",
              "      <td>2</td>\n",
              "      <td>2</td>\n",
              "      <td>1</td>\n",
              "      <td>0</td>\n",
              "      <td>1</td>\n",
              "      <td>1</td>\n",
              "    </tr>\n",
              "    <tr>\n",
              "      <th>998</th>\n",
              "      <td>1</td>\n",
              "      <td>1</td>\n",
              "      <td>1</td>\n",
              "      <td>2</td>\n",
              "      <td>2</td>\n",
              "      <td>1</td>\n",
              "      <td>0</td>\n",
              "      <td>1</td>\n",
              "      <td>0</td>\n",
              "    </tr>\n",
              "  </tbody>\n",
              "</table>\n",
              "<p>200 rows × 9 columns</p>\n",
              "</div>"
            ],
            "text/plain": [
              "     Mobile Phone  Work Phone  Correct Phone Number  ...  Income  Document  Target\n",
              "8               1           0                     1  ...       0         1       0\n",
              "22              1           1                     1  ...       0         1       0\n",
              "36              1           1                     1  ...       0         1       0\n",
              "38              1           0                     1  ...       0         1       0\n",
              "40              1           1                     1  ...       1         1       0\n",
              "..            ...         ...                   ...  ...     ...       ...     ...\n",
              "984             1           1                     1  ...       0         1       1\n",
              "986             1           1                     1  ...       1         1       0\n",
              "992             1           1                     1  ...       0         1       1\n",
              "997             1           0                     1  ...       0         1       1\n",
              "998             1           1                     1  ...       0         1       0\n",
              "\n",
              "[200 rows x 9 columns]"
            ]
          },
          "metadata": {},
          "execution_count": 7
        }
      ]
    },
    {
      "cell_type": "markdown",
      "metadata": {
        "id": "hqhrHKkkXZuA"
      },
      "source": [
        "### <font color='red'>**Q3:Please define your activation functions and initialize the weights of the model** </font>"
      ]
    },
    {
      "cell_type": "code",
      "metadata": {
        "id": "KGeS6yugmp27"
      },
      "source": [
        "#Build your own neural network below and print out the MSE\n",
        "#If you meet difficulty, feel free to refer to \"M1.6. Building Neural Networks.ipynb\" \n",
        "\n",
        "#Define a non-linear function first\n",
        "#Don't forget to define the first order derivative of your non-linear function\n",
        "#To combine them together, we may add a parameter in the non-linear function\n",
        "\n",
        "import numpy as np\n",
        "\n",
        "def relu(x,deriv=False):\n",
        "    if(deriv==True):\n",
        "        \n",
        "        #return the first order derivative\n",
        "        return x>0\n",
        "    \n",
        "    #return the function\n",
        "    return (x>0)*x\n",
        "\n",
        "def sigm(x,deriv=False):\n",
        "    if(deriv==True):\n",
        "        return x*(1-x)\n",
        "\n",
        "    return 1/(1+np.exp(-x))"
      ],
      "execution_count": 8,
      "outputs": []
    },
    {
      "cell_type": "markdown",
      "metadata": {
        "id": "uPqZNhRi_DCm"
      },
      "source": [
        "![Imgur](https://i.imgur.com/Abvcaru.png[/img])\n",
        "\n",
        " **Credit:** Stack Abuse"
      ]
    },
    {
      "cell_type": "markdown",
      "metadata": {
        "id": "YZV-AEwphlcN"
      },
      "source": [
        "![Imgur](https://i.imgur.com/9TVc4LU.png)"
      ]
    },
    {
      "cell_type": "code",
      "metadata": {
        "id": "GGjFQpagms0a",
        "colab": {
          "base_uri": "https://localhost:8080/"
        },
        "outputId": "2c672e35-17d1-47bb-9e79-bf34b23a7c2d"
      },
      "source": [
        "#What is your X value?\n",
        "X = train_data.iloc[:,0:-1].values  # we can call X as a0 as well. \n",
        "    \n",
        "#What is your y value?\n",
        "y = train_data.iloc[:,-1].values\n",
        "# You need to reshape your y data into a 2-dimensional array\n",
        "y = np.reshape(y,(train_data.shape[0],1)) \n",
        "\n",
        "    \n",
        "# randomly initialize our weights with as 2x-1\n",
        "w0 = 2*np.random.random((8,10)) - 1\n",
        "w1 = 2*np.random.random((10,1)) - 1\n",
        "\n",
        "w0, w1"
      ],
      "execution_count": 9,
      "outputs": [
        {
          "output_type": "execute_result",
          "data": {
            "text/plain": [
              "(array([[ 0.06352819, -0.4167156 ,  0.34930904,  0.57962177, -0.99683193,\n",
              "         -0.6221822 ,  0.8795499 ,  0.47772025,  0.81644014, -0.08246533],\n",
              "        [ 0.5687986 ,  0.3066922 ,  0.13491027,  0.29701292, -0.21600896,\n",
              "         -0.65624729, -0.80738156,  0.89406976, -0.30291338, -0.8681682 ],\n",
              "        [ 0.87902692,  0.8386504 , -0.0373842 ,  0.25844068,  0.33532568,\n",
              "          0.1103794 ,  0.6106367 ,  0.58756598,  0.57288559, -0.88494959],\n",
              "        [ 0.210733  , -0.12870112,  0.91685869, -0.65594305,  0.76935946,\n",
              "          0.48273047,  0.31993236, -0.91069961, -0.7305561 , -0.0528605 ],\n",
              "        [ 0.28176775, -0.63054649, -0.7259348 , -0.49553082, -0.21774299,\n",
              "         -0.66712715, -0.86717333, -0.63006297,  0.13945659, -0.91924676],\n",
              "        [-0.40777862,  0.62602055,  0.37043969, -0.84381701,  0.19607009,\n",
              "         -0.04382255,  0.2038123 , -0.07938732, -0.98810306,  0.36828396],\n",
              "        [-0.09980093, -0.88645214,  0.15917753,  0.89201703, -0.08555341,\n",
              "          0.54358163,  0.96221375,  0.52186214, -0.35829822,  0.91841246],\n",
              "        [ 0.726226  , -0.4284235 , -0.76632987, -0.40385511, -0.38073205,\n",
              "         -0.25858874,  0.03553236, -0.74842898,  0.35125529,  0.21723793]]),\n",
              " array([[-0.04017586],\n",
              "        [ 0.64233425],\n",
              "        [ 0.93211652],\n",
              "        [ 0.21455818],\n",
              "        [ 0.21550219],\n",
              "        [-0.3835947 ],\n",
              "        [-0.83100725],\n",
              "        [ 0.64947738],\n",
              "        [ 0.0796959 ],\n",
              "        [-0.97302892]]))"
            ]
          },
          "metadata": {},
          "execution_count": 9
        }
      ]
    },
    {
      "cell_type": "markdown",
      "metadata": {
        "id": "CjdFPJp0Oa7Q"
      },
      "source": [
        "![Imgur](https://i.imgur.com/xHUsUqU.png)"
      ]
    },
    {
      "cell_type": "markdown",
      "metadata": {
        "id": "G4_I9RceXnUB"
      },
      "source": [
        "### <font color='red'>**Q4:Please train your neural networks** </font>"
      ]
    },
    {
      "cell_type": "code",
      "metadata": {
        "id": "eh-MHBlrGT2Y",
        "colab": {
          "base_uri": "https://localhost:8080/"
        },
        "outputId": "f49aff79-1116-483f-f1b0-13eada71a4e4"
      },
      "source": [
        "\n",
        "#Write a long enough loop to train your model and minimize the cost\n",
        "\n",
        "for j in range(60000):\n",
        "    \n",
        "    # Feed forward through layers 0, 1, and 2\n",
        "    a0 = X\n",
        "    a1 = sigm(np.dot(a0,w0))\n",
        "    a2 = sigm(np.dot(a1,w1))\n",
        "\n",
        "    # how much did we miss the target value?\n",
        "    a2_error = y - a2\n",
        "        \n",
        "    # in what direction is the target value?\n",
        "    # were we really sure? if so, don't change too much.\n",
        "    a2_delta = a2_error*sigm(a2,deriv=True)\n",
        "\n",
        "    # how much did each a1 value contribute to the a2 error (according to the weights)?\n",
        "    a1_error = a2_delta.dot(w1.T)\n",
        "    \n",
        "    # in what direction is the target l1?\n",
        "    # were we really sure? if so, don't change too much.\n",
        "    a1_delta = a1_error * sigm(a1,deriv=True)\n",
        "\n",
        "    w1 += a1.T.dot(a2_delta)\n",
        "    w0 += a0.T.dot(a1_delta)\n",
        "\n",
        "#Let's convert the probability into binary result\n",
        "#1 means correct prediction; 0 means mistake\n",
        "train_result = [1 if np.abs(e) < 0.5 else 0 for e in a2_error]\n",
        "\n",
        "#what is our training accuracy\n",
        "np.mean(train_result)\n"
      ],
      "execution_count": 10,
      "outputs": [
        {
          "output_type": "execute_result",
          "data": {
            "text/plain": [
              "0.68"
            ]
          },
          "metadata": {},
          "execution_count": 10
        }
      ]
    },
    {
      "cell_type": "code",
      "metadata": {
        "colab": {
          "base_uri": "https://localhost:8080/"
        },
        "id": "RhVGt3jRdPYV",
        "outputId": "f3b3bff1-9459-47d0-844b-6475da06d0f5"
      },
      "source": [
        "\n",
        "#Write a long enough loop to train your model and minimize the cost\n",
        "\n",
        "for j in range(60000):\n",
        "    \n",
        "    # Feed forward through layers 0, 1, and 2\n",
        "    a0 = X\n",
        "    a1 = relu(np.dot(a0,w0))\n",
        "    a2 = relu(np.dot(a1,w1))\n",
        "\n",
        "    # how much did we miss the target value?\n",
        "    a2_error = y - a2\n",
        "        \n",
        "    # in what direction is the target value?\n",
        "    # were we really sure? if so, don't change too much.\n",
        "    a2_delta = a2_error*relu(a2,deriv=True)\n",
        "\n",
        "    # how much did each a1 value contribute to the a2 error (according to the weights)?\n",
        "    a1_error = a2_delta.dot(w1.T)\n",
        "    \n",
        "    # in what direction is the target l1?\n",
        "    # were we really sure? if so, don't change too much.\n",
        "    a1_delta = a1_error * relu(a1,deriv=True)\n",
        "\n",
        "    w1 += a1.T.dot(a2_delta)\n",
        "    w0 += a0.T.dot(a1_delta)\n",
        "\n",
        "#Let's convert the probability into binary result\n",
        "#1 means correct prediction; 0 means mistake\n",
        "train_result = [1 if np.abs(e) < 0.5 else 0 for e in a2_error]\n",
        "\n",
        "#what is our training accuracy\n",
        "np.mean(train_result)"
      ],
      "execution_count": 11,
      "outputs": [
        {
          "output_type": "execute_result",
          "data": {
            "text/plain": [
              "0.68"
            ]
          },
          "metadata": {},
          "execution_count": 11
        }
      ]
    },
    {
      "cell_type": "markdown",
      "metadata": {
        "id": "htRn7MfYApAT"
      },
      "source": [
        "How can we add bias on the model"
      ]
    },
    {
      "cell_type": "code",
      "metadata": {
        "id": "JT-0zpSOAnm0",
        "colab": {
          "base_uri": "https://localhost:8080/"
        },
        "outputId": "5e6bafe9-a1ac-440c-e0f5-16e0eb499895"
      },
      "source": [
        "#Write a long enough loop to train your model and minimize the cost\n",
        "\n",
        "for j in range(60000):\n",
        "\n",
        "    bias = np.random.rand(1)\n",
        "    # Feed forward through layers 0, 1, and 2\n",
        "    a0 = X\n",
        "    a1 = sigm(np.dot(a0,w0)+bias)\n",
        "    a2 = sigm(np.dot(a1,w1)+bias)\n",
        "    \n",
        "\n",
        "    # how much did we miss the target value?\n",
        "    a2_error = y - a2\n",
        "        \n",
        "    # in what direction is the target value?\n",
        "    # were we really sure? if so, don't change too much.\n",
        "    a2_delta = a2_error*sigm(a2,deriv=True)\n",
        "\n",
        "    # how much did each a1 value contribute to the a2 error (according to the weights)?\n",
        "    a1_error = a2_delta.dot(w1.T)\n",
        "    \n",
        "    # in what direction is the target l1?\n",
        "    # were we really sure? if so, don't change too much.\n",
        "    a1_delta = a1_error * sigm(a1,deriv=True)\n",
        "\n",
        "    w1 += a1.T.dot(a2_delta)\n",
        "    w0 += a0.T.dot(a1_delta)\n",
        "\n",
        "#Let's convert the probability into binary result\n",
        "#1 means correct prediction; 0 means mistake\n",
        "train_result = [1 if np.abs(e) < 0.5 else 0 for e in a2_error]\n",
        "\n",
        "#what is our training accuracy\n",
        "np.mean(train_result)"
      ],
      "execution_count": 12,
      "outputs": [
        {
          "output_type": "execute_result",
          "data": {
            "text/plain": [
              "0.68"
            ]
          },
          "metadata": {},
          "execution_count": 12
        }
      ]
    },
    {
      "cell_type": "markdown",
      "metadata": {
        "id": "_HnlQ9jUBBrA"
      },
      "source": [
        "Please imagine how can we add new layer and improve the results?\n",
        "\n",
        "### ???"
      ]
    },
    {
      "cell_type": "code",
      "metadata": {
        "colab": {
          "base_uri": "https://localhost:8080/"
        },
        "id": "q3KFqPXCT1BU",
        "outputId": "10328f12-9dc5-4f24-c827-35336216048d"
      },
      "source": [
        "#Write a long enough loop to train your model and minimize the cost\n",
        "\n",
        "for j in range(60000):\n",
        "\n",
        "    bias = np.random.rand(1)\n",
        "    # Feed forward through layers 0, 1, and 2\n",
        "    a0 = X\n",
        "    a1 = relu(np.dot(a0,w0)+bias)\n",
        "    a2 = relu(np.dot(a1,w1)+bias)\n",
        "    \n",
        "\n",
        "    # how much did we miss the target value?\n",
        "    a2_error = y - a2\n",
        "        \n",
        "    # in what direction is the target value?\n",
        "    # were we really sure? if so, don't change too much.\n",
        "    a2_delta = a2_error*relu(a2,deriv=True)\n",
        "\n",
        "    # how much did each a1 value contribute to the a2 error (according to the weights)?\n",
        "    a1_error = a2_delta.dot(w1.T)\n",
        "    \n",
        "    # in what direction is the target l1?\n",
        "    # were we really sure? if so, don't change too much.\n",
        "    a1_delta = a1_error * relu(a1,deriv=True)\n",
        "\n",
        "    w1 += a1.T.dot(a2_delta)\n",
        "    w0 += a0.T.dot(a1_delta)\n",
        "\n",
        "#Let's convert the probability into binary result\n",
        "#1 means correct prediction; 0 means mistake\n",
        "train_result = [1 if np.abs(e) < 0.5 else 0 for e in a2_error]\n",
        "\n",
        "#what is our training accuracy\n",
        "np.mean(train_result)"
      ],
      "execution_count": 13,
      "outputs": [
        {
          "output_type": "execute_result",
          "data": {
            "text/plain": [
              "0.68"
            ]
          },
          "metadata": {},
          "execution_count": 13
        }
      ]
    },
    {
      "cell_type": "markdown",
      "metadata": {
        "id": "sVVIkJTgX2e-"
      },
      "source": [
        "### <font color='red'>**Q5:Please test your model with test dataset** </font>"
      ]
    },
    {
      "cell_type": "code",
      "metadata": {
        "id": "hkjrDzgbGrB5",
        "colab": {
          "base_uri": "https://localhost:8080/"
        },
        "outputId": "8cdb81f6-be22-451c-c1c5-9f0218fef3f3"
      },
      "source": [
        "#Define a function to get your test error\n",
        "#w0, w1 represent your trained model, test_data is your test data\n",
        "def my_net(w0, w1, test_data):\n",
        "\n",
        "    #Get your test data first\n",
        "    X = test_data.iloc[:,0:-1].values            \n",
        "    y = test_data.iloc[:,-1].values\n",
        "    y = np.reshape(y,(test_data.shape[0],1)) \n",
        "    \n",
        "    #Input your data in the first layer\n",
        "    a0 = X\n",
        "    \n",
        "    #Caculate the second layer\n",
        "    a1 = sigm(np.dot(a0,w0))\n",
        "    \n",
        "    #Caculate the third layer\n",
        "    a2 = sigm(np.dot(a1,w1))\n",
        "    \n",
        "    #What is your error?\n",
        "    a2_error = y - a2\n",
        "    \n",
        "    #Finally return your error\n",
        "    test_result = [1 if np.abs(e) < 0.5 else 0 for e in a2_error]\n",
        "    return np.mean(test_result)\n",
        "\n",
        "#Print the score\n",
        "my_score = my_net(w0, w1, test_data)\n",
        "print(\"Test Accuracy: \" + str(my_score))"
      ],
      "execution_count": 14,
      "outputs": [
        {
          "output_type": "stream",
          "name": "stdout",
          "text": [
            "Test Accuracy: 0.605\n"
          ]
        }
      ]
    },
    {
      "cell_type": "code",
      "metadata": {
        "colab": {
          "base_uri": "https://localhost:8080/"
        },
        "id": "ztHdFLPEUN2p",
        "outputId": "d0cb1aa6-e6bd-4931-bccf-e82df844011e"
      },
      "source": [
        "#Define a function to get your test error\n",
        "#w0, w1 represent your trained model, test_data is your test data\n",
        "def my_net(w0, w1, test_data):\n",
        "\n",
        "    #Get your test data first\n",
        "    X = test_data.iloc[:,0:-1].values            \n",
        "    y = test_data.iloc[:,-1].values\n",
        "    y = np.reshape(y,(test_data.shape[0],1)) \n",
        "    \n",
        "    #Input your data in the first layer\n",
        "    a0 = X\n",
        "    \n",
        "    #Caculate the second layer\n",
        "    a1 = relu(np.dot(a0,w0))\n",
        "    \n",
        "    #Caculate the third layer\n",
        "    a2 = relu(np.dot(a1,w1))\n",
        "    \n",
        "    #What is your error?\n",
        "    a2_error = y - a2\n",
        "    \n",
        "    #Finally return your error\n",
        "    test_result = [1 if np.abs(e) < 0.5 else 0 for e in a2_error]\n",
        "    return np.mean(test_result)\n",
        "\n",
        "#Print the score\n",
        "my_score = my_net(w0, w1, test_data)\n",
        "print(\"Test Accuracy: \" + str(my_score))"
      ],
      "execution_count": 15,
      "outputs": [
        {
          "output_type": "stream",
          "name": "stdout",
          "text": [
            "Test Accuracy: 0.605\n"
          ]
        }
      ]
    },
    {
      "cell_type": "markdown",
      "metadata": {
        "id": "jr4diQ2bo7Ny"
      },
      "source": [
        "If you have questions, please contact with me.\n",
        "\n",
        "Salih Tutun, PhD\n",
        "\n",
        "olin2deeplearning@gmail.com, salihtutun@wustl.edu"
      ]
    }
  ]
}