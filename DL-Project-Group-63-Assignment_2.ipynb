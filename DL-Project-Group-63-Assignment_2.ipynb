{
  "nbformat": 4,
  "nbformat_minor": 0,
  "metadata": {
    "orig_nbformat": 2,
    "deepnote_notebook_id": "fc30075b-d035-4a92-901d-48b19f00b1a6",
    "deepnote_execution_queue": [],
    "colab": {
      "name": "Lab-Based Group Assignment 2.ipynb",
      "provenance": [],
      "collapsed_sections": []
    },
    "kernelspec": {
      "name": "python3",
      "display_name": "Python 3"
    },
    "accelerator": "GPU"
  },
  "cells": [
    {
      "cell_type": "markdown",
      "metadata": {
        "id": "g58RiWKbubVa"
      },
      "source": [
        "# **DAT565E-Deep Learning for Prediction of Business Outcomes**"
      ]
    },
    {
      "cell_type": "markdown",
      "metadata": {
        "id": "WFZG5F7AuXM3"
      },
      "source": [
        "<div class=\"LI-profile-badge\"  data-version=\"v1\" data-size=\"large\" data-locale=\"en_US\" data-type=\"horizontal\" data-theme=\"light\" data-vanity=\"drsalihtutun\"><a class=\"LI-simple-link\" href='https://www.linkedin.com/in/drsalihtutun/en-us?trk=profile-badge'>Salih Tutun, PhD</a></div>"
      ]
    },
    {
      "cell_type": "markdown",
      "metadata": {
        "id": "FHoR-PCerhAN"
      },
      "source": [
        "![Imgur](https://i.imgur.com/4HJknC2.png)"
      ]
    },
    {
      "cell_type": "markdown",
      "metadata": {
        "id": "b31OA7fMueFe"
      },
      "source": [
        "# Lab-based Group Assignment 2:\n",
        "## Customer Churning Prediction in the Telecommunications Sector"
      ]
    },
    {
      "cell_type": "markdown",
      "metadata": {
        "tags": [],
        "cell_id": "00001-0f93a4fd-6b2c-4fe1-878f-263385719d95",
        "id": "90TpmaKcVTQ2"
      },
      "source": [
        "Tele-communication business suffers from customer churning. Those companies are especially interested in a customer churn early warning system. One of the most important components in such a system, is to predict whether a customer will churn with existing information. Companies are working hard to survive in this competitive market by using three main strategies:(1) acquire new customers, (2) upsell the existing customers, and (3) increase the retention period of customers. "
      ]
    },
    {
      "cell_type": "markdown",
      "metadata": {
        "id": "AIo-Y0F-VyNF"
      },
      "source": [
        "**Credit:** Ahmad, Abdelrahim Kasem, Assef Jafar, and Kadan Aljoumaa. \"Customer churn prediction in telecom using machine learning in big data platform.\" Journal of Big Data 6, no. 1 (2019): 28."
      ]
    },
    {
      "cell_type": "markdown",
      "metadata": {
        "tags": [],
        "cell_id": "00001-e7a0f509-e254-4e2b-9d6c-06583eb155d1",
        "id": "xWg6PNC8VTQ-"
      },
      "source": [
        "<img src=\"https://miro.medium.com/max/1400/1*Xap6OxaZvD7C7eMQKkaHYQ.jpeg\">"
      ]
    },
    {
      "cell_type": "markdown",
      "metadata": {
        "id": "IPW4z6PYp9x_"
      },
      "source": [
        "### Business Problem"
      ]
    },
    {
      "cell_type": "markdown",
      "metadata": {
        "tags": [],
        "cell_id": "00002-f83269f7-02c7-4cf9-9025-b947673f6c46",
        "id": "rf7kMlzVVTQ4"
      },
      "source": [
        "The problem is to detect the potential of customer’s churn for decreasing the potential of customer’s churn, known as “the customer movement from one provider to another”. Therefore, finding factors that increase customer churn is important to take necessary actions to reduce this churn."
      ]
    },
    {
      "cell_type": "markdown",
      "metadata": {
        "id": "wLnBXg2BCFJV"
      },
      "source": [
        "## Q1: Please read and load the dataset?"
      ]
    },
    {
      "cell_type": "code",
      "metadata": {
        "id": "VLj2WO5EoRcc",
        "colab": {
          "base_uri": "https://localhost:8080/"
        },
        "outputId": "bf3a32c5-b4e9-473d-a389-744c13dde680"
      },
      "source": [
        "# Mount with Google Drive\n",
        "\n",
        "from google.colab import drive\n",
        "drive.mount('/content/drive')"
      ],
      "execution_count": 2,
      "outputs": [
        {
          "output_type": "stream",
          "name": "stdout",
          "text": [
            "Mounted at /content/drive\n"
          ]
        }
      ]
    },
    {
      "cell_type": "markdown",
      "metadata": {
        "tags": [],
        "cell_id": "00002-8114fccd-052e-4f1d-af7e-a97e7849051a",
        "id": "ct5S6gu9VTQ_"
      },
      "source": [
        "Load Data"
      ]
    },
    {
      "cell_type": "code",
      "metadata": {
        "tags": [],
        "cell_id": "00000-b2c3ac94-aff0-4050-ace0-3200a0eefd98",
        "output_cleared": false,
        "source_hash": "f4ded9e6",
        "execution_millis": 10,
        "execution_start": 1605416432785,
        "id": "kPQNyvt4VTRB"
      },
      "source": [
        "import pandas as pd\n",
        "\n",
        "# read csv\n",
        "df = pd.read_csv(\"/content/drive/MyDrive/deep learning/Practice Files - Lab 2/churn.csv\")"
      ],
      "execution_count": 4,
      "outputs": []
    },
    {
      "cell_type": "code",
      "metadata": {
        "colab": {
          "base_uri": "https://localhost:8080/",
          "height": 453
        },
        "id": "tTpDNRzxug0R",
        "outputId": "6c39b5b1-eb96-4bc3-f69c-643f1c1d4811"
      },
      "source": [
        "df"
      ],
      "execution_count": null,
      "outputs": [
        {
          "output_type": "execute_result",
          "data": {
            "text/html": [
              "<div>\n",
              "<style scoped>\n",
              "    .dataframe tbody tr th:only-of-type {\n",
              "        vertical-align: middle;\n",
              "    }\n",
              "\n",
              "    .dataframe tbody tr th {\n",
              "        vertical-align: top;\n",
              "    }\n",
              "\n",
              "    .dataframe thead th {\n",
              "        text-align: right;\n",
              "    }\n",
              "</style>\n",
              "<table border=\"1\" class=\"dataframe\">\n",
              "  <thead>\n",
              "    <tr style=\"text-align: right;\">\n",
              "      <th></th>\n",
              "      <th>State</th>\n",
              "      <th>Account length</th>\n",
              "      <th>Area code</th>\n",
              "      <th>International plan</th>\n",
              "      <th>Voice mail plan</th>\n",
              "      <th>Number vmail messages</th>\n",
              "      <th>Total day minutes</th>\n",
              "      <th>Total day calls</th>\n",
              "      <th>Total day charge</th>\n",
              "      <th>Total eve minutes</th>\n",
              "      <th>Total eve calls</th>\n",
              "      <th>Total eve charge</th>\n",
              "      <th>Total night minutes</th>\n",
              "      <th>Total night calls</th>\n",
              "      <th>Total night charge</th>\n",
              "      <th>Total intl minutes</th>\n",
              "      <th>Total intl calls</th>\n",
              "      <th>Total intl charge</th>\n",
              "      <th>Customer service calls</th>\n",
              "      <th>Churn</th>\n",
              "    </tr>\n",
              "  </thead>\n",
              "  <tbody>\n",
              "    <tr>\n",
              "      <th>0</th>\n",
              "      <td>KS</td>\n",
              "      <td>128</td>\n",
              "      <td>415</td>\n",
              "      <td>No</td>\n",
              "      <td>Yes</td>\n",
              "      <td>25</td>\n",
              "      <td>265.1</td>\n",
              "      <td>110</td>\n",
              "      <td>45.07</td>\n",
              "      <td>197.4</td>\n",
              "      <td>99</td>\n",
              "      <td>16.78</td>\n",
              "      <td>244.7</td>\n",
              "      <td>91</td>\n",
              "      <td>11.01</td>\n",
              "      <td>10.0</td>\n",
              "      <td>3</td>\n",
              "      <td>2.70</td>\n",
              "      <td>1</td>\n",
              "      <td>False</td>\n",
              "    </tr>\n",
              "    <tr>\n",
              "      <th>1</th>\n",
              "      <td>OH</td>\n",
              "      <td>107</td>\n",
              "      <td>415</td>\n",
              "      <td>No</td>\n",
              "      <td>Yes</td>\n",
              "      <td>26</td>\n",
              "      <td>161.6</td>\n",
              "      <td>123</td>\n",
              "      <td>27.47</td>\n",
              "      <td>195.5</td>\n",
              "      <td>103</td>\n",
              "      <td>16.62</td>\n",
              "      <td>254.4</td>\n",
              "      <td>103</td>\n",
              "      <td>11.45</td>\n",
              "      <td>13.7</td>\n",
              "      <td>3</td>\n",
              "      <td>3.70</td>\n",
              "      <td>1</td>\n",
              "      <td>False</td>\n",
              "    </tr>\n",
              "    <tr>\n",
              "      <th>2</th>\n",
              "      <td>NJ</td>\n",
              "      <td>137</td>\n",
              "      <td>415</td>\n",
              "      <td>No</td>\n",
              "      <td>No</td>\n",
              "      <td>0</td>\n",
              "      <td>243.4</td>\n",
              "      <td>114</td>\n",
              "      <td>41.38</td>\n",
              "      <td>121.2</td>\n",
              "      <td>110</td>\n",
              "      <td>10.30</td>\n",
              "      <td>162.6</td>\n",
              "      <td>104</td>\n",
              "      <td>7.32</td>\n",
              "      <td>12.2</td>\n",
              "      <td>5</td>\n",
              "      <td>3.29</td>\n",
              "      <td>0</td>\n",
              "      <td>False</td>\n",
              "    </tr>\n",
              "    <tr>\n",
              "      <th>3</th>\n",
              "      <td>OH</td>\n",
              "      <td>84</td>\n",
              "      <td>408</td>\n",
              "      <td>Yes</td>\n",
              "      <td>No</td>\n",
              "      <td>0</td>\n",
              "      <td>299.4</td>\n",
              "      <td>71</td>\n",
              "      <td>50.90</td>\n",
              "      <td>61.9</td>\n",
              "      <td>88</td>\n",
              "      <td>5.26</td>\n",
              "      <td>196.9</td>\n",
              "      <td>89</td>\n",
              "      <td>8.86</td>\n",
              "      <td>6.6</td>\n",
              "      <td>7</td>\n",
              "      <td>1.78</td>\n",
              "      <td>2</td>\n",
              "      <td>False</td>\n",
              "    </tr>\n",
              "    <tr>\n",
              "      <th>4</th>\n",
              "      <td>OK</td>\n",
              "      <td>75</td>\n",
              "      <td>415</td>\n",
              "      <td>Yes</td>\n",
              "      <td>No</td>\n",
              "      <td>0</td>\n",
              "      <td>166.7</td>\n",
              "      <td>113</td>\n",
              "      <td>28.34</td>\n",
              "      <td>148.3</td>\n",
              "      <td>122</td>\n",
              "      <td>12.61</td>\n",
              "      <td>186.9</td>\n",
              "      <td>121</td>\n",
              "      <td>8.41</td>\n",
              "      <td>10.1</td>\n",
              "      <td>3</td>\n",
              "      <td>2.73</td>\n",
              "      <td>3</td>\n",
              "      <td>False</td>\n",
              "    </tr>\n",
              "    <tr>\n",
              "      <th>...</th>\n",
              "      <td>...</td>\n",
              "      <td>...</td>\n",
              "      <td>...</td>\n",
              "      <td>...</td>\n",
              "      <td>...</td>\n",
              "      <td>...</td>\n",
              "      <td>...</td>\n",
              "      <td>...</td>\n",
              "      <td>...</td>\n",
              "      <td>...</td>\n",
              "      <td>...</td>\n",
              "      <td>...</td>\n",
              "      <td>...</td>\n",
              "      <td>...</td>\n",
              "      <td>...</td>\n",
              "      <td>...</td>\n",
              "      <td>...</td>\n",
              "      <td>...</td>\n",
              "      <td>...</td>\n",
              "      <td>...</td>\n",
              "    </tr>\n",
              "    <tr>\n",
              "      <th>2661</th>\n",
              "      <td>SC</td>\n",
              "      <td>79</td>\n",
              "      <td>415</td>\n",
              "      <td>No</td>\n",
              "      <td>No</td>\n",
              "      <td>0</td>\n",
              "      <td>134.7</td>\n",
              "      <td>98</td>\n",
              "      <td>22.90</td>\n",
              "      <td>189.7</td>\n",
              "      <td>68</td>\n",
              "      <td>16.12</td>\n",
              "      <td>221.4</td>\n",
              "      <td>128</td>\n",
              "      <td>9.96</td>\n",
              "      <td>11.8</td>\n",
              "      <td>5</td>\n",
              "      <td>3.19</td>\n",
              "      <td>2</td>\n",
              "      <td>False</td>\n",
              "    </tr>\n",
              "    <tr>\n",
              "      <th>2662</th>\n",
              "      <td>AZ</td>\n",
              "      <td>192</td>\n",
              "      <td>415</td>\n",
              "      <td>No</td>\n",
              "      <td>Yes</td>\n",
              "      <td>36</td>\n",
              "      <td>156.2</td>\n",
              "      <td>77</td>\n",
              "      <td>26.55</td>\n",
              "      <td>215.5</td>\n",
              "      <td>126</td>\n",
              "      <td>18.32</td>\n",
              "      <td>279.1</td>\n",
              "      <td>83</td>\n",
              "      <td>12.56</td>\n",
              "      <td>9.9</td>\n",
              "      <td>6</td>\n",
              "      <td>2.67</td>\n",
              "      <td>2</td>\n",
              "      <td>False</td>\n",
              "    </tr>\n",
              "    <tr>\n",
              "      <th>2663</th>\n",
              "      <td>WV</td>\n",
              "      <td>68</td>\n",
              "      <td>415</td>\n",
              "      <td>No</td>\n",
              "      <td>No</td>\n",
              "      <td>0</td>\n",
              "      <td>231.1</td>\n",
              "      <td>57</td>\n",
              "      <td>39.29</td>\n",
              "      <td>153.4</td>\n",
              "      <td>55</td>\n",
              "      <td>13.04</td>\n",
              "      <td>191.3</td>\n",
              "      <td>123</td>\n",
              "      <td>8.61</td>\n",
              "      <td>9.6</td>\n",
              "      <td>4</td>\n",
              "      <td>2.59</td>\n",
              "      <td>3</td>\n",
              "      <td>False</td>\n",
              "    </tr>\n",
              "    <tr>\n",
              "      <th>2664</th>\n",
              "      <td>RI</td>\n",
              "      <td>28</td>\n",
              "      <td>510</td>\n",
              "      <td>No</td>\n",
              "      <td>No</td>\n",
              "      <td>0</td>\n",
              "      <td>180.8</td>\n",
              "      <td>109</td>\n",
              "      <td>30.74</td>\n",
              "      <td>288.8</td>\n",
              "      <td>58</td>\n",
              "      <td>24.55</td>\n",
              "      <td>191.9</td>\n",
              "      <td>91</td>\n",
              "      <td>8.64</td>\n",
              "      <td>14.1</td>\n",
              "      <td>6</td>\n",
              "      <td>3.81</td>\n",
              "      <td>2</td>\n",
              "      <td>False</td>\n",
              "    </tr>\n",
              "    <tr>\n",
              "      <th>2665</th>\n",
              "      <td>TN</td>\n",
              "      <td>74</td>\n",
              "      <td>415</td>\n",
              "      <td>No</td>\n",
              "      <td>Yes</td>\n",
              "      <td>25</td>\n",
              "      <td>234.4</td>\n",
              "      <td>113</td>\n",
              "      <td>39.85</td>\n",
              "      <td>265.9</td>\n",
              "      <td>82</td>\n",
              "      <td>22.60</td>\n",
              "      <td>241.4</td>\n",
              "      <td>77</td>\n",
              "      <td>10.86</td>\n",
              "      <td>13.7</td>\n",
              "      <td>4</td>\n",
              "      <td>3.70</td>\n",
              "      <td>0</td>\n",
              "      <td>False</td>\n",
              "    </tr>\n",
              "  </tbody>\n",
              "</table>\n",
              "<p>2666 rows × 20 columns</p>\n",
              "</div>"
            ],
            "text/plain": [
              "     State  Account length  ...  Customer service calls  Churn\n",
              "0       KS             128  ...                       1  False\n",
              "1       OH             107  ...                       1  False\n",
              "2       NJ             137  ...                       0  False\n",
              "3       OH              84  ...                       2  False\n",
              "4       OK              75  ...                       3  False\n",
              "...    ...             ...  ...                     ...    ...\n",
              "2661    SC              79  ...                       2  False\n",
              "2662    AZ             192  ...                       2  False\n",
              "2663    WV              68  ...                       3  False\n",
              "2664    RI              28  ...                       2  False\n",
              "2665    TN              74  ...                       0  False\n",
              "\n",
              "[2666 rows x 20 columns]"
            ]
          },
          "metadata": {
            "tags": []
          },
          "execution_count": 35
        }
      ]
    },
    {
      "cell_type": "markdown",
      "metadata": {
        "id": "G7LrXunnCQqP"
      },
      "source": [
        "## Q2: Please preprocess the dataset for the analysis?"
      ]
    },
    {
      "cell_type": "markdown",
      "metadata": {
        "tags": [],
        "cell_id": "00004-772790d9-69c3-4135-b171-a6819e58676e",
        "id": "Od3vxq4UVTRH"
      },
      "source": [
        "Preprocessing"
      ]
    },
    {
      "cell_type": "code",
      "metadata": {
        "tags": [],
        "cell_id": "00003-6d760188-2613-4802-b5da-228a054b7aec",
        "output_cleared": false,
        "source_hash": "26b46c30",
        "execution_millis": 105,
        "execution_start": 1605416435230,
        "id": "BJ5cAlV3VTRI"
      },
      "source": [
        "# Categorical -> dummy variables\n",
        "df=pd.concat([df,pd.get_dummies(df.State)],axis=1)\n",
        "\n",
        "# Categorical -> 0,1\n",
        "df.applymap(lambda x: 0 if x==\"No\" else (1 if x==\"Yes\" else x))\n",
        "\n",
        "# Drop the columns\n",
        "df.drop([\"State\",\"International plan\",\"Voice mail plan\"],axis=1,inplace=True)\n",
        "\n",
        "# Min-max scaling\n",
        "for col in df.columns[:16]:\n",
        "    df.loc[:,col]=(df.loc[:,col]-df.loc[:,col].min())/(df.loc[:,col].max()-df.loc[:,col].min())"
      ],
      "execution_count": 5,
      "outputs": []
    },
    {
      "cell_type": "code",
      "metadata": {
        "colab": {
          "base_uri": "https://localhost:8080/",
          "height": 473
        },
        "id": "Ymn3rPn4vSFX",
        "outputId": "406b882f-f72a-4c3a-8c59-ff058a3cc68b"
      },
      "source": [
        "df"
      ],
      "execution_count": null,
      "outputs": [
        {
          "output_type": "execute_result",
          "data": {
            "text/html": [
              "<div>\n",
              "<style scoped>\n",
              "    .dataframe tbody tr th:only-of-type {\n",
              "        vertical-align: middle;\n",
              "    }\n",
              "\n",
              "    .dataframe tbody tr th {\n",
              "        vertical-align: top;\n",
              "    }\n",
              "\n",
              "    .dataframe thead th {\n",
              "        text-align: right;\n",
              "    }\n",
              "</style>\n",
              "<table border=\"1\" class=\"dataframe\">\n",
              "  <thead>\n",
              "    <tr style=\"text-align: right;\">\n",
              "      <th></th>\n",
              "      <th>Account length</th>\n",
              "      <th>Area code</th>\n",
              "      <th>Number vmail messages</th>\n",
              "      <th>Total day minutes</th>\n",
              "      <th>Total day calls</th>\n",
              "      <th>Total day charge</th>\n",
              "      <th>Total eve minutes</th>\n",
              "      <th>Total eve calls</th>\n",
              "      <th>Total eve charge</th>\n",
              "      <th>Total night minutes</th>\n",
              "      <th>Total night calls</th>\n",
              "      <th>Total night charge</th>\n",
              "      <th>Total intl minutes</th>\n",
              "      <th>Total intl calls</th>\n",
              "      <th>Total intl charge</th>\n",
              "      <th>Customer service calls</th>\n",
              "      <th>Churn</th>\n",
              "      <th>AK</th>\n",
              "      <th>AL</th>\n",
              "      <th>AR</th>\n",
              "      <th>AZ</th>\n",
              "      <th>CA</th>\n",
              "      <th>CO</th>\n",
              "      <th>CT</th>\n",
              "      <th>DC</th>\n",
              "      <th>DE</th>\n",
              "      <th>FL</th>\n",
              "      <th>GA</th>\n",
              "      <th>HI</th>\n",
              "      <th>IA</th>\n",
              "      <th>ID</th>\n",
              "      <th>IL</th>\n",
              "      <th>IN</th>\n",
              "      <th>KS</th>\n",
              "      <th>KY</th>\n",
              "      <th>LA</th>\n",
              "      <th>MA</th>\n",
              "      <th>MD</th>\n",
              "      <th>ME</th>\n",
              "      <th>MI</th>\n",
              "      <th>MN</th>\n",
              "      <th>MO</th>\n",
              "      <th>MS</th>\n",
              "      <th>MT</th>\n",
              "      <th>NC</th>\n",
              "      <th>ND</th>\n",
              "      <th>NE</th>\n",
              "      <th>NH</th>\n",
              "      <th>NJ</th>\n",
              "      <th>NM</th>\n",
              "      <th>NV</th>\n",
              "      <th>NY</th>\n",
              "      <th>OH</th>\n",
              "      <th>OK</th>\n",
              "      <th>OR</th>\n",
              "      <th>PA</th>\n",
              "      <th>RI</th>\n",
              "      <th>SC</th>\n",
              "      <th>SD</th>\n",
              "      <th>TN</th>\n",
              "      <th>TX</th>\n",
              "      <th>UT</th>\n",
              "      <th>VA</th>\n",
              "      <th>VT</th>\n",
              "      <th>WA</th>\n",
              "      <th>WI</th>\n",
              "      <th>WV</th>\n",
              "      <th>WY</th>\n",
              "    </tr>\n",
              "  </thead>\n",
              "  <tbody>\n",
              "    <tr>\n",
              "      <th>0</th>\n",
              "      <td>0.524793</td>\n",
              "      <td>0.068627</td>\n",
              "      <td>0.50</td>\n",
              "      <td>0.755701</td>\n",
              "      <td>0.68750</td>\n",
              "      <td>0.755701</td>\n",
              "      <td>0.542755</td>\n",
              "      <td>0.582353</td>\n",
              "      <td>0.542866</td>\n",
              "      <td>0.572161</td>\n",
              "      <td>0.436090</td>\n",
              "      <td>0.572152</td>\n",
              "      <td>0.500</td>\n",
              "      <td>0.15</td>\n",
              "      <td>0.500000</td>\n",
              "      <td>0.111111</td>\n",
              "      <td>False</td>\n",
              "      <td>0</td>\n",
              "      <td>0</td>\n",
              "      <td>0</td>\n",
              "      <td>0</td>\n",
              "      <td>0</td>\n",
              "      <td>0</td>\n",
              "      <td>0</td>\n",
              "      <td>0</td>\n",
              "      <td>0</td>\n",
              "      <td>0</td>\n",
              "      <td>0</td>\n",
              "      <td>0</td>\n",
              "      <td>0</td>\n",
              "      <td>0</td>\n",
              "      <td>0</td>\n",
              "      <td>0</td>\n",
              "      <td>1</td>\n",
              "      <td>0</td>\n",
              "      <td>0</td>\n",
              "      <td>0</td>\n",
              "      <td>0</td>\n",
              "      <td>0</td>\n",
              "      <td>0</td>\n",
              "      <td>0</td>\n",
              "      <td>0</td>\n",
              "      <td>0</td>\n",
              "      <td>0</td>\n",
              "      <td>0</td>\n",
              "      <td>0</td>\n",
              "      <td>0</td>\n",
              "      <td>0</td>\n",
              "      <td>0</td>\n",
              "      <td>0</td>\n",
              "      <td>0</td>\n",
              "      <td>0</td>\n",
              "      <td>0</td>\n",
              "      <td>0</td>\n",
              "      <td>0</td>\n",
              "      <td>0</td>\n",
              "      <td>0</td>\n",
              "      <td>0</td>\n",
              "      <td>0</td>\n",
              "      <td>0</td>\n",
              "      <td>0</td>\n",
              "      <td>0</td>\n",
              "      <td>0</td>\n",
              "      <td>0</td>\n",
              "      <td>0</td>\n",
              "      <td>0</td>\n",
              "      <td>0</td>\n",
              "      <td>0</td>\n",
              "    </tr>\n",
              "    <tr>\n",
              "      <th>1</th>\n",
              "      <td>0.438017</td>\n",
              "      <td>0.068627</td>\n",
              "      <td>0.52</td>\n",
              "      <td>0.460661</td>\n",
              "      <td>0.76875</td>\n",
              "      <td>0.460597</td>\n",
              "      <td>0.537531</td>\n",
              "      <td>0.605882</td>\n",
              "      <td>0.537690</td>\n",
              "      <td>0.599772</td>\n",
              "      <td>0.526316</td>\n",
              "      <td>0.600000</td>\n",
              "      <td>0.685</td>\n",
              "      <td>0.15</td>\n",
              "      <td>0.685185</td>\n",
              "      <td>0.111111</td>\n",
              "      <td>False</td>\n",
              "      <td>0</td>\n",
              "      <td>0</td>\n",
              "      <td>0</td>\n",
              "      <td>0</td>\n",
              "      <td>0</td>\n",
              "      <td>0</td>\n",
              "      <td>0</td>\n",
              "      <td>0</td>\n",
              "      <td>0</td>\n",
              "      <td>0</td>\n",
              "      <td>0</td>\n",
              "      <td>0</td>\n",
              "      <td>0</td>\n",
              "      <td>0</td>\n",
              "      <td>0</td>\n",
              "      <td>0</td>\n",
              "      <td>0</td>\n",
              "      <td>0</td>\n",
              "      <td>0</td>\n",
              "      <td>0</td>\n",
              "      <td>0</td>\n",
              "      <td>0</td>\n",
              "      <td>0</td>\n",
              "      <td>0</td>\n",
              "      <td>0</td>\n",
              "      <td>0</td>\n",
              "      <td>0</td>\n",
              "      <td>0</td>\n",
              "      <td>0</td>\n",
              "      <td>0</td>\n",
              "      <td>0</td>\n",
              "      <td>0</td>\n",
              "      <td>0</td>\n",
              "      <td>0</td>\n",
              "      <td>0</td>\n",
              "      <td>1</td>\n",
              "      <td>0</td>\n",
              "      <td>0</td>\n",
              "      <td>0</td>\n",
              "      <td>0</td>\n",
              "      <td>0</td>\n",
              "      <td>0</td>\n",
              "      <td>0</td>\n",
              "      <td>0</td>\n",
              "      <td>0</td>\n",
              "      <td>0</td>\n",
              "      <td>0</td>\n",
              "      <td>0</td>\n",
              "      <td>0</td>\n",
              "      <td>0</td>\n",
              "      <td>0</td>\n",
              "    </tr>\n",
              "    <tr>\n",
              "      <th>2</th>\n",
              "      <td>0.561983</td>\n",
              "      <td>0.068627</td>\n",
              "      <td>0.00</td>\n",
              "      <td>0.693843</td>\n",
              "      <td>0.71250</td>\n",
              "      <td>0.693830</td>\n",
              "      <td>0.333242</td>\n",
              "      <td>0.647059</td>\n",
              "      <td>0.333225</td>\n",
              "      <td>0.338457</td>\n",
              "      <td>0.533835</td>\n",
              "      <td>0.338608</td>\n",
              "      <td>0.610</td>\n",
              "      <td>0.25</td>\n",
              "      <td>0.609259</td>\n",
              "      <td>0.000000</td>\n",
              "      <td>False</td>\n",
              "      <td>0</td>\n",
              "      <td>0</td>\n",
              "      <td>0</td>\n",
              "      <td>0</td>\n",
              "      <td>0</td>\n",
              "      <td>0</td>\n",
              "      <td>0</td>\n",
              "      <td>0</td>\n",
              "      <td>0</td>\n",
              "      <td>0</td>\n",
              "      <td>0</td>\n",
              "      <td>0</td>\n",
              "      <td>0</td>\n",
              "      <td>0</td>\n",
              "      <td>0</td>\n",
              "      <td>0</td>\n",
              "      <td>0</td>\n",
              "      <td>0</td>\n",
              "      <td>0</td>\n",
              "      <td>0</td>\n",
              "      <td>0</td>\n",
              "      <td>0</td>\n",
              "      <td>0</td>\n",
              "      <td>0</td>\n",
              "      <td>0</td>\n",
              "      <td>0</td>\n",
              "      <td>0</td>\n",
              "      <td>0</td>\n",
              "      <td>0</td>\n",
              "      <td>0</td>\n",
              "      <td>0</td>\n",
              "      <td>1</td>\n",
              "      <td>0</td>\n",
              "      <td>0</td>\n",
              "      <td>0</td>\n",
              "      <td>0</td>\n",
              "      <td>0</td>\n",
              "      <td>0</td>\n",
              "      <td>0</td>\n",
              "      <td>0</td>\n",
              "      <td>0</td>\n",
              "      <td>0</td>\n",
              "      <td>0</td>\n",
              "      <td>0</td>\n",
              "      <td>0</td>\n",
              "      <td>0</td>\n",
              "      <td>0</td>\n",
              "      <td>0</td>\n",
              "      <td>0</td>\n",
              "      <td>0</td>\n",
              "      <td>0</td>\n",
              "    </tr>\n",
              "    <tr>\n",
              "      <th>3</th>\n",
              "      <td>0.342975</td>\n",
              "      <td>0.000000</td>\n",
              "      <td>0.00</td>\n",
              "      <td>0.853478</td>\n",
              "      <td>0.44375</td>\n",
              "      <td>0.853454</td>\n",
              "      <td>0.170195</td>\n",
              "      <td>0.517647</td>\n",
              "      <td>0.170171</td>\n",
              "      <td>0.436095</td>\n",
              "      <td>0.421053</td>\n",
              "      <td>0.436076</td>\n",
              "      <td>0.330</td>\n",
              "      <td>0.35</td>\n",
              "      <td>0.329630</td>\n",
              "      <td>0.222222</td>\n",
              "      <td>False</td>\n",
              "      <td>0</td>\n",
              "      <td>0</td>\n",
              "      <td>0</td>\n",
              "      <td>0</td>\n",
              "      <td>0</td>\n",
              "      <td>0</td>\n",
              "      <td>0</td>\n",
              "      <td>0</td>\n",
              "      <td>0</td>\n",
              "      <td>0</td>\n",
              "      <td>0</td>\n",
              "      <td>0</td>\n",
              "      <td>0</td>\n",
              "      <td>0</td>\n",
              "      <td>0</td>\n",
              "      <td>0</td>\n",
              "      <td>0</td>\n",
              "      <td>0</td>\n",
              "      <td>0</td>\n",
              "      <td>0</td>\n",
              "      <td>0</td>\n",
              "      <td>0</td>\n",
              "      <td>0</td>\n",
              "      <td>0</td>\n",
              "      <td>0</td>\n",
              "      <td>0</td>\n",
              "      <td>0</td>\n",
              "      <td>0</td>\n",
              "      <td>0</td>\n",
              "      <td>0</td>\n",
              "      <td>0</td>\n",
              "      <td>0</td>\n",
              "      <td>0</td>\n",
              "      <td>0</td>\n",
              "      <td>0</td>\n",
              "      <td>1</td>\n",
              "      <td>0</td>\n",
              "      <td>0</td>\n",
              "      <td>0</td>\n",
              "      <td>0</td>\n",
              "      <td>0</td>\n",
              "      <td>0</td>\n",
              "      <td>0</td>\n",
              "      <td>0</td>\n",
              "      <td>0</td>\n",
              "      <td>0</td>\n",
              "      <td>0</td>\n",
              "      <td>0</td>\n",
              "      <td>0</td>\n",
              "      <td>0</td>\n",
              "      <td>0</td>\n",
              "    </tr>\n",
              "    <tr>\n",
              "      <th>4</th>\n",
              "      <td>0.305785</td>\n",
              "      <td>0.068627</td>\n",
              "      <td>0.00</td>\n",
              "      <td>0.475200</td>\n",
              "      <td>0.70625</td>\n",
              "      <td>0.475184</td>\n",
              "      <td>0.407754</td>\n",
              "      <td>0.717647</td>\n",
              "      <td>0.407959</td>\n",
              "      <td>0.407629</td>\n",
              "      <td>0.661654</td>\n",
              "      <td>0.407595</td>\n",
              "      <td>0.505</td>\n",
              "      <td>0.15</td>\n",
              "      <td>0.505556</td>\n",
              "      <td>0.333333</td>\n",
              "      <td>False</td>\n",
              "      <td>0</td>\n",
              "      <td>0</td>\n",
              "      <td>0</td>\n",
              "      <td>0</td>\n",
              "      <td>0</td>\n",
              "      <td>0</td>\n",
              "      <td>0</td>\n",
              "      <td>0</td>\n",
              "      <td>0</td>\n",
              "      <td>0</td>\n",
              "      <td>0</td>\n",
              "      <td>0</td>\n",
              "      <td>0</td>\n",
              "      <td>0</td>\n",
              "      <td>0</td>\n",
              "      <td>0</td>\n",
              "      <td>0</td>\n",
              "      <td>0</td>\n",
              "      <td>0</td>\n",
              "      <td>0</td>\n",
              "      <td>0</td>\n",
              "      <td>0</td>\n",
              "      <td>0</td>\n",
              "      <td>0</td>\n",
              "      <td>0</td>\n",
              "      <td>0</td>\n",
              "      <td>0</td>\n",
              "      <td>0</td>\n",
              "      <td>0</td>\n",
              "      <td>0</td>\n",
              "      <td>0</td>\n",
              "      <td>0</td>\n",
              "      <td>0</td>\n",
              "      <td>0</td>\n",
              "      <td>0</td>\n",
              "      <td>0</td>\n",
              "      <td>1</td>\n",
              "      <td>0</td>\n",
              "      <td>0</td>\n",
              "      <td>0</td>\n",
              "      <td>0</td>\n",
              "      <td>0</td>\n",
              "      <td>0</td>\n",
              "      <td>0</td>\n",
              "      <td>0</td>\n",
              "      <td>0</td>\n",
              "      <td>0</td>\n",
              "      <td>0</td>\n",
              "      <td>0</td>\n",
              "      <td>0</td>\n",
              "      <td>0</td>\n",
              "    </tr>\n",
              "    <tr>\n",
              "      <th>...</th>\n",
              "      <td>...</td>\n",
              "      <td>...</td>\n",
              "      <td>...</td>\n",
              "      <td>...</td>\n",
              "      <td>...</td>\n",
              "      <td>...</td>\n",
              "      <td>...</td>\n",
              "      <td>...</td>\n",
              "      <td>...</td>\n",
              "      <td>...</td>\n",
              "      <td>...</td>\n",
              "      <td>...</td>\n",
              "      <td>...</td>\n",
              "      <td>...</td>\n",
              "      <td>...</td>\n",
              "      <td>...</td>\n",
              "      <td>...</td>\n",
              "      <td>...</td>\n",
              "      <td>...</td>\n",
              "      <td>...</td>\n",
              "      <td>...</td>\n",
              "      <td>...</td>\n",
              "      <td>...</td>\n",
              "      <td>...</td>\n",
              "      <td>...</td>\n",
              "      <td>...</td>\n",
              "      <td>...</td>\n",
              "      <td>...</td>\n",
              "      <td>...</td>\n",
              "      <td>...</td>\n",
              "      <td>...</td>\n",
              "      <td>...</td>\n",
              "      <td>...</td>\n",
              "      <td>...</td>\n",
              "      <td>...</td>\n",
              "      <td>...</td>\n",
              "      <td>...</td>\n",
              "      <td>...</td>\n",
              "      <td>...</td>\n",
              "      <td>...</td>\n",
              "      <td>...</td>\n",
              "      <td>...</td>\n",
              "      <td>...</td>\n",
              "      <td>...</td>\n",
              "      <td>...</td>\n",
              "      <td>...</td>\n",
              "      <td>...</td>\n",
              "      <td>...</td>\n",
              "      <td>...</td>\n",
              "      <td>...</td>\n",
              "      <td>...</td>\n",
              "      <td>...</td>\n",
              "      <td>...</td>\n",
              "      <td>...</td>\n",
              "      <td>...</td>\n",
              "      <td>...</td>\n",
              "      <td>...</td>\n",
              "      <td>...</td>\n",
              "      <td>...</td>\n",
              "      <td>...</td>\n",
              "      <td>...</td>\n",
              "      <td>...</td>\n",
              "      <td>...</td>\n",
              "      <td>...</td>\n",
              "      <td>...</td>\n",
              "      <td>...</td>\n",
              "      <td>...</td>\n",
              "      <td>...</td>\n",
              "    </tr>\n",
              "    <tr>\n",
              "      <th>2661</th>\n",
              "      <td>0.322314</td>\n",
              "      <td>0.068627</td>\n",
              "      <td>0.00</td>\n",
              "      <td>0.383979</td>\n",
              "      <td>0.61250</td>\n",
              "      <td>0.383970</td>\n",
              "      <td>0.521584</td>\n",
              "      <td>0.400000</td>\n",
              "      <td>0.521514</td>\n",
              "      <td>0.505835</td>\n",
              "      <td>0.714286</td>\n",
              "      <td>0.505696</td>\n",
              "      <td>0.590</td>\n",
              "      <td>0.25</td>\n",
              "      <td>0.590741</td>\n",
              "      <td>0.222222</td>\n",
              "      <td>False</td>\n",
              "      <td>0</td>\n",
              "      <td>0</td>\n",
              "      <td>0</td>\n",
              "      <td>0</td>\n",
              "      <td>0</td>\n",
              "      <td>0</td>\n",
              "      <td>0</td>\n",
              "      <td>0</td>\n",
              "      <td>0</td>\n",
              "      <td>0</td>\n",
              "      <td>0</td>\n",
              "      <td>0</td>\n",
              "      <td>0</td>\n",
              "      <td>0</td>\n",
              "      <td>0</td>\n",
              "      <td>0</td>\n",
              "      <td>0</td>\n",
              "      <td>0</td>\n",
              "      <td>0</td>\n",
              "      <td>0</td>\n",
              "      <td>0</td>\n",
              "      <td>0</td>\n",
              "      <td>0</td>\n",
              "      <td>0</td>\n",
              "      <td>0</td>\n",
              "      <td>0</td>\n",
              "      <td>0</td>\n",
              "      <td>0</td>\n",
              "      <td>0</td>\n",
              "      <td>0</td>\n",
              "      <td>0</td>\n",
              "      <td>0</td>\n",
              "      <td>0</td>\n",
              "      <td>0</td>\n",
              "      <td>0</td>\n",
              "      <td>0</td>\n",
              "      <td>0</td>\n",
              "      <td>0</td>\n",
              "      <td>0</td>\n",
              "      <td>0</td>\n",
              "      <td>1</td>\n",
              "      <td>0</td>\n",
              "      <td>0</td>\n",
              "      <td>0</td>\n",
              "      <td>0</td>\n",
              "      <td>0</td>\n",
              "      <td>0</td>\n",
              "      <td>0</td>\n",
              "      <td>0</td>\n",
              "      <td>0</td>\n",
              "      <td>0</td>\n",
              "    </tr>\n",
              "    <tr>\n",
              "      <th>2662</th>\n",
              "      <td>0.789256</td>\n",
              "      <td>0.068627</td>\n",
              "      <td>0.72</td>\n",
              "      <td>0.445268</td>\n",
              "      <td>0.48125</td>\n",
              "      <td>0.445171</td>\n",
              "      <td>0.592521</td>\n",
              "      <td>0.741176</td>\n",
              "      <td>0.592688</td>\n",
              "      <td>0.670083</td>\n",
              "      <td>0.375940</td>\n",
              "      <td>0.670253</td>\n",
              "      <td>0.495</td>\n",
              "      <td>0.30</td>\n",
              "      <td>0.494444</td>\n",
              "      <td>0.222222</td>\n",
              "      <td>False</td>\n",
              "      <td>0</td>\n",
              "      <td>0</td>\n",
              "      <td>0</td>\n",
              "      <td>1</td>\n",
              "      <td>0</td>\n",
              "      <td>0</td>\n",
              "      <td>0</td>\n",
              "      <td>0</td>\n",
              "      <td>0</td>\n",
              "      <td>0</td>\n",
              "      <td>0</td>\n",
              "      <td>0</td>\n",
              "      <td>0</td>\n",
              "      <td>0</td>\n",
              "      <td>0</td>\n",
              "      <td>0</td>\n",
              "      <td>0</td>\n",
              "      <td>0</td>\n",
              "      <td>0</td>\n",
              "      <td>0</td>\n",
              "      <td>0</td>\n",
              "      <td>0</td>\n",
              "      <td>0</td>\n",
              "      <td>0</td>\n",
              "      <td>0</td>\n",
              "      <td>0</td>\n",
              "      <td>0</td>\n",
              "      <td>0</td>\n",
              "      <td>0</td>\n",
              "      <td>0</td>\n",
              "      <td>0</td>\n",
              "      <td>0</td>\n",
              "      <td>0</td>\n",
              "      <td>0</td>\n",
              "      <td>0</td>\n",
              "      <td>0</td>\n",
              "      <td>0</td>\n",
              "      <td>0</td>\n",
              "      <td>0</td>\n",
              "      <td>0</td>\n",
              "      <td>0</td>\n",
              "      <td>0</td>\n",
              "      <td>0</td>\n",
              "      <td>0</td>\n",
              "      <td>0</td>\n",
              "      <td>0</td>\n",
              "      <td>0</td>\n",
              "      <td>0</td>\n",
              "      <td>0</td>\n",
              "      <td>0</td>\n",
              "      <td>0</td>\n",
              "    </tr>\n",
              "    <tr>\n",
              "      <th>2663</th>\n",
              "      <td>0.276860</td>\n",
              "      <td>0.068627</td>\n",
              "      <td>0.00</td>\n",
              "      <td>0.658780</td>\n",
              "      <td>0.35625</td>\n",
              "      <td>0.658786</td>\n",
              "      <td>0.421776</td>\n",
              "      <td>0.323529</td>\n",
              "      <td>0.421870</td>\n",
              "      <td>0.420154</td>\n",
              "      <td>0.676692</td>\n",
              "      <td>0.420253</td>\n",
              "      <td>0.480</td>\n",
              "      <td>0.20</td>\n",
              "      <td>0.479630</td>\n",
              "      <td>0.333333</td>\n",
              "      <td>False</td>\n",
              "      <td>0</td>\n",
              "      <td>0</td>\n",
              "      <td>0</td>\n",
              "      <td>0</td>\n",
              "      <td>0</td>\n",
              "      <td>0</td>\n",
              "      <td>0</td>\n",
              "      <td>0</td>\n",
              "      <td>0</td>\n",
              "      <td>0</td>\n",
              "      <td>0</td>\n",
              "      <td>0</td>\n",
              "      <td>0</td>\n",
              "      <td>0</td>\n",
              "      <td>0</td>\n",
              "      <td>0</td>\n",
              "      <td>0</td>\n",
              "      <td>0</td>\n",
              "      <td>0</td>\n",
              "      <td>0</td>\n",
              "      <td>0</td>\n",
              "      <td>0</td>\n",
              "      <td>0</td>\n",
              "      <td>0</td>\n",
              "      <td>0</td>\n",
              "      <td>0</td>\n",
              "      <td>0</td>\n",
              "      <td>0</td>\n",
              "      <td>0</td>\n",
              "      <td>0</td>\n",
              "      <td>0</td>\n",
              "      <td>0</td>\n",
              "      <td>0</td>\n",
              "      <td>0</td>\n",
              "      <td>0</td>\n",
              "      <td>0</td>\n",
              "      <td>0</td>\n",
              "      <td>0</td>\n",
              "      <td>0</td>\n",
              "      <td>0</td>\n",
              "      <td>0</td>\n",
              "      <td>0</td>\n",
              "      <td>0</td>\n",
              "      <td>0</td>\n",
              "      <td>0</td>\n",
              "      <td>0</td>\n",
              "      <td>0</td>\n",
              "      <td>0</td>\n",
              "      <td>0</td>\n",
              "      <td>1</td>\n",
              "      <td>0</td>\n",
              "    </tr>\n",
              "    <tr>\n",
              "      <th>2664</th>\n",
              "      <td>0.111570</td>\n",
              "      <td>1.000000</td>\n",
              "      <td>0.00</td>\n",
              "      <td>0.515393</td>\n",
              "      <td>0.68125</td>\n",
              "      <td>0.515426</td>\n",
              "      <td>0.794061</td>\n",
              "      <td>0.341176</td>\n",
              "      <td>0.794241</td>\n",
              "      <td>0.421862</td>\n",
              "      <td>0.436090</td>\n",
              "      <td>0.422152</td>\n",
              "      <td>0.705</td>\n",
              "      <td>0.30</td>\n",
              "      <td>0.705556</td>\n",
              "      <td>0.222222</td>\n",
              "      <td>False</td>\n",
              "      <td>0</td>\n",
              "      <td>0</td>\n",
              "      <td>0</td>\n",
              "      <td>0</td>\n",
              "      <td>0</td>\n",
              "      <td>0</td>\n",
              "      <td>0</td>\n",
              "      <td>0</td>\n",
              "      <td>0</td>\n",
              "      <td>0</td>\n",
              "      <td>0</td>\n",
              "      <td>0</td>\n",
              "      <td>0</td>\n",
              "      <td>0</td>\n",
              "      <td>0</td>\n",
              "      <td>0</td>\n",
              "      <td>0</td>\n",
              "      <td>0</td>\n",
              "      <td>0</td>\n",
              "      <td>0</td>\n",
              "      <td>0</td>\n",
              "      <td>0</td>\n",
              "      <td>0</td>\n",
              "      <td>0</td>\n",
              "      <td>0</td>\n",
              "      <td>0</td>\n",
              "      <td>0</td>\n",
              "      <td>0</td>\n",
              "      <td>0</td>\n",
              "      <td>0</td>\n",
              "      <td>0</td>\n",
              "      <td>0</td>\n",
              "      <td>0</td>\n",
              "      <td>0</td>\n",
              "      <td>0</td>\n",
              "      <td>0</td>\n",
              "      <td>0</td>\n",
              "      <td>0</td>\n",
              "      <td>0</td>\n",
              "      <td>1</td>\n",
              "      <td>0</td>\n",
              "      <td>0</td>\n",
              "      <td>0</td>\n",
              "      <td>0</td>\n",
              "      <td>0</td>\n",
              "      <td>0</td>\n",
              "      <td>0</td>\n",
              "      <td>0</td>\n",
              "      <td>0</td>\n",
              "      <td>0</td>\n",
              "      <td>0</td>\n",
              "    </tr>\n",
              "    <tr>\n",
              "      <th>2665</th>\n",
              "      <td>0.301653</td>\n",
              "      <td>0.068627</td>\n",
              "      <td>0.50</td>\n",
              "      <td>0.668187</td>\n",
              "      <td>0.70625</td>\n",
              "      <td>0.668176</td>\n",
              "      <td>0.731097</td>\n",
              "      <td>0.482353</td>\n",
              "      <td>0.731155</td>\n",
              "      <td>0.562767</td>\n",
              "      <td>0.330827</td>\n",
              "      <td>0.562658</td>\n",
              "      <td>0.685</td>\n",
              "      <td>0.20</td>\n",
              "      <td>0.685185</td>\n",
              "      <td>0.000000</td>\n",
              "      <td>False</td>\n",
              "      <td>0</td>\n",
              "      <td>0</td>\n",
              "      <td>0</td>\n",
              "      <td>0</td>\n",
              "      <td>0</td>\n",
              "      <td>0</td>\n",
              "      <td>0</td>\n",
              "      <td>0</td>\n",
              "      <td>0</td>\n",
              "      <td>0</td>\n",
              "      <td>0</td>\n",
              "      <td>0</td>\n",
              "      <td>0</td>\n",
              "      <td>0</td>\n",
              "      <td>0</td>\n",
              "      <td>0</td>\n",
              "      <td>0</td>\n",
              "      <td>0</td>\n",
              "      <td>0</td>\n",
              "      <td>0</td>\n",
              "      <td>0</td>\n",
              "      <td>0</td>\n",
              "      <td>0</td>\n",
              "      <td>0</td>\n",
              "      <td>0</td>\n",
              "      <td>0</td>\n",
              "      <td>0</td>\n",
              "      <td>0</td>\n",
              "      <td>0</td>\n",
              "      <td>0</td>\n",
              "      <td>0</td>\n",
              "      <td>0</td>\n",
              "      <td>0</td>\n",
              "      <td>0</td>\n",
              "      <td>0</td>\n",
              "      <td>0</td>\n",
              "      <td>0</td>\n",
              "      <td>0</td>\n",
              "      <td>0</td>\n",
              "      <td>0</td>\n",
              "      <td>0</td>\n",
              "      <td>0</td>\n",
              "      <td>1</td>\n",
              "      <td>0</td>\n",
              "      <td>0</td>\n",
              "      <td>0</td>\n",
              "      <td>0</td>\n",
              "      <td>0</td>\n",
              "      <td>0</td>\n",
              "      <td>0</td>\n",
              "      <td>0</td>\n",
              "    </tr>\n",
              "  </tbody>\n",
              "</table>\n",
              "<p>2666 rows × 68 columns</p>\n",
              "</div>"
            ],
            "text/plain": [
              "      Account length  Area code  Number vmail messages  ...  WI  WV  WY\n",
              "0           0.524793   0.068627                   0.50  ...   0   0   0\n",
              "1           0.438017   0.068627                   0.52  ...   0   0   0\n",
              "2           0.561983   0.068627                   0.00  ...   0   0   0\n",
              "3           0.342975   0.000000                   0.00  ...   0   0   0\n",
              "4           0.305785   0.068627                   0.00  ...   0   0   0\n",
              "...              ...        ...                    ...  ...  ..  ..  ..\n",
              "2661        0.322314   0.068627                   0.00  ...   0   0   0\n",
              "2662        0.789256   0.068627                   0.72  ...   0   0   0\n",
              "2663        0.276860   0.068627                   0.00  ...   0   1   0\n",
              "2664        0.111570   1.000000                   0.00  ...   0   0   0\n",
              "2665        0.301653   0.068627                   0.50  ...   0   0   0\n",
              "\n",
              "[2666 rows x 68 columns]"
            ]
          },
          "metadata": {
            "tags": []
          },
          "execution_count": 39
        }
      ]
    },
    {
      "cell_type": "markdown",
      "metadata": {
        "tags": [],
        "cell_id": "00006-2bceecaf-89a8-40d3-9df9-02ffc1b90cdf",
        "id": "SW7i9_AKVTRP"
      },
      "source": [
        "Train-Validation-Test-Split"
      ]
    },
    {
      "cell_type": "markdown",
      "metadata": {
        "id": "FpLtytnmr4Ly"
      },
      "source": [
        "![Imgur](https://i.imgur.com/mHERxtu.png)"
      ]
    },
    {
      "cell_type": "code",
      "metadata": {
        "tags": [],
        "cell_id": "00004-df38ae87-3117-4ba6-a0c2-4379201aba22",
        "output_cleared": false,
        "source_hash": "65cadc16",
        "execution_millis": 438,
        "execution_start": 1605416438753,
        "id": "PvXq2713VTRQ",
        "colab": {
          "base_uri": "https://localhost:8080/"
        },
        "outputId": "4463f85c-6fb3-41ee-efa5-113947db3589"
      },
      "source": [
        "from sklearn.model_selection import train_test_split\n",
        "\n",
        "# Train-test-validation split\n",
        "train,_=train_test_split(df,test_size=0.1,stratify=df[\"Churn\"])\n",
        "validation,test=train_test_split(_,test_size=0.5)\n",
        "print(train.shape,validation.shape,test.shape)"
      ],
      "execution_count": 7,
      "outputs": [
        {
          "output_type": "stream",
          "name": "stdout",
          "text": [
            "(2399, 68) (133, 68) (134, 68)\n"
          ]
        }
      ]
    },
    {
      "cell_type": "markdown",
      "metadata": {
        "id": "J85ppmguzJlJ"
      },
      "source": [
        "![Imgur](https://i.imgur.com/UK523Ne.png)"
      ]
    },
    {
      "cell_type": "markdown",
      "metadata": {
        "id": "bxd_qx9gCclz"
      },
      "source": [
        "## Q3: Please design your model with out using regularization and explain why the results like this?"
      ]
    },
    {
      "cell_type": "markdown",
      "metadata": {
        "tags": [],
        "cell_id": "00008-92ff768a-599d-4646-8acd-81937bc3cdd9",
        "id": "4vhy-u0iVTRU"
      },
      "source": [
        "Without Regularization"
      ]
    },
    {
      "cell_type": "code",
      "metadata": {
        "id": "B3yR-HxMEp45",
        "colab": {
          "base_uri": "https://localhost:8080/"
        },
        "outputId": "11f2cf02-364e-48a4-f760-f9d35d71e748"
      },
      "source": [
        "from keras.models import Sequential\n",
        "from keras.layers import Dense, Dropout\n",
        "from keras.regularizers import l2\n",
        "from tensorflow.keras.optimizers import SGD\n",
        "\n",
        "\n",
        "model=Sequential()\n",
        "model.add(Dense(128,input_shape=(df.shape[1]-1,), activation='relu'))\n",
        "model.add(Dense(32, activation='relu'))\n",
        "model.add(Dense(32, activation='relu'))\n",
        "model.add(Dense(8, activation='relu'))\n",
        "model.add(Dense(1,activation=\"sigmoid\"))\n",
        "\n",
        "\n",
        "\n",
        "# Used rmsprop optimizer, binary_crossentropy loss\n",
        "# you can use adam and SGD instead of rmsprop as well\n",
        "model.compile(optimizer='rmsprop', loss='binary_crossentropy', metrics=['accuracy'])\n",
        "history = model.fit(train.drop(\"Churn\",axis=1),train[\"Churn\"],\n",
        "                    validation_data=(validation.drop(\"Churn\",axis=1),validation[\"Churn\"]),\n",
        "          batch_size=16, epochs=100)"
      ],
      "execution_count": 14,
      "outputs": [
        {
          "output_type": "stream",
          "name": "stdout",
          "text": [
            "Epoch 1/100\n",
            "150/150 [==============================] - 4s 6ms/step - loss: 0.4277 - accuracy: 0.8537 - val_loss: 0.3842 - val_accuracy: 0.8647\n",
            "Epoch 2/100\n",
            "150/150 [==============================] - 1s 4ms/step - loss: 0.3989 - accuracy: 0.8545 - val_loss: 0.3594 - val_accuracy: 0.8647\n",
            "Epoch 3/100\n",
            "150/150 [==============================] - 1s 4ms/step - loss: 0.3797 - accuracy: 0.8545 - val_loss: 0.3975 - val_accuracy: 0.8647\n",
            "Epoch 4/100\n",
            "150/150 [==============================] - 1s 4ms/step - loss: 0.3669 - accuracy: 0.8566 - val_loss: 0.3444 - val_accuracy: 0.8722\n",
            "Epoch 5/100\n",
            "150/150 [==============================] - 1s 4ms/step - loss: 0.3585 - accuracy: 0.8612 - val_loss: 0.3736 - val_accuracy: 0.8496\n",
            "Epoch 6/100\n",
            "150/150 [==============================] - 1s 4ms/step - loss: 0.3516 - accuracy: 0.8633 - val_loss: 0.3441 - val_accuracy: 0.8496\n",
            "Epoch 7/100\n",
            "150/150 [==============================] - 1s 4ms/step - loss: 0.3448 - accuracy: 0.8658 - val_loss: 0.3363 - val_accuracy: 0.8647\n",
            "Epoch 8/100\n",
            "150/150 [==============================] - 1s 4ms/step - loss: 0.3346 - accuracy: 0.8683 - val_loss: 0.3169 - val_accuracy: 0.8722\n",
            "Epoch 9/100\n",
            "150/150 [==============================] - 1s 4ms/step - loss: 0.3279 - accuracy: 0.8674 - val_loss: 0.3183 - val_accuracy: 0.8722\n",
            "Epoch 10/100\n",
            "150/150 [==============================] - 1s 5ms/step - loss: 0.3208 - accuracy: 0.8708 - val_loss: 0.3281 - val_accuracy: 0.8647\n",
            "Epoch 11/100\n",
            "150/150 [==============================] - 1s 5ms/step - loss: 0.3121 - accuracy: 0.8758 - val_loss: 0.3153 - val_accuracy: 0.8872\n",
            "Epoch 12/100\n",
            "150/150 [==============================] - 1s 6ms/step - loss: 0.3017 - accuracy: 0.8816 - val_loss: 0.3127 - val_accuracy: 0.8797\n",
            "Epoch 13/100\n",
            "150/150 [==============================] - 1s 5ms/step - loss: 0.2928 - accuracy: 0.8887 - val_loss: 0.2955 - val_accuracy: 0.9023\n",
            "Epoch 14/100\n",
            "150/150 [==============================] - 1s 4ms/step - loss: 0.2808 - accuracy: 0.8895 - val_loss: 0.3190 - val_accuracy: 0.8947\n",
            "Epoch 15/100\n",
            "150/150 [==============================] - 1s 5ms/step - loss: 0.2720 - accuracy: 0.8966 - val_loss: 0.2905 - val_accuracy: 0.8947\n",
            "Epoch 16/100\n",
            "150/150 [==============================] - 1s 5ms/step - loss: 0.2653 - accuracy: 0.8916 - val_loss: 0.2937 - val_accuracy: 0.9098\n",
            "Epoch 17/100\n",
            "150/150 [==============================] - 1s 5ms/step - loss: 0.2538 - accuracy: 0.9037 - val_loss: 0.3175 - val_accuracy: 0.8947\n",
            "Epoch 18/100\n",
            "150/150 [==============================] - 1s 5ms/step - loss: 0.2452 - accuracy: 0.9095 - val_loss: 0.3054 - val_accuracy: 0.8872\n",
            "Epoch 19/100\n",
            "150/150 [==============================] - 1s 5ms/step - loss: 0.2408 - accuracy: 0.9054 - val_loss: 0.3514 - val_accuracy: 0.8496\n",
            "Epoch 20/100\n",
            "150/150 [==============================] - 1s 4ms/step - loss: 0.2331 - accuracy: 0.9095 - val_loss: 0.3257 - val_accuracy: 0.8797\n",
            "Epoch 21/100\n",
            "150/150 [==============================] - 1s 6ms/step - loss: 0.2262 - accuracy: 0.9162 - val_loss: 0.3861 - val_accuracy: 0.8571\n",
            "Epoch 22/100\n",
            "150/150 [==============================] - 1s 5ms/step - loss: 0.2225 - accuracy: 0.9116 - val_loss: 0.3017 - val_accuracy: 0.8947\n",
            "Epoch 23/100\n",
            "150/150 [==============================] - 1s 6ms/step - loss: 0.2233 - accuracy: 0.9141 - val_loss: 0.2959 - val_accuracy: 0.9173\n",
            "Epoch 24/100\n",
            "150/150 [==============================] - 1s 6ms/step - loss: 0.2151 - accuracy: 0.9166 - val_loss: 0.3051 - val_accuracy: 0.9173\n",
            "Epoch 25/100\n",
            "150/150 [==============================] - 1s 5ms/step - loss: 0.2116 - accuracy: 0.9204 - val_loss: 0.3787 - val_accuracy: 0.8571\n",
            "Epoch 26/100\n",
            "150/150 [==============================] - 1s 5ms/step - loss: 0.2081 - accuracy: 0.9246 - val_loss: 0.3069 - val_accuracy: 0.8947\n",
            "Epoch 27/100\n",
            "150/150 [==============================] - 1s 5ms/step - loss: 0.2018 - accuracy: 0.9262 - val_loss: 0.2654 - val_accuracy: 0.9323\n",
            "Epoch 28/100\n",
            "150/150 [==============================] - 1s 4ms/step - loss: 0.1993 - accuracy: 0.9304 - val_loss: 0.3528 - val_accuracy: 0.8797\n",
            "Epoch 29/100\n",
            "150/150 [==============================] - 1s 4ms/step - loss: 0.1944 - accuracy: 0.9291 - val_loss: 0.3643 - val_accuracy: 0.8647\n",
            "Epoch 30/100\n",
            "150/150 [==============================] - 1s 5ms/step - loss: 0.1855 - accuracy: 0.9337 - val_loss: 0.3099 - val_accuracy: 0.9023\n",
            "Epoch 31/100\n",
            "150/150 [==============================] - 1s 5ms/step - loss: 0.1944 - accuracy: 0.9275 - val_loss: 0.3012 - val_accuracy: 0.8947\n",
            "Epoch 32/100\n",
            "150/150 [==============================] - 1s 5ms/step - loss: 0.1805 - accuracy: 0.9350 - val_loss: 0.3531 - val_accuracy: 0.9098\n",
            "Epoch 33/100\n",
            "150/150 [==============================] - 1s 5ms/step - loss: 0.1779 - accuracy: 0.9358 - val_loss: 0.3140 - val_accuracy: 0.9173\n",
            "Epoch 34/100\n",
            "150/150 [==============================] - 1s 5ms/step - loss: 0.1767 - accuracy: 0.9362 - val_loss: 0.3456 - val_accuracy: 0.9098\n",
            "Epoch 35/100\n",
            "150/150 [==============================] - 1s 6ms/step - loss: 0.1711 - accuracy: 0.9400 - val_loss: 0.4680 - val_accuracy: 0.8271\n",
            "Epoch 36/100\n",
            "150/150 [==============================] - 1s 5ms/step - loss: 0.1672 - accuracy: 0.9400 - val_loss: 0.4186 - val_accuracy: 0.8647\n",
            "Epoch 37/100\n",
            "150/150 [==============================] - 1s 5ms/step - loss: 0.1616 - accuracy: 0.9379 - val_loss: 0.3323 - val_accuracy: 0.9098\n",
            "Epoch 38/100\n",
            "150/150 [==============================] - 1s 6ms/step - loss: 0.1615 - accuracy: 0.9416 - val_loss: 0.3726 - val_accuracy: 0.8947\n",
            "Epoch 39/100\n",
            "150/150 [==============================] - 1s 5ms/step - loss: 0.1591 - accuracy: 0.9437 - val_loss: 0.3775 - val_accuracy: 0.8947\n",
            "Epoch 40/100\n",
            "150/150 [==============================] - 1s 6ms/step - loss: 0.1528 - accuracy: 0.9450 - val_loss: 0.3849 - val_accuracy: 0.9023\n",
            "Epoch 41/100\n",
            "150/150 [==============================] - 1s 5ms/step - loss: 0.1469 - accuracy: 0.9496 - val_loss: 0.4008 - val_accuracy: 0.8872\n",
            "Epoch 42/100\n",
            "150/150 [==============================] - 1s 5ms/step - loss: 0.1479 - accuracy: 0.9475 - val_loss: 0.4195 - val_accuracy: 0.8872\n",
            "Epoch 43/100\n",
            "150/150 [==============================] - 1s 5ms/step - loss: 0.1435 - accuracy: 0.9462 - val_loss: 0.3739 - val_accuracy: 0.9023\n",
            "Epoch 44/100\n",
            "150/150 [==============================] - 1s 5ms/step - loss: 0.1403 - accuracy: 0.9491 - val_loss: 0.3603 - val_accuracy: 0.9098\n",
            "Epoch 45/100\n",
            "150/150 [==============================] - 1s 5ms/step - loss: 0.1337 - accuracy: 0.9487 - val_loss: 0.4163 - val_accuracy: 0.9098\n",
            "Epoch 46/100\n",
            "150/150 [==============================] - 1s 5ms/step - loss: 0.1322 - accuracy: 0.9541 - val_loss: 0.4259 - val_accuracy: 0.9098\n",
            "Epoch 47/100\n",
            "150/150 [==============================] - 1s 5ms/step - loss: 0.1334 - accuracy: 0.9512 - val_loss: 0.4268 - val_accuracy: 0.9098\n",
            "Epoch 48/100\n",
            "150/150 [==============================] - 1s 5ms/step - loss: 0.1281 - accuracy: 0.9571 - val_loss: 0.5953 - val_accuracy: 0.8195\n",
            "Epoch 49/100\n",
            "150/150 [==============================] - 1s 5ms/step - loss: 0.1279 - accuracy: 0.9512 - val_loss: 0.4061 - val_accuracy: 0.8872\n",
            "Epoch 50/100\n",
            "150/150 [==============================] - 1s 5ms/step - loss: 0.1193 - accuracy: 0.9562 - val_loss: 0.4338 - val_accuracy: 0.9023\n",
            "Epoch 51/100\n",
            "150/150 [==============================] - 1s 4ms/step - loss: 0.1197 - accuracy: 0.9566 - val_loss: 0.4520 - val_accuracy: 0.8947\n",
            "Epoch 52/100\n",
            "150/150 [==============================] - 1s 6ms/step - loss: 0.1164 - accuracy: 0.9571 - val_loss: 0.4806 - val_accuracy: 0.8872\n",
            "Epoch 53/100\n",
            "150/150 [==============================] - 1s 6ms/step - loss: 0.1150 - accuracy: 0.9554 - val_loss: 0.4592 - val_accuracy: 0.9023\n",
            "Epoch 54/100\n",
            "150/150 [==============================] - 1s 6ms/step - loss: 0.1090 - accuracy: 0.9596 - val_loss: 0.4401 - val_accuracy: 0.9023\n",
            "Epoch 55/100\n",
            "150/150 [==============================] - 1s 6ms/step - loss: 0.1103 - accuracy: 0.9591 - val_loss: 0.5907 - val_accuracy: 0.8797\n",
            "Epoch 56/100\n",
            "150/150 [==============================] - 1s 5ms/step - loss: 0.1124 - accuracy: 0.9612 - val_loss: 0.5591 - val_accuracy: 0.8797\n",
            "Epoch 57/100\n",
            "150/150 [==============================] - 1s 4ms/step - loss: 0.1040 - accuracy: 0.9625 - val_loss: 0.4805 - val_accuracy: 0.8797\n",
            "Epoch 58/100\n",
            "150/150 [==============================] - 1s 5ms/step - loss: 0.0976 - accuracy: 0.9625 - val_loss: 0.5500 - val_accuracy: 0.8872\n",
            "Epoch 59/100\n",
            "150/150 [==============================] - 1s 5ms/step - loss: 0.0995 - accuracy: 0.9633 - val_loss: 0.5076 - val_accuracy: 0.9248\n",
            "Epoch 60/100\n",
            "150/150 [==============================] - 1s 4ms/step - loss: 0.1035 - accuracy: 0.9633 - val_loss: 0.6148 - val_accuracy: 0.8346\n",
            "Epoch 61/100\n",
            "150/150 [==============================] - 1s 4ms/step - loss: 0.0955 - accuracy: 0.9646 - val_loss: 0.5742 - val_accuracy: 0.9023\n",
            "Epoch 62/100\n",
            "150/150 [==============================] - 1s 5ms/step - loss: 0.0932 - accuracy: 0.9675 - val_loss: 0.5537 - val_accuracy: 0.8872\n",
            "Epoch 63/100\n",
            "150/150 [==============================] - 1s 5ms/step - loss: 0.0881 - accuracy: 0.9650 - val_loss: 0.6957 - val_accuracy: 0.8496\n",
            "Epoch 64/100\n",
            "150/150 [==============================] - 1s 4ms/step - loss: 0.0855 - accuracy: 0.9683 - val_loss: 0.5745 - val_accuracy: 0.8947\n",
            "Epoch 65/100\n",
            "150/150 [==============================] - 1s 5ms/step - loss: 0.0963 - accuracy: 0.9667 - val_loss: 0.6170 - val_accuracy: 0.8947\n",
            "Epoch 66/100\n",
            "150/150 [==============================] - 1s 5ms/step - loss: 0.0859 - accuracy: 0.9717 - val_loss: 0.8539 - val_accuracy: 0.8195\n",
            "Epoch 67/100\n",
            "150/150 [==============================] - 1s 6ms/step - loss: 0.0805 - accuracy: 0.9733 - val_loss: 0.6248 - val_accuracy: 0.8872\n",
            "Epoch 68/100\n",
            "150/150 [==============================] - 1s 4ms/step - loss: 0.0790 - accuracy: 0.9737 - val_loss: 0.5939 - val_accuracy: 0.8947\n",
            "Epoch 69/100\n",
            "150/150 [==============================] - 1s 4ms/step - loss: 0.0765 - accuracy: 0.9708 - val_loss: 0.7065 - val_accuracy: 0.8797\n",
            "Epoch 70/100\n",
            "150/150 [==============================] - 1s 5ms/step - loss: 0.0811 - accuracy: 0.9712 - val_loss: 0.6163 - val_accuracy: 0.9098\n",
            "Epoch 71/100\n",
            "150/150 [==============================] - 1s 6ms/step - loss: 0.0756 - accuracy: 0.9729 - val_loss: 0.7217 - val_accuracy: 0.8947\n",
            "Epoch 72/100\n",
            "150/150 [==============================] - 1s 4ms/step - loss: 0.0780 - accuracy: 0.9687 - val_loss: 0.6765 - val_accuracy: 0.8722\n",
            "Epoch 73/100\n",
            "150/150 [==============================] - 1s 5ms/step - loss: 0.0717 - accuracy: 0.9746 - val_loss: 0.7209 - val_accuracy: 0.8571\n",
            "Epoch 74/100\n",
            "150/150 [==============================] - 1s 5ms/step - loss: 0.0724 - accuracy: 0.9758 - val_loss: 0.6659 - val_accuracy: 0.8496\n",
            "Epoch 75/100\n",
            "150/150 [==============================] - 1s 5ms/step - loss: 0.0723 - accuracy: 0.9758 - val_loss: 0.8050 - val_accuracy: 0.8647\n",
            "Epoch 76/100\n",
            "150/150 [==============================] - 1s 5ms/step - loss: 0.0700 - accuracy: 0.9754 - val_loss: 0.7306 - val_accuracy: 0.8496\n",
            "Epoch 77/100\n",
            "150/150 [==============================] - 1s 5ms/step - loss: 0.0720 - accuracy: 0.9746 - val_loss: 0.6912 - val_accuracy: 0.8872\n",
            "Epoch 78/100\n",
            "150/150 [==============================] - 1s 5ms/step - loss: 0.0694 - accuracy: 0.9767 - val_loss: 0.8128 - val_accuracy: 0.8872\n",
            "Epoch 79/100\n",
            "150/150 [==============================] - 1s 5ms/step - loss: 0.0697 - accuracy: 0.9725 - val_loss: 0.7566 - val_accuracy: 0.8947\n",
            "Epoch 80/100\n",
            "150/150 [==============================] - 1s 5ms/step - loss: 0.0613 - accuracy: 0.9812 - val_loss: 0.7951 - val_accuracy: 0.8872\n",
            "Epoch 81/100\n",
            "150/150 [==============================] - 1s 6ms/step - loss: 0.0759 - accuracy: 0.9754 - val_loss: 0.7845 - val_accuracy: 0.9098\n",
            "Epoch 82/100\n",
            "150/150 [==============================] - 1s 5ms/step - loss: 0.0613 - accuracy: 0.9792 - val_loss: 0.7444 - val_accuracy: 0.8872\n",
            "Epoch 83/100\n",
            "150/150 [==============================] - 1s 4ms/step - loss: 0.0606 - accuracy: 0.9792 - val_loss: 1.1216 - val_accuracy: 0.8195\n",
            "Epoch 84/100\n",
            "150/150 [==============================] - 1s 6ms/step - loss: 0.0598 - accuracy: 0.9775 - val_loss: 0.8013 - val_accuracy: 0.9023\n",
            "Epoch 85/100\n",
            "150/150 [==============================] - 1s 6ms/step - loss: 0.0616 - accuracy: 0.9792 - val_loss: 0.7652 - val_accuracy: 0.9023\n",
            "Epoch 86/100\n",
            "150/150 [==============================] - 1s 5ms/step - loss: 0.0518 - accuracy: 0.9817 - val_loss: 0.9071 - val_accuracy: 0.8647\n",
            "Epoch 87/100\n",
            "150/150 [==============================] - 1s 5ms/step - loss: 0.0672 - accuracy: 0.9762 - val_loss: 0.7817 - val_accuracy: 0.9023\n",
            "Epoch 88/100\n",
            "150/150 [==============================] - 1s 5ms/step - loss: 0.0613 - accuracy: 0.9808 - val_loss: 0.8403 - val_accuracy: 0.8872\n",
            "Epoch 89/100\n",
            "150/150 [==============================] - 1s 4ms/step - loss: 0.0518 - accuracy: 0.9800 - val_loss: 0.9731 - val_accuracy: 0.8647\n",
            "Epoch 90/100\n",
            "150/150 [==============================] - 1s 5ms/step - loss: 0.0743 - accuracy: 0.9758 - val_loss: 0.9029 - val_accuracy: 0.8872\n",
            "Epoch 91/100\n",
            "150/150 [==============================] - 1s 4ms/step - loss: 0.0500 - accuracy: 0.9821 - val_loss: 1.2541 - val_accuracy: 0.7970\n",
            "Epoch 92/100\n",
            "150/150 [==============================] - 1s 5ms/step - loss: 0.0493 - accuracy: 0.9787 - val_loss: 0.9525 - val_accuracy: 0.8797\n",
            "Epoch 93/100\n",
            "150/150 [==============================] - 1s 5ms/step - loss: 0.0487 - accuracy: 0.9808 - val_loss: 1.0630 - val_accuracy: 0.8722\n",
            "Epoch 94/100\n",
            "150/150 [==============================] - 1s 5ms/step - loss: 0.0475 - accuracy: 0.9850 - val_loss: 0.8357 - val_accuracy: 0.9023\n",
            "Epoch 95/100\n",
            "150/150 [==============================] - 1s 6ms/step - loss: 0.0551 - accuracy: 0.9829 - val_loss: 0.9184 - val_accuracy: 0.9098\n",
            "Epoch 96/100\n",
            "150/150 [==============================] - 1s 5ms/step - loss: 0.0537 - accuracy: 0.9862 - val_loss: 1.1366 - val_accuracy: 0.8271\n",
            "Epoch 97/100\n",
            "150/150 [==============================] - 1s 5ms/step - loss: 0.0511 - accuracy: 0.9825 - val_loss: 0.9800 - val_accuracy: 0.8947\n",
            "Epoch 98/100\n",
            "150/150 [==============================] - 1s 5ms/step - loss: 0.0439 - accuracy: 0.9833 - val_loss: 1.0740 - val_accuracy: 0.8496\n",
            "Epoch 99/100\n",
            "150/150 [==============================] - 1s 5ms/step - loss: 0.0473 - accuracy: 0.9842 - val_loss: 1.1099 - val_accuracy: 0.8647\n",
            "Epoch 100/100\n",
            "150/150 [==============================] - 1s 5ms/step - loss: 0.0409 - accuracy: 0.9871 - val_loss: 1.0012 - val_accuracy: 0.8947\n"
          ]
        }
      ]
    },
    {
      "cell_type": "code",
      "metadata": {
        "tags": [],
        "cell_id": "00004-7808f8f6-1aa6-4c89-a72c-536b94eff9bf",
        "output_cleared": false,
        "source_hash": "e97e2253",
        "execution_millis": 516,
        "execution_start": 1605416524511,
        "id": "NcCHBo1dVTRa",
        "colab": {
          "base_uri": "https://localhost:8080/",
          "height": 282
        },
        "outputId": "9a9721d8-697f-43bc-f5ea-ee5539fa127f"
      },
      "source": [
        "import matplotlib.pyplot as plt\n",
        "# Plot loss, val_loss\n",
        "plt.plot(history.history[\"loss\"])\n",
        "plt.plot(history.history[\"val_loss\"])\n",
        "plt.imshow"
      ],
      "execution_count": 20,
      "outputs": [
        {
          "output_type": "execute_result",
          "data": {
            "text/plain": [
              "<function matplotlib.pyplot.imshow>"
            ]
          },
          "metadata": {},
          "execution_count": 20
        },
        {
          "output_type": "display_data",
          "data": {
            "image/png": "[encoded data removed]",
            "text/plain": [
              "<Figure size 432x288 with 1 Axes>"
            ]
          },
          "metadata": {
            "needs_background": "light"
          }
        }
      ]
    },
    {
      "cell_type": "code",
      "metadata": {
        "id": "FxSSgRNLoxI7",
        "colab": {
          "base_uri": "https://localhost:8080/",
          "height": 282
        },
        "outputId": "4651c455-da79-4fdb-f98a-5c6522440d8a"
      },
      "source": [
        "import matplotlib.pyplot as plt\n",
        "# Plot loss, val_loss\n",
        "plt.plot(history.history[\"accuracy\"])\n",
        "plt.plot(history.history[\"val_accuracy\"])\n",
        "plt.imshow"
      ],
      "execution_count": 21,
      "outputs": [
        {
          "output_type": "execute_result",
          "data": {
            "text/plain": [
              "<function matplotlib.pyplot.imshow>"
            ]
          },
          "metadata": {},
          "execution_count": 21
        },
        {
          "output_type": "display_data",
          "data": {
            "image/png": "[encoded data removed]",
            "text/plain": [
              "<Figure size 432x288 with 1 Axes>"
            ]
          },
          "metadata": {
            "needs_background": "light"
          }
        }
      ]
    },
    {
      "cell_type": "code",
      "metadata": {
        "tags": [],
        "cell_id": "00011-7f753534-aa4f-475b-a214-edc12b270758",
        "output_cleared": false,
        "source_hash": "6242e7e8",
        "execution_millis": 106,
        "execution_start": 1605416527446,
        "id": "Fav7Uij2VTRg",
        "colab": {
          "base_uri": "https://localhost:8080/"
        },
        "outputId": "2c6a58a8-f7d4-42d6-e859-155dfe7b7fb6"
      },
      "source": [
        "from keras.losses import binary_crossentropy\n",
        "\n",
        "# real y\n",
        "real = test.Churn.astype(\"int\").values\n",
        "# predicted y\n",
        "pred = model.predict(test.drop(\"Churn\",axis=1)).flatten()\n",
        "# binary_crossentropy\n",
        "print(float(binary_crossentropy(real,pred)))"
      ],
      "execution_count": 17,
      "outputs": [
        {
          "output_type": "stream",
          "name": "stdout",
          "text": [
            "1.2238492965698242\n"
          ]
        }
      ]
    },
    {
      "cell_type": "code",
      "metadata": {
        "tags": [],
        "cell_id": "00012-243f4e72-76c8-49ab-96b0-e257d7415bcc",
        "output_cleared": false,
        "source_hash": "76a23eda",
        "execution_millis": 2,
        "execution_start": 1605416529288,
        "id": "XdzQNGr5VTRj",
        "colab": {
          "base_uri": "https://localhost:8080/"
        },
        "outputId": "b7cf2c53-a810-4539-a1d2-9968dd6d6843"
      },
      "source": [
        "# calculate accuracy\n",
        "pred = [1 if i>0.5 else 0 for i in pred]\n",
        "print(sum(pred==real)/len(pred))"
      ],
      "execution_count": 18,
      "outputs": [
        {
          "output_type": "stream",
          "name": "stdout",
          "text": [
            "0.7985074626865671\n"
          ]
        }
      ]
    },
    {
      "cell_type": "markdown",
      "metadata": {
        "id": "5mn4YBD-saHr"
      },
      "source": [
        "## Underfitting and Overfitting"
      ]
    },
    {
      "cell_type": "markdown",
      "metadata": {
        "id": "r3BepkUd0BeN"
      },
      "source": [
        "Here the most common ways to prevent overfitting in neural networks:\n",
        "* Early stop\n",
        "* Getting more training data.\n",
        "* Reducing the capacity of the network.\n",
        "* Adding weight regularization.\n",
        "* Adding dropout."
      ]
    },
    {
      "cell_type": "markdown",
      "metadata": {
        "id": "YCTTfweNsjzl"
      },
      "source": [
        "![Imgur](https://i.imgur.com/pzIWFr7.png)"
      ]
    },
    {
      "cell_type": "markdown",
      "metadata": {
        "id": "ir5AyLmrsnCT"
      },
      "source": [
        "![Imgur](https://i.imgur.com/pQedNv0.png)"
      ]
    },
    {
      "cell_type": "markdown",
      "metadata": {
        "id": "lyiLE77Qs3U1"
      },
      "source": [
        "### Early Stopping"
      ]
    },
    {
      "cell_type": "markdown",
      "metadata": {
        "id": "0OvTuR-8s9B8"
      },
      "source": [
        "![Imgur](https://i.imgur.com/pfKKCy8.png)"
      ]
    },
    {
      "cell_type": "code",
      "metadata": {
        "id": "Ie-NPcQVEuxT",
        "colab": {
          "base_uri": "https://localhost:8080/"
        },
        "outputId": "4d77a3ad-73ee-42e7-8976-3277b2b9a6dc"
      },
      "source": [
        "from keras.models import Sequential\n",
        "from keras.layers import Dense, Dropout\n",
        "from keras.regularizers import l2\n",
        "\n",
        "\n",
        "\n",
        "model=Sequential()\n",
        "model.add(Dense(128,input_shape=(df.shape[1]-1,), activation='relu'))\n",
        "model.add(Dense(32, activation='relu'))\n",
        "model.add(Dense(32, activation='relu'))\n",
        "model.add(Dense(8, activation='relu'))\n",
        "model.add(Dense(1,activation=\"sigmoid\"))\n",
        "\n",
        "\n",
        "\n",
        "# Used rmsprop optimizer, binary_crossentropy loss\n",
        "# you can use adam and SGD instead of rmsprop as well\n",
        "model.compile(optimizer='adam', loss='binary_crossentropy', metrics=['accuracy'])\n",
        "history = model.fit(train.drop(\"Churn\",axis=1),train[\"Churn\"],\n",
        "                    validation_data=(validation.drop(\"Churn\",axis=1),validation[\"Churn\"]),\n",
        "          batch_size=16, epochs=50)"
      ],
      "execution_count": 25,
      "outputs": [
        {
          "output_type": "stream",
          "name": "stdout",
          "text": [
            "Epoch 1/50\n",
            "150/150 [==============================] - 1s 6ms/step - loss: 0.4554 - accuracy: 0.8324 - val_loss: 0.3936 - val_accuracy: 0.8647\n",
            "Epoch 2/50\n",
            "150/150 [==============================] - 1s 4ms/step - loss: 0.4046 - accuracy: 0.8545 - val_loss: 0.3731 - val_accuracy: 0.8647\n",
            "Epoch 3/50\n",
            "150/150 [==============================] - 1s 4ms/step - loss: 0.3886 - accuracy: 0.8545 - val_loss: 0.3621 - val_accuracy: 0.8647\n",
            "Epoch 4/50\n",
            "150/150 [==============================] - 1s 4ms/step - loss: 0.3731 - accuracy: 0.8545 - val_loss: 0.3497 - val_accuracy: 0.8647\n",
            "Epoch 5/50\n",
            "150/150 [==============================] - 1s 4ms/step - loss: 0.3651 - accuracy: 0.8545 - val_loss: 0.3584 - val_accuracy: 0.8647\n",
            "Epoch 6/50\n",
            "150/150 [==============================] - 1s 3ms/step - loss: 0.3568 - accuracy: 0.8541 - val_loss: 0.3547 - val_accuracy: 0.8647\n",
            "Epoch 7/50\n",
            "150/150 [==============================] - 1s 4ms/step - loss: 0.3454 - accuracy: 0.8574 - val_loss: 0.3477 - val_accuracy: 0.8346\n",
            "Epoch 8/50\n",
            "150/150 [==============================] - 1s 4ms/step - loss: 0.3354 - accuracy: 0.8637 - val_loss: 0.3377 - val_accuracy: 0.8571\n",
            "Epoch 9/50\n",
            "150/150 [==============================] - 1s 4ms/step - loss: 0.3235 - accuracy: 0.8699 - val_loss: 0.3271 - val_accuracy: 0.8722\n",
            "Epoch 10/50\n",
            "150/150 [==============================] - 1s 4ms/step - loss: 0.3072 - accuracy: 0.8754 - val_loss: 0.3276 - val_accuracy: 0.8722\n",
            "Epoch 11/50\n",
            "150/150 [==============================] - 1s 4ms/step - loss: 0.2904 - accuracy: 0.8837 - val_loss: 0.3040 - val_accuracy: 0.9023\n",
            "Epoch 12/50\n",
            "150/150 [==============================] - 1s 3ms/step - loss: 0.2772 - accuracy: 0.8883 - val_loss: 0.3089 - val_accuracy: 0.9098\n",
            "Epoch 13/50\n",
            "150/150 [==============================] - 1s 3ms/step - loss: 0.2574 - accuracy: 0.8962 - val_loss: 0.3296 - val_accuracy: 0.8797\n",
            "Epoch 14/50\n",
            "150/150 [==============================] - 1s 3ms/step - loss: 0.2484 - accuracy: 0.9008 - val_loss: 0.3193 - val_accuracy: 0.8797\n",
            "Epoch 15/50\n",
            "150/150 [==============================] - 1s 4ms/step - loss: 0.2283 - accuracy: 0.9133 - val_loss: 0.3173 - val_accuracy: 0.8947\n",
            "Epoch 16/50\n",
            "150/150 [==============================] - 1s 4ms/step - loss: 0.2185 - accuracy: 0.9158 - val_loss: 0.2969 - val_accuracy: 0.9098\n",
            "Epoch 17/50\n",
            "150/150 [==============================] - 1s 3ms/step - loss: 0.2035 - accuracy: 0.9200 - val_loss: 0.3117 - val_accuracy: 0.9173\n",
            "Epoch 18/50\n",
            "150/150 [==============================] - 1s 4ms/step - loss: 0.1946 - accuracy: 0.9271 - val_loss: 0.3338 - val_accuracy: 0.8797\n",
            "Epoch 19/50\n",
            "150/150 [==============================] - 1s 4ms/step - loss: 0.1896 - accuracy: 0.9312 - val_loss: 0.3251 - val_accuracy: 0.9248\n",
            "Epoch 20/50\n",
            "150/150 [==============================] - 1s 4ms/step - loss: 0.1765 - accuracy: 0.9300 - val_loss: 0.2997 - val_accuracy: 0.9173\n",
            "Epoch 21/50\n",
            "150/150 [==============================] - 1s 4ms/step - loss: 0.1654 - accuracy: 0.9312 - val_loss: 0.3305 - val_accuracy: 0.9173\n",
            "Epoch 22/50\n",
            "150/150 [==============================] - 1s 4ms/step - loss: 0.1642 - accuracy: 0.9308 - val_loss: 0.3509 - val_accuracy: 0.9098\n",
            "Epoch 23/50\n",
            "150/150 [==============================] - 1s 4ms/step - loss: 0.1527 - accuracy: 0.9416 - val_loss: 0.3303 - val_accuracy: 0.9248\n",
            "Epoch 24/50\n",
            "150/150 [==============================] - 1s 3ms/step - loss: 0.1462 - accuracy: 0.9371 - val_loss: 0.3847 - val_accuracy: 0.8947\n",
            "Epoch 25/50\n",
            "150/150 [==============================] - 1s 3ms/step - loss: 0.1361 - accuracy: 0.9475 - val_loss: 0.3631 - val_accuracy: 0.9023\n",
            "Epoch 26/50\n",
            "150/150 [==============================] - 1s 4ms/step - loss: 0.1309 - accuracy: 0.9508 - val_loss: 0.3804 - val_accuracy: 0.9023\n",
            "Epoch 27/50\n",
            "150/150 [==============================] - 1s 5ms/step - loss: 0.1222 - accuracy: 0.9546 - val_loss: 0.3742 - val_accuracy: 0.9098\n",
            "Epoch 28/50\n",
            "150/150 [==============================] - 1s 4ms/step - loss: 0.1201 - accuracy: 0.9533 - val_loss: 0.3727 - val_accuracy: 0.9098\n",
            "Epoch 29/50\n",
            "150/150 [==============================] - 1s 4ms/step - loss: 0.1140 - accuracy: 0.9537 - val_loss: 0.4049 - val_accuracy: 0.9248\n",
            "Epoch 30/50\n",
            "150/150 [==============================] - 1s 4ms/step - loss: 0.1095 - accuracy: 0.9600 - val_loss: 0.3907 - val_accuracy: 0.9023\n",
            "Epoch 31/50\n",
            "150/150 [==============================] - 1s 4ms/step - loss: 0.1018 - accuracy: 0.9608 - val_loss: 0.3932 - val_accuracy: 0.9098\n",
            "Epoch 32/50\n",
            "150/150 [==============================] - 1s 4ms/step - loss: 0.0978 - accuracy: 0.9612 - val_loss: 0.4187 - val_accuracy: 0.8722\n",
            "Epoch 33/50\n",
            "150/150 [==============================] - 1s 4ms/step - loss: 0.0975 - accuracy: 0.9629 - val_loss: 0.4230 - val_accuracy: 0.9173\n",
            "Epoch 34/50\n",
            "150/150 [==============================] - 1s 4ms/step - loss: 0.0867 - accuracy: 0.9687 - val_loss: 0.4300 - val_accuracy: 0.8947\n",
            "Epoch 35/50\n",
            "150/150 [==============================] - 1s 4ms/step - loss: 0.0827 - accuracy: 0.9721 - val_loss: 0.4552 - val_accuracy: 0.8872\n",
            "Epoch 36/50\n",
            "150/150 [==============================] - 1s 4ms/step - loss: 0.0804 - accuracy: 0.9708 - val_loss: 0.5200 - val_accuracy: 0.9098\n",
            "Epoch 37/50\n",
            "150/150 [==============================] - 1s 4ms/step - loss: 0.0780 - accuracy: 0.9725 - val_loss: 0.4364 - val_accuracy: 0.9098\n",
            "Epoch 38/50\n",
            "150/150 [==============================] - 1s 4ms/step - loss: 0.0677 - accuracy: 0.9787 - val_loss: 0.4624 - val_accuracy: 0.9023\n",
            "Epoch 39/50\n",
            "150/150 [==============================] - 1s 4ms/step - loss: 0.0696 - accuracy: 0.9771 - val_loss: 0.5157 - val_accuracy: 0.8797\n",
            "Epoch 40/50\n",
            "150/150 [==============================] - 1s 4ms/step - loss: 0.0645 - accuracy: 0.9767 - val_loss: 0.5283 - val_accuracy: 0.8647\n",
            "Epoch 41/50\n",
            "150/150 [==============================] - 1s 4ms/step - loss: 0.0620 - accuracy: 0.9821 - val_loss: 0.5045 - val_accuracy: 0.8872\n",
            "Epoch 42/50\n",
            "150/150 [==============================] - 1s 4ms/step - loss: 0.0568 - accuracy: 0.9817 - val_loss: 0.5061 - val_accuracy: 0.8947\n",
            "Epoch 43/50\n",
            "150/150 [==============================] - 1s 4ms/step - loss: 0.0520 - accuracy: 0.9829 - val_loss: 0.5397 - val_accuracy: 0.8872\n",
            "Epoch 44/50\n",
            "150/150 [==============================] - 1s 4ms/step - loss: 0.0545 - accuracy: 0.9804 - val_loss: 0.4731 - val_accuracy: 0.9323\n",
            "Epoch 45/50\n",
            "150/150 [==============================] - 1s 4ms/step - loss: 0.0562 - accuracy: 0.9821 - val_loss: 0.6152 - val_accuracy: 0.9023\n",
            "Epoch 46/50\n",
            "150/150 [==============================] - 1s 4ms/step - loss: 0.0531 - accuracy: 0.9837 - val_loss: 0.5350 - val_accuracy: 0.8872\n",
            "Epoch 47/50\n",
            "150/150 [==============================] - 1s 4ms/step - loss: 0.0428 - accuracy: 0.9871 - val_loss: 0.5666 - val_accuracy: 0.9023\n",
            "Epoch 48/50\n",
            "150/150 [==============================] - 1s 4ms/step - loss: 0.0463 - accuracy: 0.9867 - val_loss: 0.6097 - val_accuracy: 0.8872\n",
            "Epoch 49/50\n",
            "150/150 [==============================] - 1s 4ms/step - loss: 0.0362 - accuracy: 0.9892 - val_loss: 0.5730 - val_accuracy: 0.9248\n",
            "Epoch 50/50\n",
            "150/150 [==============================] - 1s 4ms/step - loss: 0.0360 - accuracy: 0.9892 - val_loss: 0.6179 - val_accuracy: 0.8496\n"
          ]
        }
      ]
    },
    {
      "cell_type": "code",
      "metadata": {
        "id": "1m06md5BtSZe",
        "colab": {
          "base_uri": "https://localhost:8080/",
          "height": 282
        },
        "outputId": "82465bfc-b5e1-41e4-e75b-8b8ffef28a03"
      },
      "source": [
        "import matplotlib.pyplot as plt\n",
        "# Plot loss, val_loss\n",
        "plt.plot(history.history[\"loss\"])\n",
        "plt.plot(history.history[\"val_loss\"])\n",
        "plt.imshow"
      ],
      "execution_count": 26,
      "outputs": [
        {
          "output_type": "execute_result",
          "data": {
            "text/plain": [
              "<function matplotlib.pyplot.imshow>"
            ]
          },
          "metadata": {},
          "execution_count": 26
        },
        {
          "output_type": "display_data",
          "data": {
            "image/png": "[encoded data removed]",
            "text/plain": [
              "<Figure size 432x288 with 1 Axes>"
            ]
          },
          "metadata": {
            "needs_background": "light"
          }
        }
      ]
    },
    {
      "cell_type": "code",
      "metadata": {
        "id": "ZuOpvxVOtXIA",
        "colab": {
          "base_uri": "https://localhost:8080/",
          "height": 282
        },
        "outputId": "93edf223-a209-4876-928f-fcc204683ff3"
      },
      "source": [
        "import matplotlib.pyplot as plt\n",
        "# Plot loss, val_loss\n",
        "plt.plot(history.history[\"accuracy\"])\n",
        "plt.plot(history.history[\"val_accuracy\"])\n",
        "plt.imshow"
      ],
      "execution_count": 27,
      "outputs": [
        {
          "output_type": "execute_result",
          "data": {
            "text/plain": [
              "<function matplotlib.pyplot.imshow>"
            ]
          },
          "metadata": {},
          "execution_count": 27
        },
        {
          "output_type": "display_data",
          "data": {
            "image/png": "[encoded data removed]",
            "text/plain": [
              "<Figure size 432x288 with 1 Axes>"
            ]
          },
          "metadata": {
            "needs_background": "light"
          }
        }
      ]
    },
    {
      "cell_type": "code",
      "metadata": {
        "id": "KTxL1l4Ttbho",
        "colab": {
          "base_uri": "https://localhost:8080/"
        },
        "outputId": "5b083fd0-efde-4567-fe1c-a6bc1960381c"
      },
      "source": [
        "from keras.losses import binary_crossentropy\n",
        "\n",
        "# real y\n",
        "real = test.Churn.astype(\"int\").values\n",
        "# predicted y\n",
        "pred = model.predict(test.drop(\"Churn\",axis=1)).flatten()\n",
        "# binary_crossentropy\n",
        "print(float(binary_crossentropy(real,pred)))"
      ],
      "execution_count": 28,
      "outputs": [
        {
          "output_type": "stream",
          "name": "stdout",
          "text": [
            "0.7116876244544983\n"
          ]
        }
      ]
    },
    {
      "cell_type": "code",
      "metadata": {
        "id": "KJWehZ_xte0H",
        "colab": {
          "base_uri": "https://localhost:8080/"
        },
        "outputId": "8248f41f-4425-4999-8e79-ee18b18b51e1"
      },
      "source": [
        "# calculate accuracy\n",
        "pred = [1 if i>0.5 else 0 for i in pred]\n",
        "print(sum(pred==real)/len(pred))"
      ],
      "execution_count": 29,
      "outputs": [
        {
          "output_type": "stream",
          "name": "stdout",
          "text": [
            "0.8208955223880597\n"
          ]
        }
      ]
    },
    {
      "cell_type": "markdown",
      "metadata": {
        "id": "qZZfIe1-Ctqe"
      },
      "source": [
        "## Q4: How you can solve the problem and improve your model?"
      ]
    },
    {
      "cell_type": "markdown",
      "metadata": {
        "tags": [],
        "cell_id": "00012-8942aa20-c103-4078-9e3f-473e4f204319",
        "id": "s8T83i1sVTRn"
      },
      "source": [
        "Use Dropout"
      ]
    },
    {
      "cell_type": "code",
      "metadata": {
        "id": "rlKAHsKlExw5",
        "colab": {
          "base_uri": "https://localhost:8080/"
        },
        "outputId": "046a4db5-4f09-40ac-d1cc-2867199002a8"
      },
      "source": [
        "# Dropout\n",
        "from keras.models import Sequential\n",
        "from keras.layers import Dense, Dropout\n",
        "from keras.regularizers import l2\n",
        "\n",
        "# Drop out used at the first two layers\n",
        "model=Sequential()\n",
        "model.add(Dense(128,input_shape=(df.shape[1]-1,), activation='relu'))\n",
        "model.add(Dropout(0.2))\n",
        "model.add(Dense(32, activation='relu'))\n",
        "model.add(Dropout(0.1))\n",
        "model.add(Dense(32, activation='relu'))\n",
        "model.add(Dense(8, activation='relu'))\n",
        "model.add(Dense(1,activation=\"sigmoid\"))\n",
        "model.compile(optimizer='adam', loss='binary_crossentropy', metrics=['accuracy'])\n",
        "history = model.fit(train.drop(\"Churn\",axis=1),train[\"Churn\"],\n",
        "                    validation_data=(validation.drop(\"Churn\",axis=1),validation[\"Churn\"]),\n",
        "          batch_size=16, epochs=100)"
      ],
      "execution_count": 30,
      "outputs": [
        {
          "output_type": "stream",
          "name": "stdout",
          "text": [
            "Epoch 1/100\n",
            "150/150 [==============================] - 2s 6ms/step - loss: 0.6718 - accuracy: 0.8087 - val_loss: 0.6351 - val_accuracy: 0.8647\n",
            "Epoch 2/100\n",
            "150/150 [==============================] - 1s 4ms/step - loss: 0.4483 - accuracy: 0.8545 - val_loss: 0.3836 - val_accuracy: 0.8647\n",
            "Epoch 3/100\n",
            "150/150 [==============================] - 1s 4ms/step - loss: 0.4083 - accuracy: 0.8545 - val_loss: 0.3705 - val_accuracy: 0.8647\n",
            "Epoch 4/100\n",
            "150/150 [==============================] - 1s 4ms/step - loss: 0.3871 - accuracy: 0.8545 - val_loss: 0.3624 - val_accuracy: 0.8647\n",
            "Epoch 5/100\n",
            "150/150 [==============================] - 1s 4ms/step - loss: 0.3725 - accuracy: 0.8545 - val_loss: 0.3394 - val_accuracy: 0.8647\n",
            "Epoch 6/100\n",
            "150/150 [==============================] - 1s 4ms/step - loss: 0.3670 - accuracy: 0.8570 - val_loss: 0.3587 - val_accuracy: 0.8647\n",
            "Epoch 7/100\n",
            "150/150 [==============================] - 1s 4ms/step - loss: 0.3614 - accuracy: 0.8574 - val_loss: 0.3320 - val_accuracy: 0.8722\n",
            "Epoch 8/100\n",
            "150/150 [==============================] - 1s 4ms/step - loss: 0.3566 - accuracy: 0.8604 - val_loss: 0.3300 - val_accuracy: 0.8722\n",
            "Epoch 9/100\n",
            "150/150 [==============================] - 1s 4ms/step - loss: 0.3468 - accuracy: 0.8654 - val_loss: 0.3373 - val_accuracy: 0.8722\n",
            "Epoch 10/100\n",
            "150/150 [==============================] - 1s 4ms/step - loss: 0.3476 - accuracy: 0.8641 - val_loss: 0.3188 - val_accuracy: 0.8797\n",
            "Epoch 11/100\n",
            "150/150 [==============================] - 1s 4ms/step - loss: 0.3294 - accuracy: 0.8666 - val_loss: 0.3226 - val_accuracy: 0.8797\n",
            "Epoch 12/100\n",
            "150/150 [==============================] - 1s 5ms/step - loss: 0.3277 - accuracy: 0.8716 - val_loss: 0.3281 - val_accuracy: 0.8722\n",
            "Epoch 13/100\n",
            "150/150 [==============================] - 1s 4ms/step - loss: 0.3134 - accuracy: 0.8724 - val_loss: 0.3100 - val_accuracy: 0.8947\n",
            "Epoch 14/100\n",
            "150/150 [==============================] - 1s 4ms/step - loss: 0.3020 - accuracy: 0.8766 - val_loss: 0.3131 - val_accuracy: 0.9023\n",
            "Epoch 15/100\n",
            "150/150 [==============================] - 1s 4ms/step - loss: 0.2917 - accuracy: 0.8841 - val_loss: 0.3250 - val_accuracy: 0.9098\n",
            "Epoch 16/100\n",
            "150/150 [==============================] - 1s 5ms/step - loss: 0.2820 - accuracy: 0.8854 - val_loss: 0.3297 - val_accuracy: 0.9023\n",
            "Epoch 17/100\n",
            "150/150 [==============================] - 1s 5ms/step - loss: 0.2708 - accuracy: 0.8958 - val_loss: 0.3394 - val_accuracy: 0.8872\n",
            "Epoch 18/100\n",
            "150/150 [==============================] - 1s 5ms/step - loss: 0.2619 - accuracy: 0.8966 - val_loss: 0.3581 - val_accuracy: 0.8797\n",
            "Epoch 19/100\n",
            "150/150 [==============================] - 1s 5ms/step - loss: 0.2494 - accuracy: 0.9016 - val_loss: 0.3175 - val_accuracy: 0.9098\n",
            "Epoch 20/100\n",
            "150/150 [==============================] - 1s 4ms/step - loss: 0.2399 - accuracy: 0.9037 - val_loss: 0.3581 - val_accuracy: 0.8872\n",
            "Epoch 21/100\n",
            "150/150 [==============================] - 1s 4ms/step - loss: 0.2354 - accuracy: 0.9116 - val_loss: 0.3170 - val_accuracy: 0.9248\n",
            "Epoch 22/100\n",
            "150/150 [==============================] - 1s 5ms/step - loss: 0.2128 - accuracy: 0.9212 - val_loss: 0.3501 - val_accuracy: 0.8797\n",
            "Epoch 23/100\n",
            "150/150 [==============================] - 1s 5ms/step - loss: 0.2071 - accuracy: 0.9191 - val_loss: 0.3527 - val_accuracy: 0.8947\n",
            "Epoch 24/100\n",
            "150/150 [==============================] - 1s 4ms/step - loss: 0.2069 - accuracy: 0.9208 - val_loss: 0.3457 - val_accuracy: 0.8872\n",
            "Epoch 25/100\n",
            "150/150 [==============================] - 1s 4ms/step - loss: 0.1974 - accuracy: 0.9241 - val_loss: 0.3436 - val_accuracy: 0.9098\n",
            "Epoch 26/100\n",
            "150/150 [==============================] - 1s 4ms/step - loss: 0.1984 - accuracy: 0.9241 - val_loss: 0.3838 - val_accuracy: 0.8872\n",
            "Epoch 27/100\n",
            "150/150 [==============================] - 1s 4ms/step - loss: 0.1831 - accuracy: 0.9279 - val_loss: 0.3425 - val_accuracy: 0.9098\n",
            "Epoch 28/100\n",
            "150/150 [==============================] - 1s 4ms/step - loss: 0.1831 - accuracy: 0.9250 - val_loss: 0.3876 - val_accuracy: 0.9098\n",
            "Epoch 29/100\n",
            "150/150 [==============================] - 1s 4ms/step - loss: 0.1759 - accuracy: 0.9296 - val_loss: 0.3685 - val_accuracy: 0.9173\n",
            "Epoch 30/100\n",
            "150/150 [==============================] - 1s 4ms/step - loss: 0.1674 - accuracy: 0.9329 - val_loss: 0.3276 - val_accuracy: 0.9248\n",
            "Epoch 31/100\n",
            "150/150 [==============================] - 1s 4ms/step - loss: 0.1584 - accuracy: 0.9396 - val_loss: 0.3973 - val_accuracy: 0.9023\n",
            "Epoch 32/100\n",
            "150/150 [==============================] - 1s 4ms/step - loss: 0.1487 - accuracy: 0.9383 - val_loss: 0.4385 - val_accuracy: 0.9023\n",
            "Epoch 33/100\n",
            "150/150 [==============================] - 1s 5ms/step - loss: 0.1449 - accuracy: 0.9433 - val_loss: 0.4452 - val_accuracy: 0.8872\n",
            "Epoch 34/100\n",
            "150/150 [==============================] - 1s 4ms/step - loss: 0.1505 - accuracy: 0.9404 - val_loss: 0.4058 - val_accuracy: 0.9023\n",
            "Epoch 35/100\n",
            "150/150 [==============================] - 1s 4ms/step - loss: 0.1351 - accuracy: 0.9458 - val_loss: 0.4193 - val_accuracy: 0.9173\n",
            "Epoch 36/100\n",
            "150/150 [==============================] - 1s 4ms/step - loss: 0.1356 - accuracy: 0.9475 - val_loss: 0.3971 - val_accuracy: 0.9248\n",
            "Epoch 37/100\n",
            "150/150 [==============================] - 1s 4ms/step - loss: 0.1174 - accuracy: 0.9529 - val_loss: 0.4125 - val_accuracy: 0.9098\n",
            "Epoch 38/100\n",
            "150/150 [==============================] - 1s 4ms/step - loss: 0.1404 - accuracy: 0.9421 - val_loss: 0.4250 - val_accuracy: 0.9098\n",
            "Epoch 39/100\n",
            "150/150 [==============================] - 1s 4ms/step - loss: 0.1264 - accuracy: 0.9487 - val_loss: 0.4349 - val_accuracy: 0.9098\n",
            "Epoch 40/100\n",
            "150/150 [==============================] - 1s 4ms/step - loss: 0.1246 - accuracy: 0.9479 - val_loss: 0.4497 - val_accuracy: 0.8947\n",
            "Epoch 41/100\n",
            "150/150 [==============================] - 1s 5ms/step - loss: 0.1142 - accuracy: 0.9550 - val_loss: 0.4808 - val_accuracy: 0.9098\n",
            "Epoch 42/100\n",
            "150/150 [==============================] - 1s 5ms/step - loss: 0.1114 - accuracy: 0.9521 - val_loss: 0.4282 - val_accuracy: 0.9098\n",
            "Epoch 43/100\n",
            "150/150 [==============================] - 1s 4ms/step - loss: 0.1164 - accuracy: 0.9546 - val_loss: 0.4555 - val_accuracy: 0.9323\n",
            "Epoch 44/100\n",
            "150/150 [==============================] - 1s 4ms/step - loss: 0.0970 - accuracy: 0.9591 - val_loss: 0.5593 - val_accuracy: 0.8872\n",
            "Epoch 45/100\n",
            "150/150 [==============================] - 1s 4ms/step - loss: 0.1004 - accuracy: 0.9596 - val_loss: 0.4652 - val_accuracy: 0.9098\n",
            "Epoch 46/100\n",
            "150/150 [==============================] - 1s 4ms/step - loss: 0.1083 - accuracy: 0.9558 - val_loss: 0.5289 - val_accuracy: 0.8722\n",
            "Epoch 47/100\n",
            "150/150 [==============================] - 1s 4ms/step - loss: 0.1131 - accuracy: 0.9558 - val_loss: 0.4905 - val_accuracy: 0.9023\n",
            "Epoch 48/100\n",
            "150/150 [==============================] - 1s 4ms/step - loss: 0.0988 - accuracy: 0.9608 - val_loss: 0.5577 - val_accuracy: 0.8947\n",
            "Epoch 49/100\n",
            "150/150 [==============================] - 1s 5ms/step - loss: 0.0966 - accuracy: 0.9579 - val_loss: 0.5154 - val_accuracy: 0.9098\n",
            "Epoch 50/100\n",
            "150/150 [==============================] - 1s 5ms/step - loss: 0.0916 - accuracy: 0.9633 - val_loss: 0.5181 - val_accuracy: 0.9023\n",
            "Epoch 51/100\n",
            "150/150 [==============================] - 1s 4ms/step - loss: 0.0974 - accuracy: 0.9612 - val_loss: 0.5028 - val_accuracy: 0.8947\n",
            "Epoch 52/100\n",
            "150/150 [==============================] - 1s 4ms/step - loss: 0.0826 - accuracy: 0.9629 - val_loss: 0.5590 - val_accuracy: 0.9098\n",
            "Epoch 53/100\n",
            "150/150 [==============================] - 1s 4ms/step - loss: 0.0998 - accuracy: 0.9596 - val_loss: 0.5675 - val_accuracy: 0.8571\n",
            "Epoch 54/100\n",
            "150/150 [==============================] - 1s 5ms/step - loss: 0.0952 - accuracy: 0.9617 - val_loss: 0.5131 - val_accuracy: 0.9098\n",
            "Epoch 55/100\n",
            "150/150 [==============================] - 1s 4ms/step - loss: 0.0711 - accuracy: 0.9725 - val_loss: 0.5362 - val_accuracy: 0.9173\n",
            "Epoch 56/100\n",
            "150/150 [==============================] - 1s 5ms/step - loss: 0.0860 - accuracy: 0.9662 - val_loss: 0.6107 - val_accuracy: 0.9023\n",
            "Epoch 57/100\n",
            "150/150 [==============================] - 1s 5ms/step - loss: 0.0956 - accuracy: 0.9617 - val_loss: 0.5060 - val_accuracy: 0.9248\n",
            "Epoch 58/100\n",
            "150/150 [==============================] - 1s 5ms/step - loss: 0.0609 - accuracy: 0.9758 - val_loss: 0.6276 - val_accuracy: 0.8722\n",
            "Epoch 59/100\n",
            "150/150 [==============================] - 1s 4ms/step - loss: 0.0774 - accuracy: 0.9708 - val_loss: 0.6307 - val_accuracy: 0.8872\n",
            "Epoch 60/100\n",
            "150/150 [==============================] - 1s 4ms/step - loss: 0.0698 - accuracy: 0.9725 - val_loss: 0.5664 - val_accuracy: 0.9248\n",
            "Epoch 61/100\n",
            "150/150 [==============================] - 1s 4ms/step - loss: 0.0822 - accuracy: 0.9646 - val_loss: 0.5087 - val_accuracy: 0.9098\n",
            "Epoch 62/100\n",
            "150/150 [==============================] - 1s 4ms/step - loss: 0.0799 - accuracy: 0.9700 - val_loss: 0.5711 - val_accuracy: 0.9023\n",
            "Epoch 63/100\n",
            "150/150 [==============================] - 1s 4ms/step - loss: 0.0784 - accuracy: 0.9692 - val_loss: 0.5626 - val_accuracy: 0.9023\n",
            "Epoch 64/100\n",
            "150/150 [==============================] - 1s 5ms/step - loss: 0.0555 - accuracy: 0.9783 - val_loss: 0.6715 - val_accuracy: 0.8947\n",
            "Epoch 65/100\n",
            "150/150 [==============================] - 1s 4ms/step - loss: 0.0771 - accuracy: 0.9708 - val_loss: 0.5583 - val_accuracy: 0.9098\n",
            "Epoch 66/100\n",
            "150/150 [==============================] - 1s 4ms/step - loss: 0.0684 - accuracy: 0.9696 - val_loss: 0.7040 - val_accuracy: 0.9098\n",
            "Epoch 67/100\n",
            "150/150 [==============================] - 1s 5ms/step - loss: 0.0565 - accuracy: 0.9787 - val_loss: 0.6101 - val_accuracy: 0.8947\n",
            "Epoch 68/100\n",
            "150/150 [==============================] - 1s 4ms/step - loss: 0.0678 - accuracy: 0.9750 - val_loss: 0.6965 - val_accuracy: 0.8797\n",
            "Epoch 69/100\n",
            "150/150 [==============================] - 1s 5ms/step - loss: 0.0781 - accuracy: 0.9687 - val_loss: 0.5678 - val_accuracy: 0.8722\n",
            "Epoch 70/100\n",
            "150/150 [==============================] - 1s 5ms/step - loss: 0.0546 - accuracy: 0.9796 - val_loss: 0.6005 - val_accuracy: 0.9098\n",
            "Epoch 71/100\n",
            "150/150 [==============================] - 1s 4ms/step - loss: 0.0701 - accuracy: 0.9712 - val_loss: 0.5902 - val_accuracy: 0.9023\n",
            "Epoch 72/100\n",
            "150/150 [==============================] - 1s 4ms/step - loss: 0.0549 - accuracy: 0.9792 - val_loss: 0.6056 - val_accuracy: 0.9323\n",
            "Epoch 73/100\n",
            "150/150 [==============================] - 1s 4ms/step - loss: 0.0580 - accuracy: 0.9754 - val_loss: 0.6248 - val_accuracy: 0.9248\n",
            "Epoch 74/100\n",
            "150/150 [==============================] - 1s 5ms/step - loss: 0.0757 - accuracy: 0.9692 - val_loss: 0.5982 - val_accuracy: 0.9098\n",
            "Epoch 75/100\n",
            "150/150 [==============================] - 1s 5ms/step - loss: 0.0718 - accuracy: 0.9708 - val_loss: 0.6153 - val_accuracy: 0.9098\n",
            "Epoch 76/100\n",
            "150/150 [==============================] - 1s 5ms/step - loss: 0.0640 - accuracy: 0.9754 - val_loss: 0.6651 - val_accuracy: 0.8872\n",
            "Epoch 77/100\n",
            "150/150 [==============================] - 1s 4ms/step - loss: 0.0717 - accuracy: 0.9717 - val_loss: 0.5996 - val_accuracy: 0.9248\n",
            "Epoch 78/100\n",
            "150/150 [==============================] - 1s 5ms/step - loss: 0.0471 - accuracy: 0.9817 - val_loss: 0.5910 - val_accuracy: 0.9248\n",
            "Epoch 79/100\n",
            "150/150 [==============================] - 1s 5ms/step - loss: 0.0627 - accuracy: 0.9787 - val_loss: 0.6007 - val_accuracy: 0.8947\n",
            "Epoch 80/100\n",
            "150/150 [==============================] - 1s 5ms/step - loss: 0.0618 - accuracy: 0.9796 - val_loss: 0.6170 - val_accuracy: 0.9098\n",
            "Epoch 81/100\n",
            "150/150 [==============================] - 1s 4ms/step - loss: 0.0485 - accuracy: 0.9821 - val_loss: 0.6409 - val_accuracy: 0.9173\n",
            "Epoch 82/100\n",
            "150/150 [==============================] - 1s 4ms/step - loss: 0.0653 - accuracy: 0.9758 - val_loss: 0.7298 - val_accuracy: 0.9023\n",
            "Epoch 83/100\n",
            "150/150 [==============================] - 1s 5ms/step - loss: 0.0574 - accuracy: 0.9771 - val_loss: 0.5914 - val_accuracy: 0.9173\n",
            "Epoch 84/100\n",
            "150/150 [==============================] - 1s 5ms/step - loss: 0.0598 - accuracy: 0.9750 - val_loss: 0.6053 - val_accuracy: 0.9023\n",
            "Epoch 85/100\n",
            "150/150 [==============================] - 1s 4ms/step - loss: 0.0601 - accuracy: 0.9754 - val_loss: 0.6337 - val_accuracy: 0.8947\n",
            "Epoch 86/100\n",
            "150/150 [==============================] - 1s 4ms/step - loss: 0.0541 - accuracy: 0.9792 - val_loss: 0.6375 - val_accuracy: 0.9098\n",
            "Epoch 87/100\n",
            "150/150 [==============================] - 1s 4ms/step - loss: 0.0580 - accuracy: 0.9762 - val_loss: 0.5992 - val_accuracy: 0.8872\n",
            "Epoch 88/100\n",
            "150/150 [==============================] - 1s 4ms/step - loss: 0.0453 - accuracy: 0.9842 - val_loss: 0.6164 - val_accuracy: 0.8797\n",
            "Epoch 89/100\n",
            "150/150 [==============================] - 1s 4ms/step - loss: 0.0556 - accuracy: 0.9783 - val_loss: 0.6004 - val_accuracy: 0.9248\n",
            "Epoch 90/100\n",
            "150/150 [==============================] - 1s 4ms/step - loss: 0.0676 - accuracy: 0.9742 - val_loss: 0.6021 - val_accuracy: 0.9023\n",
            "Epoch 91/100\n",
            "150/150 [==============================] - 1s 4ms/step - loss: 0.0482 - accuracy: 0.9804 - val_loss: 0.6079 - val_accuracy: 0.9248\n",
            "Epoch 92/100\n",
            "150/150 [==============================] - 1s 4ms/step - loss: 0.0481 - accuracy: 0.9800 - val_loss: 0.6610 - val_accuracy: 0.9023\n",
            "Epoch 93/100\n",
            "150/150 [==============================] - 1s 4ms/step - loss: 0.0507 - accuracy: 0.9817 - val_loss: 0.7165 - val_accuracy: 0.9098\n",
            "Epoch 94/100\n",
            "150/150 [==============================] - 1s 4ms/step - loss: 0.0551 - accuracy: 0.9792 - val_loss: 0.5979 - val_accuracy: 0.9173\n",
            "Epoch 95/100\n",
            "150/150 [==============================] - 1s 4ms/step - loss: 0.0360 - accuracy: 0.9867 - val_loss: 0.6843 - val_accuracy: 0.9098\n",
            "Epoch 96/100\n",
            "150/150 [==============================] - 1s 4ms/step - loss: 0.0298 - accuracy: 0.9879 - val_loss: 0.6557 - val_accuracy: 0.9323\n",
            "Epoch 97/100\n",
            "150/150 [==============================] - 1s 5ms/step - loss: 0.0493 - accuracy: 0.9829 - val_loss: 0.7633 - val_accuracy: 0.8722\n",
            "Epoch 98/100\n",
            "150/150 [==============================] - 1s 4ms/step - loss: 0.0791 - accuracy: 0.9712 - val_loss: 0.6026 - val_accuracy: 0.9323\n",
            "Epoch 99/100\n",
            "150/150 [==============================] - 1s 4ms/step - loss: 0.0352 - accuracy: 0.9883 - val_loss: 0.6729 - val_accuracy: 0.9023\n",
            "Epoch 100/100\n",
            "150/150 [==============================] - 1s 4ms/step - loss: 0.0396 - accuracy: 0.9854 - val_loss: 0.6873 - val_accuracy: 0.9248\n"
          ]
        }
      ]
    },
    {
      "cell_type": "code",
      "metadata": {
        "tags": [],
        "cell_id": "00006-7ebae79f-14e2-49b3-8d15-53e569e5c30e",
        "output_cleared": false,
        "source_hash": "36f8e9de",
        "execution_millis": 102,
        "execution_start": 1605416693253,
        "id": "jj9IfU2kVTRr",
        "colab": {
          "base_uri": "https://localhost:8080/",
          "height": 286
        },
        "outputId": "3bb3031f-fa07-46ff-ddc5-fd5ede411e0e"
      },
      "source": [
        "# same as above, plot loss, val_loss\n",
        "plt.plot(history.history[\"loss\"])\n",
        "plt.plot(history.history[\"val_loss\"])\n",
        "plt.imshow"
      ],
      "execution_count": 31,
      "outputs": [
        {
          "output_type": "execute_result",
          "data": {
            "text/plain": [
              "<function matplotlib.pyplot.imshow>"
            ]
          },
          "metadata": {},
          "execution_count": 31
        },
        {
          "output_type": "display_data",
          "data": {
            "image/png": "[encoded data removed]",
            "text/plain": [
              "<Figure size 432x288 with 1 Axes>"
            ]
          },
          "metadata": {
            "needs_background": "light"
          }
        }
      ]
    },
    {
      "cell_type": "code",
      "metadata": {
        "id": "e5T67PTLpJGu",
        "colab": {
          "base_uri": "https://localhost:8080/",
          "height": 282
        },
        "outputId": "4dd3f50a-dc96-4eec-dcc6-ab54044fad5b"
      },
      "source": [
        "# same as above, plot accuracy, val_accuracy\n",
        "plt.plot(history.history[\"accuracy\"])\n",
        "plt.plot(history.history[\"val_accuracy\"])\n",
        "plt.imshow"
      ],
      "execution_count": 32,
      "outputs": [
        {
          "output_type": "execute_result",
          "data": {
            "text/plain": [
              "<function matplotlib.pyplot.imshow>"
            ]
          },
          "metadata": {},
          "execution_count": 32
        },
        {
          "output_type": "display_data",
          "data": {
            "image/png": "[encoded data removed]",
            "text/plain": [
              "<Figure size 432x288 with 1 Axes>"
            ]
          },
          "metadata": {
            "needs_background": "light"
          }
        }
      ]
    },
    {
      "cell_type": "code",
      "metadata": {
        "tags": [],
        "cell_id": "00014-ac15bb1e-7f1b-4533-843f-85ee083a2b0d",
        "output_cleared": false,
        "source_hash": "aa73d8f6",
        "execution_millis": 70,
        "execution_start": 1605416560006,
        "id": "2vpNkUyZVTRw",
        "colab": {
          "base_uri": "https://localhost:8080/"
        },
        "outputId": "fccac7f7-d0c0-4995-c0a1-cf8ba8a74583"
      },
      "source": [
        "# same as above, calculate  binary_crossentropy\n",
        "from keras.losses import binary_crossentropy\n",
        "real = test.Churn.astype(\"int\").values\n",
        "pred = model.predict(test.drop(\"Churn\",axis=1)).flatten()\n",
        "print(float(binary_crossentropy(real,pred)))"
      ],
      "execution_count": 33,
      "outputs": [
        {
          "output_type": "stream",
          "name": "stdout",
          "text": [
            "0.8554563522338867\n"
          ]
        }
      ]
    },
    {
      "cell_type": "code",
      "metadata": {
        "tags": [],
        "cell_id": "00017-fd1c3c13-e525-4acd-a9c1-a70fb7896b4c",
        "output_cleared": false,
        "source_hash": "7f48241c",
        "execution_start": 1605416582237,
        "execution_millis": 0,
        "id": "T5TB0eqAVTRz",
        "colab": {
          "base_uri": "https://localhost:8080/"
        },
        "outputId": "f7b50a5b-9fea-427b-ae35-d07bcc791036"
      },
      "source": [
        "# Again, calculate accuracy\n",
        "pred = [1 if i>0.5 else 0 for i in pred]\n",
        "print(sum(pred==real)/len(pred))"
      ],
      "execution_count": 34,
      "outputs": [
        {
          "output_type": "stream",
          "name": "stdout",
          "text": [
            "0.8283582089552238\n"
          ]
        }
      ]
    },
    {
      "cell_type": "markdown",
      "metadata": {
        "tags": [],
        "cell_id": "00018-2cd9032d-4d32-4afa-83c4-1dc2fd0d5892",
        "id": "-q0qSj2AVTR3"
      },
      "source": [
        "Use L2 Weight Regularization"
      ]
    },
    {
      "cell_type": "markdown",
      "metadata": {
        "id": "35kHoELaylfe"
      },
      "source": [
        "- Softmax, LR decay, optimizers, units, and layers"
      ]
    },
    {
      "cell_type": "code",
      "metadata": {
        "id": "GfNrAbA4E1HX",
        "colab": {
          "base_uri": "https://localhost:8080/"
        },
        "outputId": "130f0e9d-dcf9-4e8e-88e8-a7d0ae05983f"
      },
      "source": [
        "# L2\n",
        "\n",
        "model=Sequential()\n",
        "# L2 regularization applied at the first hidden layer\n",
        "model.add(Dense(64,input_shape=(df.shape[1]-1,), activation='relu', kernel_regularizer=\"l2\"))\n",
        "model.add(Dense(64, activation='relu', kernel_regularizer=\"l2\"))\n",
        "model.add(Dense(32, activation='relu'))\n",
        "model.add(Dense(8, activation='relu'))\n",
        "model.add(Dense(1,activation=\"sigmoid\"))\n",
        "model.compile(optimizer='rmsprop', loss='binary_crossentropy', metrics=['accuracy'])\n",
        "history = model.fit(train.drop(\"Churn\",axis=1),train[\"Churn\"],\n",
        "                    validation_data=(validation.drop(\"Churn\",axis=1),validation[\"Churn\"]),\n",
        "          batch_size=16, epochs=100)"
      ],
      "execution_count": 35,
      "outputs": [
        {
          "output_type": "stream",
          "name": "stdout",
          "text": [
            "Epoch 1/100\n",
            "150/150 [==============================] - 2s 7ms/step - loss: 0.9581 - accuracy: 0.8441 - val_loss: 0.5134 - val_accuracy: 0.8647\n",
            "Epoch 2/100\n",
            "150/150 [==============================] - 1s 5ms/step - loss: 0.4744 - accuracy: 0.8545 - val_loss: 0.4241 - val_accuracy: 0.8647\n",
            "Epoch 3/100\n",
            "150/150 [==============================] - 1s 5ms/step - loss: 0.4398 - accuracy: 0.8545 - val_loss: 0.4093 - val_accuracy: 0.8647\n",
            "Epoch 4/100\n",
            "150/150 [==============================] - 1s 5ms/step - loss: 0.4277 - accuracy: 0.8545 - val_loss: 0.4060 - val_accuracy: 0.8647\n",
            "Epoch 5/100\n",
            "150/150 [==============================] - 1s 6ms/step - loss: 0.4202 - accuracy: 0.8545 - val_loss: 0.3937 - val_accuracy: 0.8647\n",
            "Epoch 6/100\n",
            "150/150 [==============================] - 1s 6ms/step - loss: 0.4147 - accuracy: 0.8545 - val_loss: 0.3878 - val_accuracy: 0.8647\n",
            "Epoch 7/100\n",
            "150/150 [==============================] - 1s 5ms/step - loss: 0.4115 - accuracy: 0.8545 - val_loss: 0.3842 - val_accuracy: 0.8647\n",
            "Epoch 8/100\n",
            "150/150 [==============================] - 1s 6ms/step - loss: 0.4087 - accuracy: 0.8545 - val_loss: 0.3831 - val_accuracy: 0.8647\n",
            "Epoch 9/100\n",
            "150/150 [==============================] - 1s 5ms/step - loss: 0.4039 - accuracy: 0.8545 - val_loss: 0.3848 - val_accuracy: 0.8647\n",
            "Epoch 10/100\n",
            "150/150 [==============================] - 1s 5ms/step - loss: 0.3994 - accuracy: 0.8545 - val_loss: 0.3763 - val_accuracy: 0.8647\n",
            "Epoch 11/100\n",
            "150/150 [==============================] - 1s 5ms/step - loss: 0.3984 - accuracy: 0.8545 - val_loss: 0.3732 - val_accuracy: 0.8647\n",
            "Epoch 12/100\n",
            "150/150 [==============================] - 1s 5ms/step - loss: 0.3992 - accuracy: 0.8545 - val_loss: 0.3746 - val_accuracy: 0.8647\n",
            "Epoch 13/100\n",
            "150/150 [==============================] - 1s 5ms/step - loss: 0.3976 - accuracy: 0.8545 - val_loss: 0.4013 - val_accuracy: 0.8647\n",
            "Epoch 14/100\n",
            "150/150 [==============================] - 1s 5ms/step - loss: 0.3971 - accuracy: 0.8545 - val_loss: 0.3722 - val_accuracy: 0.8647\n",
            "Epoch 15/100\n",
            "150/150 [==============================] - 1s 4ms/step - loss: 0.3958 - accuracy: 0.8545 - val_loss: 0.3721 - val_accuracy: 0.8647\n",
            "Epoch 16/100\n",
            "150/150 [==============================] - 1s 6ms/step - loss: 0.3972 - accuracy: 0.8545 - val_loss: 0.3784 - val_accuracy: 0.8647\n",
            "Epoch 17/100\n",
            "150/150 [==============================] - 1s 5ms/step - loss: 0.3949 - accuracy: 0.8545 - val_loss: 0.3803 - val_accuracy: 0.8647\n",
            "Epoch 18/100\n",
            "150/150 [==============================] - 1s 6ms/step - loss: 0.3973 - accuracy: 0.8545 - val_loss: 0.3779 - val_accuracy: 0.8647\n",
            "Epoch 19/100\n",
            "150/150 [==============================] - 1s 5ms/step - loss: 0.3942 - accuracy: 0.8545 - val_loss: 0.3768 - val_accuracy: 0.8647\n",
            "Epoch 20/100\n",
            "150/150 [==============================] - 1s 5ms/step - loss: 0.3949 - accuracy: 0.8545 - val_loss: 0.3737 - val_accuracy: 0.8647\n",
            "Epoch 21/100\n",
            "150/150 [==============================] - 1s 5ms/step - loss: 0.3962 - accuracy: 0.8545 - val_loss: 0.3712 - val_accuracy: 0.8647\n",
            "Epoch 22/100\n",
            "150/150 [==============================] - 1s 5ms/step - loss: 0.3930 - accuracy: 0.8541 - val_loss: 0.3810 - val_accuracy: 0.8647\n",
            "Epoch 23/100\n",
            "150/150 [==============================] - 1s 5ms/step - loss: 0.3895 - accuracy: 0.8595 - val_loss: 0.4213 - val_accuracy: 0.8722\n",
            "Epoch 24/100\n",
            "150/150 [==============================] - 1s 5ms/step - loss: 0.3870 - accuracy: 0.8599 - val_loss: 0.3764 - val_accuracy: 0.8647\n",
            "Epoch 25/100\n",
            "150/150 [==============================] - 1s 5ms/step - loss: 0.3832 - accuracy: 0.8629 - val_loss: 0.3718 - val_accuracy: 0.8647\n",
            "Epoch 26/100\n",
            "150/150 [==============================] - 1s 6ms/step - loss: 0.3825 - accuracy: 0.8666 - val_loss: 0.3835 - val_accuracy: 0.8647\n",
            "Epoch 27/100\n",
            "150/150 [==============================] - 1s 6ms/step - loss: 0.3782 - accuracy: 0.8712 - val_loss: 0.3700 - val_accuracy: 0.8947\n",
            "Epoch 28/100\n",
            "150/150 [==============================] - 1s 6ms/step - loss: 0.3732 - accuracy: 0.8716 - val_loss: 0.3932 - val_accuracy: 0.9023\n",
            "Epoch 29/100\n",
            "150/150 [==============================] - 1s 5ms/step - loss: 0.3701 - accuracy: 0.8799 - val_loss: 0.3712 - val_accuracy: 0.8947\n",
            "Epoch 30/100\n",
            "150/150 [==============================] - 1s 5ms/step - loss: 0.3683 - accuracy: 0.8850 - val_loss: 0.4004 - val_accuracy: 0.8722\n",
            "Epoch 31/100\n",
            "150/150 [==============================] - 1s 5ms/step - loss: 0.3631 - accuracy: 0.8837 - val_loss: 0.3756 - val_accuracy: 0.9098\n",
            "Epoch 32/100\n",
            "150/150 [==============================] - 1s 5ms/step - loss: 0.3568 - accuracy: 0.8875 - val_loss: 0.3737 - val_accuracy: 0.9173\n",
            "Epoch 33/100\n",
            "150/150 [==============================] - 1s 5ms/step - loss: 0.3620 - accuracy: 0.8925 - val_loss: 0.3747 - val_accuracy: 0.9173\n",
            "Epoch 34/100\n",
            "150/150 [==============================] - 1s 5ms/step - loss: 0.3623 - accuracy: 0.8895 - val_loss: 0.3886 - val_accuracy: 0.9098\n",
            "Epoch 35/100\n",
            "150/150 [==============================] - 1s 5ms/step - loss: 0.3568 - accuracy: 0.8916 - val_loss: 0.3821 - val_accuracy: 0.9098\n",
            "Epoch 36/100\n",
            "150/150 [==============================] - 1s 5ms/step - loss: 0.3617 - accuracy: 0.8933 - val_loss: 0.3952 - val_accuracy: 0.8947\n",
            "Epoch 37/100\n",
            "150/150 [==============================] - 1s 5ms/step - loss: 0.3565 - accuracy: 0.8958 - val_loss: 0.4074 - val_accuracy: 0.8872\n",
            "Epoch 38/100\n",
            "150/150 [==============================] - 1s 4ms/step - loss: 0.3569 - accuracy: 0.8979 - val_loss: 0.4027 - val_accuracy: 0.9023\n",
            "Epoch 39/100\n",
            "150/150 [==============================] - 1s 5ms/step - loss: 0.3569 - accuracy: 0.8916 - val_loss: 0.4081 - val_accuracy: 0.8947\n",
            "Epoch 40/100\n",
            "150/150 [==============================] - 1s 5ms/step - loss: 0.3577 - accuracy: 0.8966 - val_loss: 0.3887 - val_accuracy: 0.9023\n",
            "Epoch 41/100\n",
            "150/150 [==============================] - 1s 4ms/step - loss: 0.3553 - accuracy: 0.8995 - val_loss: 0.4035 - val_accuracy: 0.9023\n",
            "Epoch 42/100\n",
            "150/150 [==============================] - 1s 5ms/step - loss: 0.3531 - accuracy: 0.9033 - val_loss: 0.3883 - val_accuracy: 0.9098\n",
            "Epoch 43/100\n",
            "150/150 [==============================] - 1s 5ms/step - loss: 0.3589 - accuracy: 0.8950 - val_loss: 0.3909 - val_accuracy: 0.9098\n",
            "Epoch 44/100\n",
            "150/150 [==============================] - 1s 4ms/step - loss: 0.3571 - accuracy: 0.9000 - val_loss: 0.4101 - val_accuracy: 0.8647\n",
            "Epoch 45/100\n",
            "150/150 [==============================] - 1s 5ms/step - loss: 0.3561 - accuracy: 0.9004 - val_loss: 0.3893 - val_accuracy: 0.8947\n",
            "Epoch 46/100\n",
            "150/150 [==============================] - 1s 4ms/step - loss: 0.3555 - accuracy: 0.9045 - val_loss: 0.4027 - val_accuracy: 0.8872\n",
            "Epoch 47/100\n",
            "150/150 [==============================] - 1s 5ms/step - loss: 0.3557 - accuracy: 0.9008 - val_loss: 0.4088 - val_accuracy: 0.8722\n",
            "Epoch 48/100\n",
            "150/150 [==============================] - 1s 5ms/step - loss: 0.3556 - accuracy: 0.9050 - val_loss: 0.4040 - val_accuracy: 0.8872\n",
            "Epoch 49/100\n",
            "150/150 [==============================] - 1s 5ms/step - loss: 0.3606 - accuracy: 0.9025 - val_loss: 0.4295 - val_accuracy: 0.8947\n",
            "Epoch 50/100\n",
            "150/150 [==============================] - 1s 5ms/step - loss: 0.3523 - accuracy: 0.9066 - val_loss: 0.4090 - val_accuracy: 0.8947\n",
            "Epoch 51/100\n",
            "150/150 [==============================] - 1s 5ms/step - loss: 0.3547 - accuracy: 0.9070 - val_loss: 0.4205 - val_accuracy: 0.8647\n",
            "Epoch 52/100\n",
            "150/150 [==============================] - 1s 6ms/step - loss: 0.3596 - accuracy: 0.9012 - val_loss: 0.4133 - val_accuracy: 0.8872\n",
            "Epoch 53/100\n",
            "150/150 [==============================] - 1s 5ms/step - loss: 0.3578 - accuracy: 0.9041 - val_loss: 0.4461 - val_accuracy: 0.8496\n",
            "Epoch 54/100\n",
            "150/150 [==============================] - 1s 5ms/step - loss: 0.3574 - accuracy: 0.9050 - val_loss: 0.3997 - val_accuracy: 0.9248\n",
            "Epoch 55/100\n",
            "150/150 [==============================] - 1s 6ms/step - loss: 0.3541 - accuracy: 0.9083 - val_loss: 0.4654 - val_accuracy: 0.8421\n",
            "Epoch 56/100\n",
            "150/150 [==============================] - 1s 6ms/step - loss: 0.3581 - accuracy: 0.9020 - val_loss: 0.4120 - val_accuracy: 0.8722\n",
            "Epoch 57/100\n",
            "150/150 [==============================] - 1s 5ms/step - loss: 0.3515 - accuracy: 0.9091 - val_loss: 0.4326 - val_accuracy: 0.8571\n",
            "Epoch 58/100\n",
            "150/150 [==============================] - 1s 6ms/step - loss: 0.3561 - accuracy: 0.9087 - val_loss: 0.3996 - val_accuracy: 0.8872\n",
            "Epoch 59/100\n",
            "150/150 [==============================] - 1s 6ms/step - loss: 0.3621 - accuracy: 0.9050 - val_loss: 0.3906 - val_accuracy: 0.9098\n",
            "Epoch 60/100\n",
            "150/150 [==============================] - 1s 6ms/step - loss: 0.3574 - accuracy: 0.9095 - val_loss: 0.3953 - val_accuracy: 0.8872\n",
            "Epoch 61/100\n",
            "150/150 [==============================] - 1s 5ms/step - loss: 0.3584 - accuracy: 0.9037 - val_loss: 0.4355 - val_accuracy: 0.8496\n",
            "Epoch 62/100\n",
            "150/150 [==============================] - 1s 5ms/step - loss: 0.3577 - accuracy: 0.9104 - val_loss: 0.3883 - val_accuracy: 0.9173\n",
            "Epoch 63/100\n",
            "150/150 [==============================] - 1s 5ms/step - loss: 0.3584 - accuracy: 0.9033 - val_loss: 0.4222 - val_accuracy: 0.8722\n",
            "Epoch 64/100\n",
            "150/150 [==============================] - 1s 5ms/step - loss: 0.3583 - accuracy: 0.9020 - val_loss: 0.4636 - val_accuracy: 0.8346\n",
            "Epoch 65/100\n",
            "150/150 [==============================] - 1s 5ms/step - loss: 0.3554 - accuracy: 0.9041 - val_loss: 0.3910 - val_accuracy: 0.8947\n",
            "Epoch 66/100\n",
            "150/150 [==============================] - 1s 6ms/step - loss: 0.3538 - accuracy: 0.9079 - val_loss: 0.4259 - val_accuracy: 0.8722\n",
            "Epoch 67/100\n",
            "150/150 [==============================] - 1s 5ms/step - loss: 0.3552 - accuracy: 0.9079 - val_loss: 0.4551 - val_accuracy: 0.8346\n",
            "Epoch 68/100\n",
            "150/150 [==============================] - 1s 5ms/step - loss: 0.3555 - accuracy: 0.9058 - val_loss: 0.4728 - val_accuracy: 0.8271\n",
            "Epoch 69/100\n",
            "150/150 [==============================] - 1s 5ms/step - loss: 0.3503 - accuracy: 0.9075 - val_loss: 0.4409 - val_accuracy: 0.8496\n",
            "Epoch 70/100\n",
            "150/150 [==============================] - 1s 5ms/step - loss: 0.3529 - accuracy: 0.9083 - val_loss: 0.4156 - val_accuracy: 0.8722\n",
            "Epoch 71/100\n",
            "150/150 [==============================] - 1s 5ms/step - loss: 0.3543 - accuracy: 0.9054 - val_loss: 0.4172 - val_accuracy: 0.8797\n",
            "Epoch 72/100\n",
            "150/150 [==============================] - 1s 6ms/step - loss: 0.3525 - accuracy: 0.9062 - val_loss: 0.4129 - val_accuracy: 0.8797\n",
            "Epoch 73/100\n",
            "150/150 [==============================] - 1s 6ms/step - loss: 0.3530 - accuracy: 0.9070 - val_loss: 0.3980 - val_accuracy: 0.9023\n",
            "Epoch 74/100\n",
            "150/150 [==============================] - 1s 5ms/step - loss: 0.3494 - accuracy: 0.9108 - val_loss: 0.3965 - val_accuracy: 0.8947\n",
            "Epoch 75/100\n",
            "150/150 [==============================] - 1s 5ms/step - loss: 0.3500 - accuracy: 0.9141 - val_loss: 0.3844 - val_accuracy: 0.9248\n",
            "Epoch 76/100\n",
            "150/150 [==============================] - 1s 5ms/step - loss: 0.3526 - accuracy: 0.9108 - val_loss: 0.4186 - val_accuracy: 0.8797\n",
            "Epoch 77/100\n",
            "150/150 [==============================] - 1s 5ms/step - loss: 0.3520 - accuracy: 0.9033 - val_loss: 0.4052 - val_accuracy: 0.9098\n",
            "Epoch 78/100\n",
            "150/150 [==============================] - 1s 5ms/step - loss: 0.3506 - accuracy: 0.9083 - val_loss: 0.4035 - val_accuracy: 0.8872\n",
            "Epoch 79/100\n",
            "150/150 [==============================] - 1s 5ms/step - loss: 0.3488 - accuracy: 0.9100 - val_loss: 0.4461 - val_accuracy: 0.8722\n",
            "Epoch 80/100\n",
            "150/150 [==============================] - 1s 5ms/step - loss: 0.3521 - accuracy: 0.9083 - val_loss: 0.3905 - val_accuracy: 0.8797\n",
            "Epoch 81/100\n",
            "150/150 [==============================] - 1s 5ms/step - loss: 0.3470 - accuracy: 0.9091 - val_loss: 0.3904 - val_accuracy: 0.9248\n",
            "Epoch 82/100\n",
            "150/150 [==============================] - 1s 5ms/step - loss: 0.3488 - accuracy: 0.9100 - val_loss: 0.3946 - val_accuracy: 0.9173\n",
            "Epoch 83/100\n",
            "150/150 [==============================] - 1s 5ms/step - loss: 0.3440 - accuracy: 0.9104 - val_loss: 0.4148 - val_accuracy: 0.8872\n",
            "Epoch 84/100\n",
            "150/150 [==============================] - 1s 5ms/step - loss: 0.3484 - accuracy: 0.9100 - val_loss: 0.3970 - val_accuracy: 0.8947\n",
            "Epoch 85/100\n",
            "150/150 [==============================] - 1s 6ms/step - loss: 0.3448 - accuracy: 0.9095 - val_loss: 0.4833 - val_accuracy: 0.8421\n",
            "Epoch 86/100\n",
            "150/150 [==============================] - 1s 5ms/step - loss: 0.3454 - accuracy: 0.9058 - val_loss: 0.3971 - val_accuracy: 0.8947\n",
            "Epoch 87/100\n",
            "150/150 [==============================] - 1s 5ms/step - loss: 0.3463 - accuracy: 0.9045 - val_loss: 0.4220 - val_accuracy: 0.8722\n",
            "Epoch 88/100\n",
            "150/150 [==============================] - 1s 5ms/step - loss: 0.3460 - accuracy: 0.9091 - val_loss: 0.3889 - val_accuracy: 0.9173\n",
            "Epoch 89/100\n",
            "150/150 [==============================] - 1s 5ms/step - loss: 0.3524 - accuracy: 0.9054 - val_loss: 0.3901 - val_accuracy: 0.9098\n",
            "Epoch 90/100\n",
            "150/150 [==============================] - 1s 6ms/step - loss: 0.3458 - accuracy: 0.9091 - val_loss: 0.4380 - val_accuracy: 0.8647\n",
            "Epoch 91/100\n",
            "150/150 [==============================] - 1s 6ms/step - loss: 0.3431 - accuracy: 0.9145 - val_loss: 0.4033 - val_accuracy: 0.9323\n",
            "Epoch 92/100\n",
            "150/150 [==============================] - 1s 6ms/step - loss: 0.3470 - accuracy: 0.9095 - val_loss: 0.4156 - val_accuracy: 0.8647\n",
            "Epoch 93/100\n",
            "150/150 [==============================] - 1s 5ms/step - loss: 0.3479 - accuracy: 0.9100 - val_loss: 0.3949 - val_accuracy: 0.8872\n",
            "Epoch 94/100\n",
            "150/150 [==============================] - 1s 5ms/step - loss: 0.3436 - accuracy: 0.9100 - val_loss: 0.4025 - val_accuracy: 0.8947\n",
            "Epoch 95/100\n",
            "150/150 [==============================] - 1s 5ms/step - loss: 0.3414 - accuracy: 0.9141 - val_loss: 0.4357 - val_accuracy: 0.8647\n",
            "Epoch 96/100\n",
            "150/150 [==============================] - 1s 5ms/step - loss: 0.3438 - accuracy: 0.9125 - val_loss: 0.4271 - val_accuracy: 0.8647\n",
            "Epoch 97/100\n",
            "150/150 [==============================] - 1s 5ms/step - loss: 0.3465 - accuracy: 0.9012 - val_loss: 0.4200 - val_accuracy: 0.9023\n",
            "Epoch 98/100\n",
            "150/150 [==============================] - 1s 5ms/step - loss: 0.3425 - accuracy: 0.9166 - val_loss: 0.4421 - val_accuracy: 0.8872\n",
            "Epoch 99/100\n",
            "150/150 [==============================] - 1s 5ms/step - loss: 0.3456 - accuracy: 0.9066 - val_loss: 0.4547 - val_accuracy: 0.8496\n",
            "Epoch 100/100\n",
            "150/150 [==============================] - 1s 5ms/step - loss: 0.3411 - accuracy: 0.9120 - val_loss: 0.3976 - val_accuracy: 0.9098\n"
          ]
        }
      ]
    },
    {
      "cell_type": "code",
      "metadata": {
        "tags": [],
        "cell_id": "00020-14c6ad5c-4f42-41ae-bcbf-66b5f86ecdf0",
        "output_cleared": false,
        "source_hash": "36f8e9de",
        "execution_start": 1605416684141,
        "execution_millis": 70,
        "id": "bkt438U_VTR7",
        "colab": {
          "base_uri": "https://localhost:8080/",
          "height": 282
        },
        "outputId": "74283191-2283-417c-a6d7-7c9c0f146e6a"
      },
      "source": [
        "# same as above, plot loss, val_loss\n",
        "plt.plot(history.history[\"loss\"])\n",
        "plt.plot(history.history[\"val_loss\"])\n",
        "plt.imshow"
      ],
      "execution_count": 36,
      "outputs": [
        {
          "output_type": "execute_result",
          "data": {
            "text/plain": [
              "<function matplotlib.pyplot.imshow>"
            ]
          },
          "metadata": {},
          "execution_count": 36
        },
        {
          "output_type": "display_data",
          "data": {
            "image/png": "[encoded data removed]",
            "text/plain": [
              "<Figure size 432x288 with 1 Axes>"
            ]
          },
          "metadata": {
            "needs_background": "light"
          }
        }
      ]
    },
    {
      "cell_type": "code",
      "metadata": {
        "id": "kI9ynXvZpeoc",
        "colab": {
          "base_uri": "https://localhost:8080/",
          "height": 282
        },
        "outputId": "ab9728bd-9efa-40a4-a720-272cd1cedc2a"
      },
      "source": [
        "# same as above, plot accuracy, val_accuracy\n",
        "plt.plot(history.history[\"accuracy\"])\n",
        "plt.plot(history.history[\"val_accuracy\"])\n",
        "plt.imshow"
      ],
      "execution_count": 37,
      "outputs": [
        {
          "output_type": "execute_result",
          "data": {
            "text/plain": [
              "<function matplotlib.pyplot.imshow>"
            ]
          },
          "metadata": {},
          "execution_count": 37
        },
        {
          "output_type": "display_data",
          "data": {
            "image/png": "[encoded data removed]",
            "text/plain": [
              "<Figure size 432x288 with 1 Axes>"
            ]
          },
          "metadata": {
            "needs_background": "light"
          }
        }
      ]
    },
    {
      "cell_type": "code",
      "metadata": {
        "tags": [],
        "cell_id": "00021-a7683342-6eb7-4475-bf6c-aba5fe105da9",
        "output_cleared": false,
        "source_hash": "aa73d8f6",
        "execution_start": 1605416732669,
        "execution_millis": 27,
        "id": "OrIX_aetVTSA",
        "colab": {
          "base_uri": "https://localhost:8080/"
        },
        "outputId": "23ab2355-4594-4b47-a9ea-41cf1395cbd6"
      },
      "source": [
        "# same as above, calculate  binary_crossentropy\n",
        "from keras.losses import binary_crossentropy\n",
        "real = test.Churn.astype(\"int\").values\n",
        "pred = model.predict(test.drop(\"Churn\",axis=1)).flatten()\n",
        "print(float(binary_crossentropy(real,pred)))"
      ],
      "execution_count": 38,
      "outputs": [
        {
          "output_type": "stream",
          "name": "stdout",
          "text": [
            "0.2701556086540222\n"
          ]
        }
      ]
    },
    {
      "cell_type": "code",
      "metadata": {
        "tags": [],
        "cell_id": "00022-6b43e6ab-96fc-4a19-9aeb-8ac750d0c917",
        "output_cleared": false,
        "source_hash": "9c622461",
        "execution_start": 1605416740633,
        "execution_millis": 0,
        "id": "sDU-EVknVTSD",
        "colab": {
          "base_uri": "https://localhost:8080/"
        },
        "outputId": "bbe7aaa8-6b4b-4c6f-e27d-600e9388465e"
      },
      "source": [
        "# Again, calculate accuracy\n",
        "pred = [1 if i>0.5 else 0 for i in pred]\n",
        "print(sum(pred==real)/len(pred))"
      ],
      "execution_count": 39,
      "outputs": [
        {
          "output_type": "stream",
          "name": "stdout",
          "text": [
            "0.9253731343283582\n"
          ]
        }
      ]
    },
    {
      "cell_type": "markdown",
      "metadata": {
        "tags": [],
        "cell_id": "00016-eeb31530-ac08-472f-bbb9-83c9e497f73c",
        "id": "H-MRllZpVTSG"
      },
      "source": [
        "Use L2 + Dropout"
      ]
    },
    {
      "cell_type": "code",
      "metadata": {
        "id": "fKvP7l2_E4Bl",
        "colab": {
          "base_uri": "https://localhost:8080/"
        },
        "outputId": "31fafa4c-3335-48e2-92c3-cecb33eff33d"
      },
      "source": [
        "# Dropout + L2\n",
        "\n",
        "model=Sequential()\n",
        "model.add(Dense(64,input_shape=(df.shape[1]-1,), activation='relu', kernel_regularizer=\"l2\"))\n",
        "model.add(Dropout(0.15))\n",
        "model.add(Dense(32, activation='relu'))\n",
        "model.add(Dropout(0.15))\n",
        "#model.add(Dense(32, activation='relu'))\n",
        "model.add(Dense(8, activation='relu'))\n",
        "model.add(Dense(1,activation=\"sigmoid\"))\n",
        "model.compile(optimizer='rmsprop', loss='binary_crossentropy', metrics=['accuracy'])\n",
        "history = model.fit(train.drop(\"Churn\",axis=1),train[\"Churn\"],\n",
        "                    validation_data=(validation.drop(\"Churn\",axis=1),validation[\"Churn\"]),\n",
        "          batch_size=16, epochs=100)"
      ],
      "execution_count": 42,
      "outputs": [
        {
          "output_type": "stream",
          "name": "stdout",
          "text": [
            "Epoch 1/100\n",
            "150/150 [==============================] - 2s 6ms/step - loss: 0.7439 - accuracy: 0.8378 - val_loss: 0.4846 - val_accuracy: 0.8647\n",
            "Epoch 2/100\n",
            "150/150 [==============================] - 1s 4ms/step - loss: 0.4739 - accuracy: 0.8545 - val_loss: 0.4156 - val_accuracy: 0.8647\n",
            "Epoch 3/100\n",
            "150/150 [==============================] - 1s 5ms/step - loss: 0.4360 - accuracy: 0.8545 - val_loss: 0.3976 - val_accuracy: 0.8647\n",
            "Epoch 4/100\n",
            "150/150 [==============================] - 1s 6ms/step - loss: 0.4211 - accuracy: 0.8545 - val_loss: 0.3810 - val_accuracy: 0.8647\n",
            "Epoch 5/100\n",
            "150/150 [==============================] - 1s 5ms/step - loss: 0.4110 - accuracy: 0.8545 - val_loss: 0.3853 - val_accuracy: 0.8647\n",
            "Epoch 6/100\n",
            "150/150 [==============================] - 1s 6ms/step - loss: 0.4044 - accuracy: 0.8545 - val_loss: 0.3732 - val_accuracy: 0.8647\n",
            "Epoch 7/100\n",
            "150/150 [==============================] - 1s 6ms/step - loss: 0.4002 - accuracy: 0.8545 - val_loss: 0.3693 - val_accuracy: 0.8647\n",
            "Epoch 8/100\n",
            "150/150 [==============================] - 1s 6ms/step - loss: 0.3982 - accuracy: 0.8545 - val_loss: 0.3740 - val_accuracy: 0.8647\n",
            "Epoch 9/100\n",
            "150/150 [==============================] - 1s 6ms/step - loss: 0.3999 - accuracy: 0.8545 - val_loss: 0.3788 - val_accuracy: 0.8647\n",
            "Epoch 10/100\n",
            "150/150 [==============================] - 1s 5ms/step - loss: 0.3994 - accuracy: 0.8545 - val_loss: 0.3765 - val_accuracy: 0.8647\n",
            "Epoch 11/100\n",
            "150/150 [==============================] - 1s 5ms/step - loss: 0.3980 - accuracy: 0.8545 - val_loss: 0.3768 - val_accuracy: 0.8647\n",
            "Epoch 12/100\n",
            "150/150 [==============================] - 1s 4ms/step - loss: 0.3979 - accuracy: 0.8545 - val_loss: 0.3740 - val_accuracy: 0.8647\n",
            "Epoch 13/100\n",
            "150/150 [==============================] - 1s 5ms/step - loss: 0.3931 - accuracy: 0.8545 - val_loss: 0.3827 - val_accuracy: 0.8647\n",
            "Epoch 14/100\n",
            "150/150 [==============================] - 1s 5ms/step - loss: 0.3924 - accuracy: 0.8545 - val_loss: 0.4029 - val_accuracy: 0.8647\n",
            "Epoch 15/100\n",
            "150/150 [==============================] - 1s 5ms/step - loss: 0.3888 - accuracy: 0.8545 - val_loss: 0.4035 - val_accuracy: 0.8647\n",
            "Epoch 16/100\n",
            "150/150 [==============================] - 1s 6ms/step - loss: 0.3877 - accuracy: 0.8545 - val_loss: 0.3615 - val_accuracy: 0.8647\n",
            "Epoch 17/100\n",
            "150/150 [==============================] - 1s 6ms/step - loss: 0.3852 - accuracy: 0.8545 - val_loss: 0.3620 - val_accuracy: 0.8647\n",
            "Epoch 18/100\n",
            "150/150 [==============================] - 1s 5ms/step - loss: 0.3790 - accuracy: 0.8545 - val_loss: 0.3771 - val_accuracy: 0.8647\n",
            "Epoch 19/100\n",
            "150/150 [==============================] - 1s 5ms/step - loss: 0.3763 - accuracy: 0.8670 - val_loss: 0.4270 - val_accuracy: 0.8797\n",
            "Epoch 20/100\n",
            "150/150 [==============================] - 1s 5ms/step - loss: 0.3754 - accuracy: 0.8741 - val_loss: 0.3826 - val_accuracy: 0.8947\n",
            "Epoch 21/100\n",
            "150/150 [==============================] - 1s 5ms/step - loss: 0.3773 - accuracy: 0.8749 - val_loss: 0.3670 - val_accuracy: 0.9098\n",
            "Epoch 22/100\n",
            "150/150 [==============================] - 1s 5ms/step - loss: 0.3712 - accuracy: 0.8787 - val_loss: 0.3741 - val_accuracy: 0.9098\n",
            "Epoch 23/100\n",
            "150/150 [==============================] - 1s 6ms/step - loss: 0.3665 - accuracy: 0.8829 - val_loss: 0.3777 - val_accuracy: 0.9023\n",
            "Epoch 24/100\n",
            "150/150 [==============================] - 1s 6ms/step - loss: 0.3618 - accuracy: 0.8841 - val_loss: 0.3670 - val_accuracy: 0.9098\n",
            "Epoch 25/100\n",
            "150/150 [==============================] - 1s 6ms/step - loss: 0.3650 - accuracy: 0.8845 - val_loss: 0.3796 - val_accuracy: 0.9023\n",
            "Epoch 26/100\n",
            "150/150 [==============================] - 1s 5ms/step - loss: 0.3598 - accuracy: 0.8925 - val_loss: 0.4106 - val_accuracy: 0.8647\n",
            "Epoch 27/100\n",
            "150/150 [==============================] - 1s 6ms/step - loss: 0.3656 - accuracy: 0.8854 - val_loss: 0.3787 - val_accuracy: 0.8947\n",
            "Epoch 28/100\n",
            "150/150 [==============================] - 1s 6ms/step - loss: 0.3634 - accuracy: 0.8870 - val_loss: 0.4069 - val_accuracy: 0.8872\n",
            "Epoch 29/100\n",
            "150/150 [==============================] - 1s 5ms/step - loss: 0.3567 - accuracy: 0.8908 - val_loss: 0.3966 - val_accuracy: 0.8872\n",
            "Epoch 30/100\n",
            "150/150 [==============================] - 1s 5ms/step - loss: 0.3601 - accuracy: 0.8920 - val_loss: 0.3869 - val_accuracy: 0.9023\n",
            "Epoch 31/100\n",
            "150/150 [==============================] - 1s 6ms/step - loss: 0.3658 - accuracy: 0.8941 - val_loss: 0.3930 - val_accuracy: 0.8797\n",
            "Epoch 32/100\n",
            "150/150 [==============================] - 1s 6ms/step - loss: 0.3551 - accuracy: 0.8966 - val_loss: 0.3711 - val_accuracy: 0.9023\n",
            "Epoch 33/100\n",
            "150/150 [==============================] - 1s 6ms/step - loss: 0.3535 - accuracy: 0.8966 - val_loss: 0.4122 - val_accuracy: 0.8647\n",
            "Epoch 34/100\n",
            "150/150 [==============================] - 1s 6ms/step - loss: 0.3537 - accuracy: 0.8970 - val_loss: 0.3731 - val_accuracy: 0.9023\n",
            "Epoch 35/100\n",
            "150/150 [==============================] - 1s 6ms/step - loss: 0.3506 - accuracy: 0.8966 - val_loss: 0.4102 - val_accuracy: 0.8797\n",
            "Epoch 36/100\n",
            "150/150 [==============================] - 1s 6ms/step - loss: 0.3550 - accuracy: 0.8933 - val_loss: 0.3673 - val_accuracy: 0.9173\n",
            "Epoch 37/100\n",
            "150/150 [==============================] - 1s 5ms/step - loss: 0.3467 - accuracy: 0.9008 - val_loss: 0.3961 - val_accuracy: 0.8872\n",
            "Epoch 38/100\n",
            "150/150 [==============================] - 1s 5ms/step - loss: 0.3488 - accuracy: 0.8970 - val_loss: 0.3757 - val_accuracy: 0.8872\n",
            "Epoch 39/100\n",
            "150/150 [==============================] - 1s 5ms/step - loss: 0.3480 - accuracy: 0.9008 - val_loss: 0.3674 - val_accuracy: 0.9098\n",
            "Epoch 40/100\n",
            "150/150 [==============================] - 1s 4ms/step - loss: 0.3496 - accuracy: 0.8970 - val_loss: 0.3691 - val_accuracy: 0.8947\n",
            "Epoch 41/100\n",
            "150/150 [==============================] - 1s 5ms/step - loss: 0.3407 - accuracy: 0.8983 - val_loss: 0.3539 - val_accuracy: 0.9023\n",
            "Epoch 42/100\n",
            "150/150 [==============================] - 1s 6ms/step - loss: 0.3401 - accuracy: 0.9025 - val_loss: 0.3680 - val_accuracy: 0.9173\n",
            "Epoch 43/100\n",
            "150/150 [==============================] - 1s 5ms/step - loss: 0.3461 - accuracy: 0.8966 - val_loss: 0.3550 - val_accuracy: 0.9098\n",
            "Epoch 44/100\n",
            "150/150 [==============================] - 1s 5ms/step - loss: 0.3353 - accuracy: 0.9033 - val_loss: 0.3743 - val_accuracy: 0.9173\n",
            "Epoch 45/100\n",
            "150/150 [==============================] - 1s 5ms/step - loss: 0.3457 - accuracy: 0.8954 - val_loss: 0.3671 - val_accuracy: 0.8872\n",
            "Epoch 46/100\n",
            "150/150 [==============================] - 1s 5ms/step - loss: 0.3396 - accuracy: 0.8979 - val_loss: 0.3538 - val_accuracy: 0.9248\n",
            "Epoch 47/100\n",
            "150/150 [==============================] - 1s 4ms/step - loss: 0.3332 - accuracy: 0.8995 - val_loss: 0.3675 - val_accuracy: 0.9098\n",
            "Epoch 48/100\n",
            "150/150 [==============================] - 1s 4ms/step - loss: 0.3379 - accuracy: 0.9029 - val_loss: 0.3528 - val_accuracy: 0.9173\n",
            "Epoch 49/100\n",
            "150/150 [==============================] - 1s 4ms/step - loss: 0.3336 - accuracy: 0.9033 - val_loss: 0.3826 - val_accuracy: 0.8872\n",
            "Epoch 50/100\n",
            "150/150 [==============================] - 1s 4ms/step - loss: 0.3287 - accuracy: 0.9062 - val_loss: 0.3704 - val_accuracy: 0.9023\n",
            "Epoch 51/100\n",
            "150/150 [==============================] - 1s 5ms/step - loss: 0.3395 - accuracy: 0.9008 - val_loss: 0.3571 - val_accuracy: 0.9173\n",
            "Epoch 52/100\n",
            "150/150 [==============================] - 1s 5ms/step - loss: 0.3374 - accuracy: 0.8991 - val_loss: 0.3552 - val_accuracy: 0.9023\n",
            "Epoch 53/100\n",
            "150/150 [==============================] - 1s 5ms/step - loss: 0.3269 - accuracy: 0.9075 - val_loss: 0.3548 - val_accuracy: 0.9173\n",
            "Epoch 54/100\n",
            "150/150 [==============================] - 1s 6ms/step - loss: 0.3375 - accuracy: 0.9037 - val_loss: 0.3550 - val_accuracy: 0.9173\n",
            "Epoch 55/100\n",
            "150/150 [==============================] - 1s 5ms/step - loss: 0.3263 - accuracy: 0.9033 - val_loss: 0.3975 - val_accuracy: 0.8797\n",
            "Epoch 56/100\n",
            "150/150 [==============================] - 1s 4ms/step - loss: 0.3234 - accuracy: 0.9079 - val_loss: 0.3839 - val_accuracy: 0.9098\n",
            "Epoch 57/100\n",
            "150/150 [==============================] - 1s 5ms/step - loss: 0.3271 - accuracy: 0.9020 - val_loss: 0.3344 - val_accuracy: 0.9248\n",
            "Epoch 58/100\n",
            "150/150 [==============================] - 1s 5ms/step - loss: 0.3199 - accuracy: 0.9095 - val_loss: 0.3647 - val_accuracy: 0.8872\n",
            "Epoch 59/100\n",
            "150/150 [==============================] - 1s 4ms/step - loss: 0.3297 - accuracy: 0.9045 - val_loss: 0.3258 - val_accuracy: 0.9248\n",
            "Epoch 60/100\n",
            "150/150 [==============================] - 1s 5ms/step - loss: 0.3269 - accuracy: 0.9083 - val_loss: 0.4103 - val_accuracy: 0.8797\n",
            "Epoch 61/100\n",
            "150/150 [==============================] - 1s 6ms/step - loss: 0.3170 - accuracy: 0.9070 - val_loss: 0.3643 - val_accuracy: 0.9023\n",
            "Epoch 62/100\n",
            "150/150 [==============================] - 1s 5ms/step - loss: 0.3195 - accuracy: 0.9095 - val_loss: 0.3499 - val_accuracy: 0.9098\n",
            "Epoch 63/100\n",
            "150/150 [==============================] - 1s 6ms/step - loss: 0.3167 - accuracy: 0.9100 - val_loss: 0.3344 - val_accuracy: 0.9098\n",
            "Epoch 64/100\n",
            "150/150 [==============================] - 1s 5ms/step - loss: 0.3282 - accuracy: 0.9029 - val_loss: 0.3522 - val_accuracy: 0.9173\n",
            "Epoch 65/100\n",
            "150/150 [==============================] - 1s 5ms/step - loss: 0.3159 - accuracy: 0.9083 - val_loss: 0.3393 - val_accuracy: 0.9173\n",
            "Epoch 66/100\n",
            "150/150 [==============================] - 1s 5ms/step - loss: 0.3181 - accuracy: 0.9120 - val_loss: 0.3793 - val_accuracy: 0.8947\n",
            "Epoch 67/100\n",
            "150/150 [==============================] - 1s 5ms/step - loss: 0.3192 - accuracy: 0.9033 - val_loss: 0.3710 - val_accuracy: 0.8872\n",
            "Epoch 68/100\n",
            "150/150 [==============================] - 1s 4ms/step - loss: 0.3163 - accuracy: 0.9083 - val_loss: 0.3636 - val_accuracy: 0.9023\n",
            "Epoch 69/100\n",
            "150/150 [==============================] - 1s 5ms/step - loss: 0.3191 - accuracy: 0.9091 - val_loss: 0.3610 - val_accuracy: 0.8947\n",
            "Epoch 70/100\n",
            "150/150 [==============================] - 1s 5ms/step - loss: 0.3232 - accuracy: 0.9054 - val_loss: 0.3388 - val_accuracy: 0.9173\n",
            "Epoch 71/100\n",
            "150/150 [==============================] - 1s 4ms/step - loss: 0.3205 - accuracy: 0.9079 - val_loss: 0.3538 - val_accuracy: 0.8947\n",
            "Epoch 72/100\n",
            "150/150 [==============================] - 1s 5ms/step - loss: 0.3133 - accuracy: 0.9112 - val_loss: 0.3436 - val_accuracy: 0.9098\n",
            "Epoch 73/100\n",
            "150/150 [==============================] - 1s 5ms/step - loss: 0.3200 - accuracy: 0.9120 - val_loss: 0.3706 - val_accuracy: 0.8947\n",
            "Epoch 74/100\n",
            "150/150 [==============================] - 1s 5ms/step - loss: 0.3140 - accuracy: 0.9116 - val_loss: 0.3587 - val_accuracy: 0.9098\n",
            "Epoch 75/100\n",
            "150/150 [==============================] - 1s 5ms/step - loss: 0.3104 - accuracy: 0.9112 - val_loss: 0.3432 - val_accuracy: 0.9098\n",
            "Epoch 76/100\n",
            "150/150 [==============================] - 1s 4ms/step - loss: 0.3126 - accuracy: 0.9120 - val_loss: 0.3456 - val_accuracy: 0.9248\n",
            "Epoch 77/100\n",
            "150/150 [==============================] - 1s 4ms/step - loss: 0.3192 - accuracy: 0.9079 - val_loss: 0.3518 - val_accuracy: 0.9023\n",
            "Epoch 78/100\n",
            "150/150 [==============================] - 1s 5ms/step - loss: 0.3183 - accuracy: 0.9104 - val_loss: 0.3382 - val_accuracy: 0.9248\n",
            "Epoch 79/100\n",
            "150/150 [==============================] - 1s 6ms/step - loss: 0.3215 - accuracy: 0.9079 - val_loss: 0.3998 - val_accuracy: 0.8797\n",
            "Epoch 80/100\n",
            "150/150 [==============================] - 1s 5ms/step - loss: 0.3181 - accuracy: 0.9112 - val_loss: 0.3751 - val_accuracy: 0.8872\n",
            "Epoch 81/100\n",
            "150/150 [==============================] - 1s 5ms/step - loss: 0.3164 - accuracy: 0.9112 - val_loss: 0.3378 - val_accuracy: 0.9023\n",
            "Epoch 82/100\n",
            "150/150 [==============================] - 1s 6ms/step - loss: 0.3106 - accuracy: 0.9150 - val_loss: 0.3170 - val_accuracy: 0.9398\n",
            "Epoch 83/100\n",
            "150/150 [==============================] - 1s 6ms/step - loss: 0.3195 - accuracy: 0.9070 - val_loss: 0.3320 - val_accuracy: 0.9098\n",
            "Epoch 84/100\n",
            "150/150 [==============================] - 1s 5ms/step - loss: 0.3103 - accuracy: 0.9170 - val_loss: 0.3518 - val_accuracy: 0.9023\n",
            "Epoch 85/100\n",
            "150/150 [==============================] - 1s 6ms/step - loss: 0.3179 - accuracy: 0.9116 - val_loss: 0.4179 - val_accuracy: 0.8647\n",
            "Epoch 86/100\n",
            "150/150 [==============================] - 1s 5ms/step - loss: 0.3174 - accuracy: 0.9137 - val_loss: 0.3971 - val_accuracy: 0.8797\n",
            "Epoch 87/100\n",
            "150/150 [==============================] - 1s 5ms/step - loss: 0.3097 - accuracy: 0.9095 - val_loss: 0.3800 - val_accuracy: 0.8947\n",
            "Epoch 88/100\n",
            "150/150 [==============================] - 1s 5ms/step - loss: 0.3050 - accuracy: 0.9133 - val_loss: 0.3353 - val_accuracy: 0.9173\n",
            "Epoch 89/100\n",
            "150/150 [==============================] - 1s 5ms/step - loss: 0.3052 - accuracy: 0.9137 - val_loss: 0.3949 - val_accuracy: 0.8647\n",
            "Epoch 90/100\n",
            "150/150 [==============================] - 1s 4ms/step - loss: 0.3100 - accuracy: 0.9112 - val_loss: 0.3229 - val_accuracy: 0.9248\n",
            "Epoch 91/100\n",
            "150/150 [==============================] - 1s 5ms/step - loss: 0.3133 - accuracy: 0.9100 - val_loss: 0.4191 - val_accuracy: 0.8647\n",
            "Epoch 92/100\n",
            "150/150 [==============================] - 1s 6ms/step - loss: 0.3126 - accuracy: 0.9120 - val_loss: 0.3193 - val_accuracy: 0.9248\n",
            "Epoch 93/100\n",
            "150/150 [==============================] - 1s 6ms/step - loss: 0.3099 - accuracy: 0.9145 - val_loss: 0.3096 - val_accuracy: 0.9474\n",
            "Epoch 94/100\n",
            "150/150 [==============================] - 1s 6ms/step - loss: 0.3253 - accuracy: 0.9091 - val_loss: 0.3708 - val_accuracy: 0.8872\n",
            "Epoch 95/100\n",
            "150/150 [==============================] - 1s 6ms/step - loss: 0.3053 - accuracy: 0.9112 - val_loss: 0.3418 - val_accuracy: 0.9023\n",
            "Epoch 96/100\n",
            "150/150 [==============================] - 1s 5ms/step - loss: 0.3104 - accuracy: 0.9158 - val_loss: 0.3392 - val_accuracy: 0.9173\n",
            "Epoch 97/100\n",
            "150/150 [==============================] - 1s 6ms/step - loss: 0.2992 - accuracy: 0.9183 - val_loss: 0.3026 - val_accuracy: 0.9323\n",
            "Epoch 98/100\n",
            "150/150 [==============================] - 1s 6ms/step - loss: 0.3000 - accuracy: 0.9166 - val_loss: 0.3391 - val_accuracy: 0.9023\n",
            "Epoch 99/100\n",
            "150/150 [==============================] - 1s 4ms/step - loss: 0.3089 - accuracy: 0.9120 - val_loss: 0.3505 - val_accuracy: 0.9023\n",
            "Epoch 100/100\n",
            "150/150 [==============================] - 1s 5ms/step - loss: 0.3042 - accuracy: 0.9187 - val_loss: 0.3118 - val_accuracy: 0.9323\n"
          ]
        }
      ]
    },
    {
      "cell_type": "code",
      "metadata": {
        "tags": [],
        "cell_id": "00008-99edf1da-e0e6-43b4-ade0-dc539e49997b",
        "output_cleared": false,
        "source_hash": "9e2b4bfd",
        "execution_millis": 125,
        "execution_start": 1605416906540,
        "id": "d_5ttt46VTSK",
        "colab": {
          "base_uri": "https://localhost:8080/",
          "height": 282
        },
        "outputId": "1b09048b-0636-4798-a320-51b29d788b78"
      },
      "source": [
        "plt.plot(history.history[\"loss\"])\n",
        "plt.plot(history.history[\"val_loss\"])\n",
        "plt.imshow"
      ],
      "execution_count": 43,
      "outputs": [
        {
          "output_type": "execute_result",
          "data": {
            "text/plain": [
              "<function matplotlib.pyplot.imshow>"
            ]
          },
          "metadata": {},
          "execution_count": 43
        },
        {
          "output_type": "display_data",
          "data": {
            "image/png": "[encoded data removed]",
            "text/plain": [
              "<Figure size 432x288 with 1 Axes>"
            ]
          },
          "metadata": {
            "needs_background": "light"
          }
        }
      ]
    },
    {
      "cell_type": "code",
      "metadata": {
        "id": "HIumJ260pyKk",
        "colab": {
          "base_uri": "https://localhost:8080/",
          "height": 282
        },
        "outputId": "9527fcfd-9083-46c5-f78f-43362eaee16f"
      },
      "source": [
        "plt.plot(history.history[\"accuracy\"])\n",
        "plt.plot(history.history[\"val_accuracy\"])\n",
        "plt.imshow"
      ],
      "execution_count": 44,
      "outputs": [
        {
          "output_type": "execute_result",
          "data": {
            "text/plain": [
              "<function matplotlib.pyplot.imshow>"
            ]
          },
          "metadata": {},
          "execution_count": 44
        },
        {
          "output_type": "display_data",
          "data": {
            "image/png": "[encoded data removed]",
            "text/plain": [
              "<Figure size 432x288 with 1 Axes>"
            ]
          },
          "metadata": {
            "needs_background": "light"
          }
        }
      ]
    },
    {
      "cell_type": "code",
      "metadata": {
        "tags": [],
        "cell_id": "00016-dbca809b-4070-46a3-b325-f2049ef8b7cf",
        "output_cleared": false,
        "source_hash": "13c56ea",
        "execution_millis": 68,
        "execution_start": 1605416916776,
        "id": "AeodQmv-VTSM",
        "colab": {
          "base_uri": "https://localhost:8080/"
        },
        "outputId": "56acfc20-dd5a-43b9-d272-e867c7677135"
      },
      "source": [
        "from keras.losses import binary_crossentropy\n",
        "real = test.Churn.astype(\"int\").values\n",
        "pred = model.predict(test.drop(\"Churn\",axis=1)).flatten()\n",
        "print(float(binary_crossentropy(real,pred)))"
      ],
      "execution_count": 45,
      "outputs": [
        {
          "output_type": "stream",
          "name": "stdout",
          "text": [
            "0.2829205095767975\n"
          ]
        }
      ]
    },
    {
      "cell_type": "code",
      "metadata": {
        "tags": [],
        "cell_id": "00020-e78d5dc6-e53a-4bc2-a397-f23845bf6689",
        "output_cleared": false,
        "source_hash": "9c622461",
        "execution_millis": 1,
        "execution_start": 1605416917677,
        "id": "tievOYb2VTSP",
        "colab": {
          "base_uri": "https://localhost:8080/"
        },
        "outputId": "5a3f2342-e60d-4da8-d262-fa64c410eba2"
      },
      "source": [
        "# Again, calculate accuracy\n",
        "pred = [1 if i>0.5 else 0 for i in pred]\n",
        "print(sum(pred==real)/len(pred))"
      ],
      "execution_count": 46,
      "outputs": [
        {
          "output_type": "stream",
          "name": "stdout",
          "text": [
            "0.917910447761194\n"
          ]
        }
      ]
    },
    {
      "cell_type": "markdown",
      "metadata": {
        "id": "bbdogwakzvIi"
      },
      "source": [
        "If you have questions, please contact with me.\n",
        "\n",
        "Salih Tutun, PhD\n",
        "\n",
        "olin2deeplearning@gmail.com, salihtutun@wustl.edu"
      ]
    }
  ]
}