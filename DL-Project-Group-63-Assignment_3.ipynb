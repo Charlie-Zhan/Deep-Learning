{
  "nbformat": 4,
  "nbformat_minor": 0,
  "metadata": {
    "colab": {
      "name": "Lab-based Group Assignment--3.ipynb",
      "provenance": [],
      "collapsed_sections": []
    },
    "kernelspec": {
      "name": "python3",
      "display_name": "Python 3"
    },
    "accelerator": "GPU"
  },
  "cells": [
    {
      "cell_type": "markdown",
      "metadata": {
        "id": "i1-VFlPFl5Xs"
      },
      "source": [
        "# Lab-based Group Assignment 3: \n",
        "## Signature Authentication to Prevent Fraud Transactions in Business\n",
        "\n"
      ]
    },
    {
      "cell_type": "markdown",
      "metadata": {
        "id": "deHH5F_9Ufeo"
      },
      "source": [
        "![Imgur](https://i.imgur.com/4HJknC2.png)"
      ]
    },
    {
      "cell_type": "markdown",
      "metadata": {
        "id": "LRemjaLhGzZC"
      },
      "source": [
        "### Computer Vision for Business Applications"
      ]
    },
    {
      "cell_type": "markdown",
      "metadata": {
        "id": "ArTpJo-5Grnr"
      },
      "source": [
        "![Imgur](https://i.imgur.com/Y8NCtmr.png)\n",
        "\n",
        "Credit: Cybiant Knowledge Centre"
      ]
    },
    {
      "cell_type": "markdown",
      "metadata": {
        "id": "MCNHLzVYIoXJ"
      },
      "source": [
        "### Convolutional Neural Networks (CNNs)"
      ]
    },
    {
      "cell_type": "markdown",
      "metadata": {
        "id": "3x4WHRbgG9vc"
      },
      "source": [
        "![Imgur](https://i.imgur.com/TIhKQbJ.png)\n",
        "\n",
        "\n",
        "Credit: *Chollet, Francois. Deep Learning with Python* "
      ]
    },
    {
      "cell_type": "markdown",
      "metadata": {
        "id": "2rzED5CZHF1f"
      },
      "source": [
        "### Structure of Convolutional Neural Networks (CNNs)"
      ]
    },
    {
      "cell_type": "markdown",
      "metadata": {
        "id": "iBx6KWR8HDCV"
      },
      "source": [
        "- Convolution\n",
        "- Pooling\n",
        "- Fully Connected networks"
      ]
    },
    {
      "cell_type": "markdown",
      "metadata": {
        "id": "0Pw8u1xlHZpY"
      },
      "source": [
        "\n",
        "\n",
        "![Imgur](https://i.imgur.com/GuL5bre.png)"
      ]
    },
    {
      "cell_type": "markdown",
      "metadata": {
        "id": "i5yBY4aJ_Wi7"
      },
      "source": [
        "![Imgur](https://i.imgur.com/KkJ2jSj.png)"
      ]
    },
    {
      "cell_type": "markdown",
      "metadata": {
        "id": "CykIM7-TZo6R"
      },
      "source": [
        "https://cs231n.github.io/convolutional-networks/\n",
        "\n",
        "\n",
        "\n",
        "Credit by CNNs for Visual Reconginition"
      ]
    },
    {
      "cell_type": "markdown",
      "metadata": {
        "id": "gV_OiMT2_8WD"
      },
      "source": [
        "![Imgur](https://i.imgur.com/hWd6KoG.png)"
      ]
    },
    {
      "cell_type": "markdown",
      "metadata": {
        "id": "hRXKrS0C5fLj"
      },
      "source": [
        "![Imgur](https://i.imgur.com/feA9idS.png)"
      ]
    },
    {
      "cell_type": "code",
      "metadata": {
        "id": "cGqVfUR_5sSO"
      },
      "source": [
        "from keras import layers\n",
        "from keras import models\n",
        "\n",
        "model = models.Sequential()\n",
        "model.add(layers.Conv2D(32, (3, 3), activation='relu', input_shape=(28, 28, 1)))\n",
        "model.add(layers.MaxPooling2D((2, 2)))\n",
        "model.add(layers.Conv2D(64, (3, 3), activation='relu'))\n",
        "model.add(layers.MaxPooling2D((2, 2)))\n",
        "model.add(layers.Conv2D(64, (3, 3), activation='relu'))"
      ],
      "execution_count": null,
      "outputs": []
    },
    {
      "cell_type": "code",
      "metadata": {
        "colab": {
          "base_uri": "https://localhost:8080/"
        },
        "id": "zQPGfTUo5wcF",
        "outputId": "1c64cec4-7b3b-46eb-c960-b99591b42fac"
      },
      "source": [
        "model.summary()"
      ],
      "execution_count": null,
      "outputs": [
        {
          "output_type": "stream",
          "name": "stdout",
          "text": [
            "Model: \"sequential\"\n",
            "_________________________________________________________________\n",
            " Layer (type)                Output Shape              Param #   \n",
            "=================================================================\n",
            " conv2d (Conv2D)             (None, 26, 26, 32)        320       \n",
            "                                                                 \n",
            " max_pooling2d (MaxPooling2D  (None, 13, 13, 32)       0         \n",
            " )                                                               \n",
            "                                                                 \n",
            " conv2d_1 (Conv2D)           (None, 11, 11, 64)        18496     \n",
            "                                                                 \n",
            " max_pooling2d_1 (MaxPooling  (None, 5, 5, 64)         0         \n",
            " 2D)                                                             \n",
            "                                                                 \n",
            " conv2d_2 (Conv2D)           (None, 3, 3, 64)          36928     \n",
            "                                                                 \n",
            "=================================================================\n",
            "Total params: 55,744\n",
            "Trainable params: 55,744\n",
            "Non-trainable params: 0\n",
            "_________________________________________________________________\n"
          ]
        }
      ]
    },
    {
      "cell_type": "markdown",
      "metadata": {
        "id": "TuODVR7iazan"
      },
      "source": [
        "### **Business Problem**\n",
        "In a legal context, a signature is your name written in a distinct, personalized form as a way of identifying yourself to authorize a document. Using signiture for identity validation is still a global-wide practice for legal authentication.\n",
        "\n",
        "In order to **prevent fraud transactions, a bank’s established practice** is to compare the signature on a request to the signature maintained in the bank’s file system and to confirm that the request is issued by the correct issuer.\n",
        "\n",
        "Without modern signiture authentication technology, banks around the world had suffered huge losses against fraud transaction in which  signitures are maliciously forged.\n",
        "\\\n",
        "\\\n",
        "(Optional) Read More about a real-life signiture-related legal case:  \n",
        "<a href=\"http://www.joneslemongraham.com/blog/banks-loss-a-covered-forgery-under-insuring-agreement-d-of-financial-institution-bond-and-not-excluded-by-loan-loss-exclusion/#.X2bDBy9h1PM\">Bank of Ann Arbor v. Everest National Insurance Company, Case No. 12-11251 (E.D. Mi. Feb. 25, 2013)</a>\n",
        "\\\n",
        "\\\n",
        "Luckily, we have advanced computer vision technology, which can conveniently and accurately identify forged signitures.\n"
      ]
    },
    {
      "cell_type": "markdown",
      "metadata": {
        "id": "U963hlBGG0T-"
      },
      "source": [
        "![Imgur](https://i.imgur.com/f9Ozq9M.png)"
      ]
    },
    {
      "cell_type": "markdown",
      "metadata": {
        "id": "wRIg3mL1Agu4"
      },
      "source": [
        "<img src=\"https://storage.googleapis.com/kaggle-datasets-images/107946/257611/57ea0c6f63a05a981b18eb7ad5547464/dataset-cover.png?t=2019-01-20-18-39-59\">"
      ]
    },
    {
      "cell_type": "markdown",
      "metadata": {
        "id": "JWU4KqkOr5dJ"
      },
      "source": [
        "### **Task**\n",
        "Build a deep learning model to classify forged signatures from genuine signitures to prevent fraud transactions in businesses. \n",
        "\n",
        "---"
      ]
    },
    {
      "cell_type": "code",
      "metadata": {
        "id": "7T90VM1zjMGF"
      },
      "source": [
        "# First things first: Please select a GPU backend."
      ],
      "execution_count": null,
      "outputs": []
    },
    {
      "cell_type": "code",
      "metadata": {
        "colab": {
          "base_uri": "https://localhost:8080/"
        },
        "id": "t2LqXW1pCeeo",
        "outputId": "112e90fb-8be1-476c-b841-428857eba83d"
      },
      "source": [
        "from google.colab import drive\n",
        "drive.mount('/content/drive')"
      ],
      "execution_count": null,
      "outputs": [
        {
          "output_type": "stream",
          "name": "stdout",
          "text": [
            "Mounted at /content/drive\n"
          ]
        }
      ]
    },
    {
      "cell_type": "markdown",
      "metadata": {
        "id": "H0hyr26ICo4M"
      },
      "source": [
        "---\n",
        "Click the folder button on the left, and Colab will display a file window. (Probably you might have to wait for at most 10 seconds, before the `drive` folder shows up.) Find the zip file `signature-verification-dataset.zip` under the drive folder.  "
      ]
    },
    {
      "cell_type": "markdown",
      "metadata": {
        "id": "fyXYdjOxDysd"
      },
      "source": [
        "Right click the file and select \"copy path\". Now the file path is on your clip board. Paste the path inside the double quote in the next code chunk."
      ]
    },
    {
      "cell_type": "markdown",
      "metadata": {
        "id": "gTUTCFAwXxTd"
      },
      "source": [
        "### Q1: Please unzip, read and seperate the dataset for the model?"
      ]
    },
    {
      "cell_type": "code",
      "metadata": {
        "id": "jVEeWONoKHEv"
      },
      "source": [
        "# Unzip signature-verification-dataset.zip to \"/content\" directory. \n",
        "!unzip -q \"/content/drive/MyDrive/deep learning/Practice Files -- Lab 3/signature-verification-dataset.zip\" -d /content/"
      ],
      "execution_count": null,
      "outputs": []
    },
    {
      "cell_type": "code",
      "metadata": {
        "id": "k6T94N3TKJFC",
        "colab": {
          "base_uri": "https://localhost:8080/"
        },
        "outputId": "2dc48a5c-e972-4aea-dd5d-9326225589dd"
      },
      "source": [
        "import pandas as pd\n",
        "# Load data\n",
        "train_df=pd.read_csv(\"/content/sign_data/train_data.csv\",header=None,usecols=[1,2],names=[\"file_name\",\"forged\"],dtype=str)\n",
        "test_df=pd.read_csv(\"/content/sign_data/test_data.csv\",header=None,usecols=[1,2],names=[\"file_name\",\"forged\"],dtype=str)\n",
        "\n",
        "# Train Test Split\n",
        "from sklearn.model_selection import train_test_split\n",
        "train_df, validation_df=train_test_split(train_df,train_size=0.8)\n",
        "print(train_df.shape,validation_df.shape,test_df.shape)"
      ],
      "execution_count": null,
      "outputs": [
        {
          "output_type": "stream",
          "name": "stdout",
          "text": [
            "(18564, 2) (4642, 2) (5748, 2)\n"
          ]
        }
      ]
    },
    {
      "cell_type": "code",
      "metadata": {
        "id": "tYSfBOx9KOLM",
        "colab": {
          "base_uri": "https://localhost:8080/",
          "height": 467
        },
        "outputId": "97aa2676-5318-43bf-865d-d99840bc317c"
      },
      "source": [
        "display(train_df)\n",
        "# See how many genuine/forged signitures in train data?\n",
        "train_df.forged.value_counts()"
      ],
      "execution_count": null,
      "outputs": [
        {
          "output_type": "display_data",
          "data": {
            "text/html": [
              "<div>\n",
              "<style scoped>\n",
              "    .dataframe tbody tr th:only-of-type {\n",
              "        vertical-align: middle;\n",
              "    }\n",
              "\n",
              "    .dataframe tbody tr th {\n",
              "        vertical-align: top;\n",
              "    }\n",
              "\n",
              "    .dataframe thead th {\n",
              "        text-align: right;\n",
              "    }\n",
              "</style>\n",
              "<table border=\"1\" class=\"dataframe\">\n",
              "  <thead>\n",
              "    <tr style=\"text-align: right;\">\n",
              "      <th></th>\n",
              "      <th>file_name</th>\n",
              "      <th>forged</th>\n",
              "    </tr>\n",
              "  </thead>\n",
              "  <tbody>\n",
              "    <tr>\n",
              "      <th>23103</th>\n",
              "      <td>031/11_031.png</td>\n",
              "      <td>0</td>\n",
              "    </tr>\n",
              "    <tr>\n",
              "      <th>5139</th>\n",
              "      <td>012/012_12.PNG</td>\n",
              "      <td>0</td>\n",
              "    </tr>\n",
              "    <tr>\n",
              "      <th>16319</th>\n",
              "      <td>052_forg/03_0210052.PNG</td>\n",
              "      <td>1</td>\n",
              "    </tr>\n",
              "    <tr>\n",
              "      <th>19360</th>\n",
              "      <td>034_forg/02_0120034.PNG</td>\n",
              "      <td>1</td>\n",
              "    </tr>\n",
              "    <tr>\n",
              "      <th>12463</th>\n",
              "      <td>055/02_055.png</td>\n",
              "      <td>0</td>\n",
              "    </tr>\n",
              "    <tr>\n",
              "      <th>...</th>\n",
              "      <td>...</td>\n",
              "      <td>...</td>\n",
              "    </tr>\n",
              "    <tr>\n",
              "      <th>19952</th>\n",
              "      <td>041/05_041.png</td>\n",
              "      <td>0</td>\n",
              "    </tr>\n",
              "    <tr>\n",
              "      <th>18549</th>\n",
              "      <td>015/015_17.PNG</td>\n",
              "      <td>0</td>\n",
              "    </tr>\n",
              "    <tr>\n",
              "      <th>17890</th>\n",
              "      <td>028_forg/04_0126028.PNG</td>\n",
              "      <td>1</td>\n",
              "    </tr>\n",
              "    <tr>\n",
              "      <th>6016</th>\n",
              "      <td>002_forg/0110002_02.png</td>\n",
              "      <td>1</td>\n",
              "    </tr>\n",
              "    <tr>\n",
              "      <th>22333</th>\n",
              "      <td>064/09_064.png</td>\n",
              "      <td>0</td>\n",
              "    </tr>\n",
              "  </tbody>\n",
              "</table>\n",
              "<p>18564 rows × 2 columns</p>\n",
              "</div>"
            ],
            "text/plain": [
              "                     file_name forged\n",
              "23103           031/11_031.png      0\n",
              "5139            012/012_12.PNG      0\n",
              "16319  052_forg/03_0210052.PNG      1\n",
              "19360  034_forg/02_0120034.PNG      1\n",
              "12463           055/02_055.png      0\n",
              "...                        ...    ...\n",
              "19952           041/05_041.png      0\n",
              "18549           015/015_17.PNG      0\n",
              "17890  028_forg/04_0126028.PNG      1\n",
              "6016   002_forg/0110002_02.png      1\n",
              "22333           064/09_064.png      0\n",
              "\n",
              "[18564 rows x 2 columns]"
            ]
          },
          "metadata": {}
        },
        {
          "output_type": "execute_result",
          "data": {
            "text/plain": [
              "0    10128\n",
              "1     8436\n",
              "Name: forged, dtype: int64"
            ]
          },
          "metadata": {},
          "execution_count": 8
        }
      ]
    },
    {
      "cell_type": "code",
      "metadata": {
        "id": "HoA6mt1STTxc"
      },
      "source": [
        "# Define the data path, we will use it later.\n",
        "path=\"/content/sign_data/\""
      ],
      "execution_count": null,
      "outputs": []
    },
    {
      "cell_type": "code",
      "metadata": {
        "id": "19uxV4MIVOkB",
        "colab": {
          "base_uri": "https://localhost:8080/",
          "height": 35
        },
        "outputId": "938a8db3-019f-4212-9081-d6a6b5c621c4"
      },
      "source": [
        "# The mode of image\n",
        "from PIL import Image\n",
        "Image.open(\"/content/sign_data/train/001/001_01.PNG\").mode"
      ],
      "execution_count": null,
      "outputs": [
        {
          "output_type": "execute_result",
          "data": {
            "application/vnd.google.colaboratory.intrinsic+json": {
              "type": "string"
            },
            "text/plain": [
              "'RGB'"
            ]
          },
          "metadata": {},
          "execution_count": 10
        }
      ]
    },
    {
      "cell_type": "markdown",
      "metadata": {
        "id": "Ui9nar3WYhPw"
      },
      "source": [
        "### Q3: Please generate new dataset by using ImageDataGenerator"
      ]
    },
    {
      "cell_type": "code",
      "metadata": {
        "id": "Phzid9fxKSSb",
        "colab": {
          "base_uri": "https://localhost:8080/"
        },
        "outputId": "4c90012a-7e72-439b-fc2e-60aeca165854"
      },
      "source": [
        "from tensorflow.keras.preprocessing.image import ImageDataGenerator\n",
        "import numpy as np\n",
        "\n",
        "# Instantiate ImageDataGenerator class\n",
        "train_datagen = ImageDataGenerator(rescale=1./255)\n",
        "\n",
        "# Configure train data generator\n",
        "train_gen=train_datagen.flow_from_dataframe( \n",
        "    train_df,                                   # Pandas dataframe containing the filepaths relative to directory (or absolute paths if directory is None) of the images in a string column.\n",
        "    directory=\"/content/sign_data/train\",       # string, path to the directory to read images from. If None, data in x_col column should be absolute paths.\n",
        "    x_col=\"file_name\",                          # string, column in dataframe that contains the filenames (or absolute paths if directory is None).\n",
        "    y_col=\"forged\",                             # string or list, column/s in dataframe that has the target data.\n",
        "    target_size=(128, 256),                     # tuple of integers (height, width), default: (256, 256). The dimensions to which all images found will be resized.\n",
        "    color_mode=\"rgb\",                           # one of \"grayscale\", \"rgb\", \"rgba\". Default: \"rgb\". Whether the images will be converted to have 1 or 3 color channels.\n",
        "    class_mode=\"binary\",                        # one of \"binary\", \"categorical\", \"input\", \"multi_output\", \"raw\", sparse\" or None. Default: \"categorical\".\n",
        "    batch_size=32,                              # size of the batches of data (default: 32). \n",
        "    shuffle=True)                               # whether to shuffle the data (default: True)\n",
        "\n",
        "# Configure validation data generator\n",
        "val_datagen = ImageDataGenerator(rescale=1./255)\n",
        "val_gen=val_datagen.flow_from_dataframe(\n",
        "    validation_df,\n",
        "    directory=\"/content/sign_data/train\",\n",
        "    x_col=\"file_name\",\n",
        "    y_col=\"forged\",\n",
        "    target_size=(128, 256),\n",
        "    color_mode=\"rgb\",\n",
        "    class_mode=\"binary\",\n",
        "    )\n",
        "\n",
        "# Configure test data generator\n",
        "test_datagen = ImageDataGenerator(rescale=1./255)\n",
        "test_gen=test_datagen.flow_from_dataframe(\n",
        "    test_df,\n",
        "    directory=\"/content/sign_data/test\",\n",
        "    x_col=\"file_name\",\n",
        "    y_col=\"forged\",\n",
        "    target_size=(128, 256),\n",
        "    color_mode=\"rgb\",\n",
        "    class_mode=\"binary\",\n",
        "    )"
      ],
      "execution_count": null,
      "outputs": [
        {
          "output_type": "stream",
          "name": "stdout",
          "text": [
            "Found 18564 validated image filenames belonging to 2 classes.\n",
            "Found 4642 validated image filenames belonging to 2 classes.\n",
            "Found 5748 validated image filenames belonging to 2 classes.\n"
          ]
        }
      ]
    },
    {
      "cell_type": "markdown",
      "metadata": {
        "id": "cobYj0O-YB3S"
      },
      "source": [
        "### Q4: Please use dense neural networks for predict the forged signatures. "
      ]
    },
    {
      "cell_type": "code",
      "metadata": {
        "id": "azw3xQoEKUrq",
        "colab": {
          "base_uri": "https://localhost:8080/"
        },
        "outputId": "5451e4a5-9eea-420e-ee72-f0c0cc4c3292"
      },
      "source": [
        "# Build sequential model\n",
        "from tensorflow.keras.models import Sequential\n",
        "from tensorflow.keras.layers import Flatten,Dense\n",
        "model=Sequential()\n",
        "model.add(Flatten())   # Flatten the channels into one single long array\n",
        "model.add(Dense(2048 ,input_shape = (128*256*3,) ,activation = 'relu'))     \n",
        "model.add(Dense(128, activation = 'relu'))\n",
        "model.add(Dense(1, activation = 'sigmoid'))\n",
        "\n",
        "model.compile(loss=\"binary_crossentropy\",\n",
        "              optimizer=\"adam\",\n",
        "              metrics=['acc'])\n",
        "\n",
        "history=model.fit(train_gen,                                # Train data generator\n",
        "      steps_per_epoch=100,    # train_gen.n//train_gen.batch_size, Generator will generate data infinitely, so you'll need to sepcify this parameter.\n",
        "      epochs=10,                                             #                                                个\n",
        "      validation_data=val_gen,                              # Validation data generator                      个\n",
        "      validation_steps=100)       # val_gen.n//val_gen.batch_size, Need to sepcify this parameter. Reason same as 个.         \"//\" means get the integer part from division result."
      ],
      "execution_count": null,
      "outputs": [
        {
          "output_type": "stream",
          "name": "stdout",
          "text": [
            "Epoch 1/10\n",
            "100/100 [==============================] - 26s 254ms/step - loss: 27.0108 - acc: 0.5034 - val_loss: 8.2178 - val_acc: 0.4728\n",
            "Epoch 2/10\n",
            "100/100 [==============================] - 25s 249ms/step - loss: 5.5415 - acc: 0.5134 - val_loss: 1.7646 - val_acc: 0.5303\n",
            "Epoch 3/10\n",
            "100/100 [==============================] - 34s 343ms/step - loss: 2.9682 - acc: 0.5022 - val_loss: 0.7212 - val_acc: 0.4784\n",
            "Epoch 4/10\n",
            "100/100 [==============================] - 25s 247ms/step - loss: 0.9034 - acc: 0.5691 - val_loss: 0.9679 - val_acc: 0.5353\n",
            "Epoch 5/10\n",
            "100/100 [==============================] - 25s 247ms/step - loss: 1.0718 - acc: 0.5628 - val_loss: 0.9862 - val_acc: 0.5341\n",
            "Epoch 6/10\n",
            "100/100 [==============================] - 25s 249ms/step - loss: 1.0631 - acc: 0.5547 - val_loss: 0.5903 - val_acc: 0.6700\n",
            "Epoch 7/10\n",
            "100/100 [==============================] - 34s 343ms/step - loss: 0.7557 - acc: 0.5834 - val_loss: 0.7032 - val_acc: 0.5431\n",
            "Epoch 8/10\n",
            "100/100 [==============================] - 25s 248ms/step - loss: 0.7537 - acc: 0.5869 - val_loss: 0.6499 - val_acc: 0.5609\n",
            "Epoch 9/10\n",
            "100/100 [==============================] - 25s 246ms/step - loss: 0.6715 - acc: 0.6388 - val_loss: 0.5533 - val_acc: 0.8197\n",
            "Epoch 10/10\n",
            "100/100 [==============================] - 24s 244ms/step - loss: 0.7050 - acc: 0.6247 - val_loss: 0.5542 - val_acc: 0.7412\n"
          ]
        }
      ]
    },
    {
      "cell_type": "markdown",
      "metadata": {
        "id": "oGvOfy1gPyya"
      },
      "source": [
        "### Q5: Please use CNNs to predict the forged signatures with high accuracy. "
      ]
    },
    {
      "cell_type": "markdown",
      "metadata": {
        "id": "L2QJLwEyYHG1"
      },
      "source": [
        "### Larger Convolution Model"
      ]
    },
    {
      "cell_type": "code",
      "metadata": {
        "id": "WbNJig2RKYNC",
        "colab": {
          "base_uri": "https://localhost:8080/"
        },
        "outputId": "ed02620a-0a5f-4808-f1f5-f4ec7d35d23a"
      },
      "source": [
        "# Build sequential model\n",
        "from tensorflow.keras.layers import Conv2D,MaxPooling2D\n",
        "from keras.layers import Dense, Dropout\n",
        "from keras.callbacks import EarlyStopping\n",
        "model=Sequential()\n",
        "model.add(Conv2D(128, 3,input_shape=(128,256,3),activation=\"relu\"))\n",
        "model.add(MaxPooling2D(2))\n",
        "model.add(Conv2D(64, 3,activation=\"relu\"))\n",
        "model.add(MaxPooling2D(2))\n",
        "model.add(Flatten())\n",
        "model.add(Dropout(0.5))                                                         # Add Dropout layer, randomly drops 50% neurons from propagation.\n",
        "model.add(Dense(32,activation=\"relu\", kernel_regularizer=\"l2\"))\n",
        "model.add(Dense(16,activation=\"relu\"))\n",
        "model.add(Dense(1,activation=\"sigmoid\"))\n",
        "\n",
        "model.compile(loss=\"binary_crossentropy\",\n",
        "              optimizer=\"adam\",\n",
        "              metrics=['acc'])\n",
        "\n",
        "# Configure EarlyStopping object\n",
        "Es=EarlyStopping(monitor='val_loss', patience=2, restore_best_weights=True)      # EarlyStopping with patience 2: if in 2 consecutive epochs, the validation loss didn't hit the record, training will stop.\n",
        "\n",
        "# Fit the model and record the training history for plotting purpose\n",
        "history=model.fit(train_gen,\n",
        "      steps_per_epoch=100, #train_gen.n//train_gen.batch_size\n",
        "      epochs=10,\n",
        "      validation_data=val_gen,\n",
        "      validation_steps=100, #val_gen.n//val_gen.batch_size\n",
        "      callbacks=[Es])                                                           # Here is how we use EarlyStopping"
      ],
      "execution_count": null,
      "outputs": [
        {
          "output_type": "stream",
          "name": "stdout",
          "text": [
            "Epoch 1/10\n",
            "100/100 [==============================] - 56s 270ms/step - loss: 0.8661 - acc: 0.6216 - val_loss: 0.6465 - val_acc: 0.8519\n",
            "Epoch 2/10\n",
            "100/100 [==============================] - 27s 268ms/step - loss: 0.4685 - acc: 0.9084 - val_loss: 0.3783 - val_acc: 0.9331\n",
            "Epoch 3/10\n",
            "100/100 [==============================] - 26s 265ms/step - loss: 0.2833 - acc: 0.9534 - val_loss: 0.2630 - val_acc: 0.9400\n",
            "Epoch 4/10\n",
            "100/100 [==============================] - 27s 268ms/step - loss: 0.2319 - acc: 0.9569 - val_loss: 0.1636 - val_acc: 0.9812\n",
            "Epoch 5/10\n",
            "100/100 [==============================] - 27s 269ms/step - loss: 0.1519 - acc: 0.9776 - val_loss: 0.1437 - val_acc: 0.9734\n",
            "Epoch 6/10\n",
            "100/100 [==============================] - 26s 265ms/step - loss: 0.1737 - acc: 0.9663 - val_loss: 0.1249 - val_acc: 0.9856\n",
            "Epoch 7/10\n",
            "100/100 [==============================] - 27s 267ms/step - loss: 0.1849 - acc: 0.9628 - val_loss: 0.1357 - val_acc: 0.9903\n",
            "Epoch 8/10\n",
            "100/100 [==============================] - 27s 266ms/step - loss: 0.1775 - acc: 0.9775 - val_loss: 0.1661 - val_acc: 0.9875\n"
          ]
        }
      ]
    },
    {
      "cell_type": "code",
      "metadata": {
        "id": "34r6JQTaKaYA",
        "colab": {
          "base_uri": "https://localhost:8080/"
        },
        "outputId": "21395e89-1dd9-4a3b-fc13-577af2f4d97f"
      },
      "source": [
        "model.summary()"
      ],
      "execution_count": null,
      "outputs": [
        {
          "output_type": "stream",
          "name": "stdout",
          "text": [
            "Model: \"sequential_2\"\n",
            "_________________________________________________________________\n",
            " Layer (type)                Output Shape              Param #   \n",
            "=================================================================\n",
            " conv2d_3 (Conv2D)           (None, 126, 254, 128)     3584      \n",
            "                                                                 \n",
            " max_pooling2d_2 (MaxPooling  (None, 63, 127, 128)     0         \n",
            " 2D)                                                             \n",
            "                                                                 \n",
            " conv2d_4 (Conv2D)           (None, 61, 125, 64)       73792     \n",
            "                                                                 \n",
            " max_pooling2d_3 (MaxPooling  (None, 30, 62, 64)       0         \n",
            " 2D)                                                             \n",
            "                                                                 \n",
            " flatten_1 (Flatten)         (None, 119040)            0         \n",
            "                                                                 \n",
            " dropout (Dropout)           (None, 119040)            0         \n",
            "                                                                 \n",
            " dense_3 (Dense)             (None, 32)                3809312   \n",
            "                                                                 \n",
            " dense_4 (Dense)             (None, 16)                528       \n",
            "                                                                 \n",
            " dense_5 (Dense)             (None, 1)                 17        \n",
            "                                                                 \n",
            "=================================================================\n",
            "Total params: 3,887,233\n",
            "Trainable params: 3,887,233\n",
            "Non-trainable params: 0\n",
            "_________________________________________________________________\n"
          ]
        }
      ]
    },
    {
      "cell_type": "code",
      "metadata": {
        "id": "qXvXf9fgKcaw",
        "colab": {
          "base_uri": "https://localhost:8080/",
          "height": 265
        },
        "outputId": "96091b98-5221-412f-808b-3fbb269530a0"
      },
      "source": [
        "# Plot history\n",
        "import matplotlib.pyplot as plt\n",
        "plt.plot(history.history['acc'], color='b')\n",
        "plt.plot(history.history['val_acc'], color='g')\n",
        "plt.show()"
      ],
      "execution_count": null,
      "outputs": [
        {
          "output_type": "display_data",
          "data": {
            "image/png": "[encoded data removed]",
            "text/plain": [
              "<Figure size 432x288 with 1 Axes>"
            ]
          },
          "metadata": {
            "needs_background": "light"
          }
        }
      ]
    },
    {
      "cell_type": "code",
      "metadata": {
        "id": "xRNfQ_UVKefD",
        "colab": {
          "base_uri": "https://localhost:8080/"
        },
        "outputId": "e6bc1086-8d9f-4e47-bd6c-0d120f1ff0d4"
      },
      "source": [
        "# Evaluate test data accuracy.\n",
        "model.evaluate(test_gen)"
      ],
      "execution_count": null,
      "outputs": [
        {
          "output_type": "stream",
          "name": "stdout",
          "text": [
            "180/180 [==============================] - 25s 137ms/step - loss: 0.1563 - acc: 0.9687\n"
          ]
        },
        {
          "output_type": "execute_result",
          "data": {
            "text/plain": [
              "[0.15627604722976685, 0.968684732913971]"
            ]
          },
          "metadata": {},
          "execution_count": 16
        }
      ]
    },
    {
      "cell_type": "markdown",
      "metadata": {
        "id": "SH8uSs1PwYUZ"
      },
      "source": [
        "### Underfitting and Overfitting"
      ]
    },
    {
      "cell_type": "markdown",
      "metadata": {
        "id": "0Xj-IzBcwU9L"
      },
      "source": [
        "![Imgur](https://i.imgur.com/pQedNv0.png)"
      ]
    },
    {
      "cell_type": "markdown",
      "metadata": {
        "id": "ifqs-XXcTl0K"
      },
      "source": [
        "### Convolution Model"
      ]
    },
    {
      "cell_type": "code",
      "metadata": {
        "id": "Y-CdF-ZJKgkn",
        "colab": {
          "base_uri": "https://localhost:8080/"
        },
        "outputId": "4b087e48-3605-443b-aefd-7b8604c90191"
      },
      "source": [
        "# Final version\n",
        "# Build sequential model\n",
        "model=Sequential()\n",
        "model.add(Conv2D(128, 3,input_shape=(128,256,3),activation=\"relu\"))\n",
        "model.add(MaxPooling2D(2))\n",
        "#model.add(Conv2D(64, 3,activation=\"relu\"))\n",
        "#model.add(MaxPooling2D(2))\n",
        "model.add(Flatten())\n",
        "model.add(Dropout(0.5))                                                         # Add Dropout layer, randomly drops 50% neurons from propagation.\n",
        "model.add(Dense(32,activation=\"relu\", kernel_regularizer=\"l2\"))\n",
        "model.add(Dense(1,activation=\"sigmoid\"))\n",
        "\n",
        "model.compile(loss=\"binary_crossentropy\",\n",
        "              optimizer=\"adam\",\n",
        "              metrics=['acc'])\n",
        "\n",
        "# Configure EarlyStopping object\n",
        "Es=EarlyStopping(monitor='val_loss', patience=2,restore_best_weights=True)      # EarlyStopping with patience 2: if in 2 consecutive epochs, the validation loss didn't hit the record, training will stop.\n",
        "\n",
        "# Fit the model and record the training history for plotting purpose\n",
        "history=model.fit(train_gen,\n",
        "      steps_per_epoch=100, #train_gen.n//train_gen.batch_size\n",
        "      epochs=10,\n",
        "      validation_data=val_gen,\n",
        "      validation_steps=100, #val_gen.n//val_gen.batch_size\n",
        "      callbacks=[Es])                                                           # Here is how we use EarlyStopping"
      ],
      "execution_count": null,
      "outputs": [
        {
          "output_type": "stream",
          "name": "stdout",
          "text": [
            "Epoch 1/10\n",
            "100/100 [==============================] - 30s 293ms/step - loss: 2.8426 - acc: 0.5183 - val_loss: 1.2384 - val_acc: 0.5288\n",
            "Epoch 2/10\n",
            "100/100 [==============================] - 29s 290ms/step - loss: 0.9875 - acc: 0.5584 - val_loss: 0.8452 - val_acc: 0.5316\n",
            "Epoch 3/10\n",
            "100/100 [==============================] - 29s 288ms/step - loss: 0.7894 - acc: 0.5303 - val_loss: 0.7444 - val_acc: 0.5263\n",
            "Epoch 4/10\n",
            "100/100 [==============================] - 29s 290ms/step - loss: 0.7235 - acc: 0.5412 - val_loss: 0.7094 - val_acc: 0.5350\n",
            "Epoch 5/10\n",
            "100/100 [==============================] - 29s 289ms/step - loss: 0.7025 - acc: 0.5547 - val_loss: 0.6966 - val_acc: 0.5419\n",
            "Epoch 6/10\n",
            "100/100 [==============================] - 29s 290ms/step - loss: 0.6941 - acc: 0.5522 - val_loss: 0.6991 - val_acc: 0.5369\n",
            "Epoch 7/10\n",
            "100/100 [==============================] - 29s 289ms/step - loss: 0.6918 - acc: 0.5441 - val_loss: 0.6922 - val_acc: 0.5281\n",
            "Epoch 8/10\n",
            "100/100 [==============================] - 29s 291ms/step - loss: 0.6906 - acc: 0.5522 - val_loss: 0.6910 - val_acc: 0.5347\n",
            "Epoch 9/10\n",
            "100/100 [==============================] - 29s 288ms/step - loss: 0.6907 - acc: 0.5362 - val_loss: 0.6918 - val_acc: 0.5275\n",
            "Epoch 10/10\n",
            "100/100 [==============================] - 29s 290ms/step - loss: 0.6888 - acc: 0.5556 - val_loss: 0.6913 - val_acc: 0.5372\n"
          ]
        }
      ]
    },
    {
      "cell_type": "code",
      "metadata": {
        "id": "fU12O6EhKin-",
        "colab": {
          "base_uri": "https://localhost:8080/",
          "height": 267
        },
        "outputId": "5ee3e1b7-945c-4bd6-a557-61967388598c"
      },
      "source": [
        "# Plot history\n",
        "import matplotlib.pyplot as plt\n",
        "plt.plot(history.history['acc'], color='b')\n",
        "plt.plot(history.history['val_acc'], color='g')\n",
        "plt.show()"
      ],
      "execution_count": null,
      "outputs": [
        {
          "output_type": "display_data",
          "data": {
            "image/png": "[encoded data removed]",
            "text/plain": [
              "<Figure size 432x288 with 1 Axes>"
            ]
          },
          "metadata": {
            "needs_background": "light"
          }
        }
      ]
    },
    {
      "cell_type": "markdown",
      "metadata": {
        "id": "8i64YRYRVhSp"
      },
      "source": [
        "This simple convolution model's performance is similar to dense model. "
      ]
    },
    {
      "cell_type": "markdown",
      "metadata": {
        "id": "u_yhW9o0TXqE"
      },
      "source": [
        "### Basic Convolution Model"
      ]
    },
    {
      "cell_type": "code",
      "metadata": {
        "id": "uDwokoQ1KkQk",
        "colab": {
          "base_uri": "https://localhost:8080/"
        },
        "outputId": "6d41870c-7ed4-439f-d6c7-7d02d5885256"
      },
      "source": [
        "# Intermediate version\n",
        "from tensorflow.keras.models import Sequential\n",
        "from tensorflow.keras.layers import Conv2D, Dense, Dropout, MaxPooling2D, Flatten\n",
        "from tensorflow.keras.callbacks import EarlyStopping, Callback\n",
        "\n",
        "model=Sequential()                                                      \n",
        "model.add(Conv2D(128, 3,input_shape=(128, 256,3),activation=\"relu\"))     # The first convolution layer: 16 filters with size 3x3.\n",
        "model.add(MaxPooling2D(2))                                              # Pooling: MaxPooling\n",
        "model.add(Flatten())                                                    # Flatten the output of pooling layer i.e. create a long array\n",
        "model.add(Dense(64,activation=\"relu\"))\n",
        "model.add(Dense(32,activation=\"relu\"))\n",
        "model.add(Dense(1,activation=\"sigmoid\"))\n",
        "\n",
        "model.compile(loss=\"binary_crossentropy\",                               # This is binary classification\n",
        "              optimizer=\"adam\",                                         # Adam optimizer\n",
        "              metrics=['acc'])                                          # Monitoring the accuracy\n",
        "\n",
        "# Fit the model and record the training history for plotting purpose\n",
        "history=model.fit(train_gen,\n",
        "      steps_per_epoch=100, #train_gen.n//train_gen.batch_size\n",
        "      epochs=10,\n",
        "      validation_data=val_gen,\n",
        "      validation_steps=100) #val_gen.n//val_gen.batch_size"
      ],
      "execution_count": null,
      "outputs": [
        {
          "output_type": "stream",
          "name": "stdout",
          "text": [
            "Epoch 1/10\n",
            "100/100 [==============================] - 29s 285ms/step - loss: 1.3497 - acc: 0.7563 - val_loss: 0.2004 - val_acc: 0.9303\n",
            "Epoch 2/10\n",
            "100/100 [==============================] - 28s 282ms/step - loss: 0.1012 - acc: 0.9688 - val_loss: 0.0418 - val_acc: 0.9881\n",
            "Epoch 3/10\n",
            "100/100 [==============================] - 28s 281ms/step - loss: 0.0262 - acc: 0.9934 - val_loss: 0.0217 - val_acc: 0.9947\n",
            "Epoch 4/10\n",
            "100/100 [==============================] - 28s 281ms/step - loss: 0.0056 - acc: 0.9987 - val_loss: 0.0111 - val_acc: 0.9984\n",
            "Epoch 5/10\n",
            "100/100 [==============================] - 28s 281ms/step - loss: 0.0061 - acc: 0.9991 - val_loss: 0.0088 - val_acc: 0.9984\n",
            "Epoch 6/10\n",
            "100/100 [==============================] - 28s 282ms/step - loss: 0.0030 - acc: 0.9997 - val_loss: 0.0011 - val_acc: 1.0000\n",
            "Epoch 7/10\n",
            "100/100 [==============================] - 28s 284ms/step - loss: 0.0011 - acc: 1.0000 - val_loss: 4.2308e-04 - val_acc: 1.0000\n",
            "Epoch 8/10\n",
            "100/100 [==============================] - 28s 284ms/step - loss: 3.0169e-04 - acc: 1.0000 - val_loss: 2.5075e-04 - val_acc: 1.0000\n",
            "Epoch 9/10\n",
            "100/100 [==============================] - 28s 283ms/step - loss: 2.0223e-04 - acc: 1.0000 - val_loss: 1.8388e-04 - val_acc: 1.0000\n",
            "Epoch 10/10\n",
            "100/100 [==============================] - 28s 281ms/step - loss: 1.4313e-04 - acc: 1.0000 - val_loss: 1.5200e-04 - val_acc: 1.0000\n"
          ]
        }
      ]
    },
    {
      "cell_type": "code",
      "metadata": {
        "id": "iYfCLxoLKmgl",
        "colab": {
          "base_uri": "https://localhost:8080/"
        },
        "outputId": "48373c0c-867f-405a-d59d-b7bbcd0e56d9"
      },
      "source": [
        "model.summary()"
      ],
      "execution_count": null,
      "outputs": [
        {
          "output_type": "stream",
          "name": "stdout",
          "text": [
            "Model: \"sequential_4\"\n",
            "_________________________________________________________________\n",
            " Layer (type)                Output Shape              Param #   \n",
            "=================================================================\n",
            " conv2d_6 (Conv2D)           (None, 126, 254, 128)     3584      \n",
            "                                                                 \n",
            " max_pooling2d_5 (MaxPooling  (None, 63, 127, 128)     0         \n",
            " 2D)                                                             \n",
            "                                                                 \n",
            " flatten_3 (Flatten)         (None, 1024128)           0         \n",
            "                                                                 \n",
            " dense_8 (Dense)             (None, 64)                65544256  \n",
            "                                                                 \n",
            " dense_9 (Dense)             (None, 32)                2080      \n",
            "                                                                 \n",
            " dense_10 (Dense)            (None, 1)                 33        \n",
            "                                                                 \n",
            "=================================================================\n",
            "Total params: 65,549,953\n",
            "Trainable params: 65,549,953\n",
            "Non-trainable params: 0\n",
            "_________________________________________________________________\n"
          ]
        }
      ]
    },
    {
      "cell_type": "code",
      "metadata": {
        "id": "XcaJZ8ICKoXF",
        "colab": {
          "base_uri": "https://localhost:8080/",
          "height": 265
        },
        "outputId": "2edf808e-1d26-4795-e35d-8c675b7b036b"
      },
      "source": [
        "# Plot history\n",
        "import matplotlib.pyplot as plt\n",
        "plt.plot(history.history['acc'], color='b')\n",
        "plt.plot(history.history['val_acc'], color='g')\n",
        "plt.show()"
      ],
      "execution_count": null,
      "outputs": [
        {
          "output_type": "display_data",
          "data": {
            "image/png": "[encoded data removed]",
            "text/plain": [
              "<Figure size 432x288 with 1 Axes>"
            ]
          },
          "metadata": {
            "needs_background": "light"
          }
        }
      ]
    },
    {
      "cell_type": "code",
      "metadata": {
        "id": "L4JV3OLFKqIC",
        "colab": {
          "base_uri": "https://localhost:8080/"
        },
        "outputId": "17e7692d-5d48-4118-af2c-de6c1f9ae15c"
      },
      "source": [
        "model.evaluate(test_gen)"
      ],
      "execution_count": null,
      "outputs": [
        {
          "output_type": "stream",
          "name": "stdout",
          "text": [
            "180/180 [==============================] - 24s 131ms/step - loss: 1.4695e-04 - acc: 1.0000\n"
          ]
        },
        {
          "output_type": "execute_result",
          "data": {
            "text/plain": [
              "[0.00014695124991703779, 1.0]"
            ]
          },
          "metadata": {},
          "execution_count": 22
        }
      ]
    },
    {
      "cell_type": "code",
      "metadata": {
        "id": "EYazZzl4j-FK"
      },
      "source": [
        "model.save('/content/lab3.h5')"
      ],
      "execution_count": null,
      "outputs": []
    },
    {
      "cell_type": "code",
      "metadata": {
        "id": "4_TaUkRynjTN"
      },
      "source": [
        ""
      ],
      "execution_count": null,
      "outputs": []
    }
  ]
}