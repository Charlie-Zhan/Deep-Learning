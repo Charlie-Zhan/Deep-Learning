{
  "nbformat": 4,
  "nbformat_minor": 0,
  "metadata": {
    "colab": {
      "name": "Lab-based Group Assignment - 4 - 笔记版.ipynb",
      "provenance": [],
      "collapsed_sections": []
    },
    "kernelspec": {
      "name": "python3",
      "display_name": "Python 3"
    },
    "accelerator": "TPU"
  },
  "cells": [
    {
      "cell_type": "markdown",
      "metadata": {
        "id": "Riegsw_QKnDK"
      },
      "source": [
        "# Lab-based Group Assignment 4: \n",
        "## Prediction of Product Satisfaction by using Customer Reviews"
      ]
    },
    {
      "cell_type": "markdown",
      "metadata": {
        "id": "dSaIjzN5VKK-"
      },
      "source": [
        "![Imgur](https://i.imgur.com/4HJknC2.png)"
      ]
    },
    {
      "cell_type": "markdown",
      "metadata": {
        "id": "n0DVYpI-sA4C"
      },
      "source": [
        "## Business Problem\n",
        "For clothing companies, it is very important to quantify customers' satisfaction on your products so that customer retention team could intervene with corresponding measures before the customers churn due to dissatisfaction (e.g. provide refund for customers who have very low satisfaction on your product, while only provide replacement for customers who have relatively low satisfaction).  \n",
        "  \n",
        "Such kind of quantification is very easy to do on e-commerce websites since customers who write reviews for products would also providing a rating for the product. However, for customers who shop offline and for those who discuss about the products through other online channels such as Twitter and blogs, such kind of quantification doesn't exist, which hinders the ability of a company to retain these customers.  \n",
        "  \n",
        "Therefore, it is crucial for a company to create a satisfaction rating prediction model based on customers' discussion.  "
      ]
    },
    {
      "cell_type": "markdown",
      "metadata": {
        "id": "ErADbYpXK9bp"
      },
      "source": [
        "![Imgur](https://i.imgur.com/O1XLXaS.png)\n",
        "\n",
        "Credit: Amazon Seller Center"
      ]
    },
    {
      "cell_type": "markdown",
      "metadata": {
        "id": "5KZA49KMQtVA"
      },
      "source": [
        "Output will be the number of stars, the rating.\n"
      ]
    },
    {
      "cell_type": "markdown",
      "metadata": {
        "id": "B1wZvIC1E-q_"
      },
      "source": [
        "## Working with Text Data"
      ]
    },
    {
      "cell_type": "markdown",
      "metadata": {
        "id": "xaUtoh-pE_Jv"
      },
      "source": [
        "![Imgur](https://i.imgur.com/CLfKQQP.png)\n",
        "\n",
        "**Credit:** Chollet, Francois \"Deep learning with Python (2017).\""
      ]
    },
    {
      "cell_type": "markdown",
      "metadata": {
        "id": "nC45Wtw1RmMM"
      },
      "source": [
        "one hot coding \n",
        "\n",
        "or\n",
        "\n",
        "word embeding\n"
      ]
    },
    {
      "cell_type": "markdown",
      "metadata": {
        "id": "VWhAiNDdFBVK"
      },
      "source": [
        "## Representing Words"
      ]
    },
    {
      "cell_type": "markdown",
      "metadata": {
        "id": "ucN1Kvq_FEL4"
      },
      "source": [
        "![Imgur](https://i.imgur.com/jeQLzxq.png)"
      ]
    },
    {
      "cell_type": "markdown",
      "metadata": {
        "id": "7EkWHUmQSBMD"
      },
      "source": [
        "We need to reduce the dimension from 5000 to a smaller number, like 300, denser.\n"
      ]
    },
    {
      "cell_type": "markdown",
      "metadata": {
        "id": "0laeR7nOhYEi"
      },
      "source": [
        "## Task \n",
        "For this assignment, you are required to create a rating prediction model based on customers' reviews about women's clothing on an e-commerce platform."
      ]
    },
    {
      "cell_type": "markdown",
      "metadata": {
        "id": "M8Yt050isJNk"
      },
      "source": [
        "# File Preparation:\n",
        "\n",
        "Read the data into a dataframe. **Reviews with no rating and ratings with no review text should be excluded from the dataframe.**\n",
        "\n",
        "TIPS:The columns you would use are the rating column and review text column"
      ]
    },
    {
      "cell_type": "code",
      "metadata": {
        "id": "ba6ph4mLxGo-",
        "colab": {
          "base_uri": "https://localhost:8080/"
        },
        "outputId": "5505bbc7-4e3d-40d6-c383-9cea4de8cfcc"
      },
      "source": [
        "from google.colab import drive\n",
        "drive.mount('/content/drive', force_remount=True)"
      ],
      "execution_count": 1,
      "outputs": [
        {
          "output_type": "stream",
          "name": "stdout",
          "text": [
            "Mounted at /content/drive\n"
          ]
        }
      ]
    },
    {
      "cell_type": "code",
      "metadata": {
        "id": "BELg55x-yj85"
      },
      "source": [
        "import pandas as pd\n",
        "import numpy as np\n",
        "import matplotlib.pyplot as plt\n",
        "import keras\n",
        "\n",
        "df=pd.read_csv(\"/content/drive/MyDrive/DL DAT 565E/Womens Clothing E-Commerce Reviews.csv\",index_col=0)\n",
        "df=df.loc[:,[\"Review Text\",\"Rating\"]].dropna().reset_index(drop=True)\n",
        "# we only need \"Review Text\" column as our input column, and \"Rating\" column as our output column\n",
        "# so we remove all other columns except for these two"
      ],
      "execution_count": 6,
      "outputs": []
    },
    {
      "cell_type": "markdown",
      "metadata": {
        "id": "OtEu_J8_kEc_"
      },
      "source": [
        "After cleaning the data, you should have 22641 reviews available."
      ]
    },
    {
      "cell_type": "code",
      "metadata": {
        "id": "MyQjL3d3kB8s",
        "colab": {
          "base_uri": "https://localhost:8080/"
        },
        "outputId": "b77fa10a-6f4d-4e1e-e4c1-b5ce58490b7e"
      },
      "source": [
        "len(df)\n",
        "# now we have 22641 customer reviews and 22641 ratings"
      ],
      "execution_count": 7,
      "outputs": [
        {
          "output_type": "execute_result",
          "data": {
            "text/plain": [
              "22641"
            ]
          },
          "metadata": {},
          "execution_count": 7
        }
      ]
    },
    {
      "cell_type": "markdown",
      "metadata": {
        "id": "_wmSXJIf5Sj3"
      },
      "source": [
        "**QUESTION:** Let's look at the distribution of the rating, what do you find out? What should you do when splitting training and testing datasets in order to to mitigate potential issues?"
      ]
    },
    {
      "cell_type": "code",
      "metadata": {
        "id": "w0bCvzsgo0h7",
        "colab": {
          "base_uri": "https://localhost:8080/"
        },
        "outputId": "e529f9b3-d04e-40d4-c4be-a947321cfb82"
      },
      "source": [
        "df[\"Rating\"].value_counts()"
      ],
      "execution_count": 9,
      "outputs": [
        {
          "output_type": "execute_result",
          "data": {
            "text/plain": [
              "5    12540\n",
              "4     4908\n",
              "3     2823\n",
              "2     1549\n",
              "1      821\n",
              "Name: Rating, dtype: int64"
            ]
          },
          "metadata": {},
          "execution_count": 9
        }
      ]
    },
    {
      "cell_type": "markdown",
      "metadata": {
        "id": "UURcYkc_hllo"
      },
      "source": [
        "We have almost half of customers who rate the product 5 stars. But for the customers who gave 3, 2, or 1 star, our products are very likely to be returned, which may cause a loss to the company."
      ]
    },
    {
      "cell_type": "markdown",
      "metadata": {
        "id": "xrIdrgjnkMzF"
      },
      "source": [
        "**Answer:**  \n",
        "The distribution of the rating is uneven. Nearly 55% of the reviews have a 5-star rating. Therefore, in order to ensure each subgroup within the population receives proper representation within the sample, we need to do a stratified sampling.  \n",
        "\n",
        "(Two other methods are to give more weights on less reprsented ratings or to give less weight on more represented ratings. This is an advanced sampling technique that is very useful when training on contingencies such as credit fraud)"
      ]
    },
    {
      "cell_type": "markdown",
      "metadata": {
        "id": "YAEMZo27AX0n"
      },
      "source": [
        "Build a train dataset for model training and validation dataset for model assessment.  \n",
        "90% of the data should be used to build the training subset, while 10% of the data should be used to build the validation subset.  \n",
        "You should use review text as the predictor and rating as the outcome.  "
      ]
    },
    {
      "cell_type": "markdown",
      "metadata": {
        "id": "RN2dOeo_mPDZ"
      },
      "source": [
        "We can try test size 0.1, 0.2, 0.3 for getting lower mape errors for training and validation results, and explain what we have after changing these parameters."
      ]
    },
    {
      "cell_type": "code",
      "metadata": {
        "id": "ELbuRhivo2eC"
      },
      "source": [
        "from sklearn.model_selection import train_test_split\n",
        "rev=df[\"Review Text\"]\n",
        "target=df[\"Rating\"]\n",
        "x_train, x_test, y_train, y_test = train_test_split(rev,target,test_size=0.1,random_state=0,stratify=target)"
      ],
      "execution_count": 12,
      "outputs": []
    },
    {
      "cell_type": "markdown",
      "metadata": {
        "id": "A9Y_ucWH_Oig"
      },
      "source": [
        "## 1. Provide a common-sense, non-machine learning baseline prediction\n",
        "**TIPS:**  \n",
        "**Treat rating as a continuous variable for this assignment.**  \n",
        "Although technically, the rating is a categorical variable (you can only choose between 1,2,3,4, and 5). In this scenario, it is possible to treat it as a continuous variable when doing prediction.  \n",
        "For example, a rating of 3.7 generated by the prediction model indicates that the customer has a satisfaction level of around 3-4, with an inclination towards 4.   "
      ]
    },
    {
      "cell_type": "code",
      "metadata": {
        "id": "et6KKifro4Zz",
        "colab": {
          "base_uri": "https://localhost:8080/"
        },
        "outputId": "c5cca003-2e3d-4bb6-fc77-a9eb20ad9906"
      },
      "source": [
        "average_rating=y_test.mean()\n",
        "mae=0\n",
        "for rating in y_test:\n",
        "  mae+=abs(rating-average_rating)\n",
        "print(mae/len(y_test))"
      ],
      "execution_count": 13,
      "outputs": [
        {
          "output_type": "stream",
          "name": "stdout",
          "text": [
            "0.9041474789117512\n"
          ]
        }
      ]
    },
    {
      "cell_type": "markdown",
      "metadata": {
        "id": "yrCcyZgtmq0A"
      },
      "source": [
        "**Answer:**  \n",
        "Always predict that the rating is the average rating of the test dataset rating. In this case, the mean absolute percent error is about 0.9.  \n",
        "\n",
        "(Other metrics include MSE, MAPE, etc)  "
      ]
    },
    {
      "cell_type": "markdown",
      "metadata": {
        "id": "XcbNGgH-CzsP"
      },
      "source": [
        "## Predict the rating using SimpleRNN and your own word embedding,\n",
        "\n",
        "Rubric: Use Tokenizer (one-hot encoding was not recommended in 4.1), use embedding layer, use simpleRNN layer, dropout and stacking are optional"
      ]
    },
    {
      "cell_type": "markdown",
      "metadata": {
        "id": "rGKn7pRhFjL9"
      },
      "source": [
        "## Using pre-trained word embeddings"
      ]
    },
    {
      "cell_type": "markdown",
      "metadata": {
        "id": "n6RStVDeFmAU"
      },
      "source": [
        "![Imgur](https://i.imgur.com/DLK2ywd.png)"
      ]
    },
    {
      "cell_type": "markdown",
      "metadata": {
        "id": "hRStkJzGUTlL"
      },
      "source": [
        "Change the first vector to less numbers based on the weights.\n"
      ]
    },
    {
      "cell_type": "markdown",
      "metadata": {
        "id": "RCfCnnqnFtNx"
      },
      "source": [
        "![Imgur](https://i.imgur.com/LQUIc5o.png)"
      ]
    },
    {
      "cell_type": "markdown",
      "metadata": {
        "id": "Wmx9S0vkG0wW"
      },
      "source": [
        "But then we will lose the sequence. We need to keep the sequence.\n"
      ]
    },
    {
      "cell_type": "markdown",
      "metadata": {
        "id": "LFgu-U57Ft2l"
      },
      "source": [
        "![Imgur](https://i.imgur.com/ZkHz0Rb.png)"
      ]
    },
    {
      "cell_type": "markdown",
      "metadata": {
        "id": "CFXKw_BrHrCu"
      },
      "source": [
        "Sequence preprocessing\n",
        "\n",
        "pad_sequences\n"
      ]
    },
    {
      "cell_type": "markdown",
      "metadata": {
        "id": "ggU-SbaUIW3N"
      },
      "source": [
        "Q2"
      ]
    },
    {
      "cell_type": "code",
      "metadata": {
        "id": "IOFGY5rjo7VO",
        "colab": {
          "base_uri": "https://localhost:8080/"
        },
        "outputId": "34a00c48-25b7-4703-fa35-ccdbbb2925e1"
      },
      "source": [
        "from keras.preprocessing.sequence import pad_sequences\n",
        "from keras.preprocessing.text import Tokenizer\n",
        "\n",
        "# Number of words to consider as features\n",
        "max_features = 10000\n",
        "# define the dimension, vocabulary list has 10000 words in it\n",
        "\n",
        "maxlen = 20\n",
        "# maximum sequence length\n",
        "batch_size = 32\n",
        "\n",
        "#Tokenizing\n",
        "tokenizer=Tokenizer(max_features,oov_token=\"<?>\")\n",
        "tokenizer.fit_on_texts(x_train)\n",
        "X_train=tokenizer.texts_to_sequences(x_train)\n",
        "X_test=tokenizer.texts_to_sequences(x_test)\n",
        "\n",
        "print(len(X_train), 'train sequences')\n",
        "print(len(X_test), 'test sequences')\n",
        "\n",
        "# X_train with upper case \"X\" is tokenized, x_train with lower case \"x\" is not\n",
        "\n",
        "# This turns our lists of integers\n",
        "# into a 2D integer tensor of shape `(samples, maxlen)`\n",
        "print('Pad sequences (samples x text length)')\n",
        "X_train = pad_sequences(X_train, maxlen=maxlen)\n",
        "X_test = pad_sequences(X_test, maxlen=maxlen)\n",
        "print('X_train shape:', X_train.shape)\n",
        "print('X_test shape:', X_test.shape)"
      ],
      "execution_count": 14,
      "outputs": [
        {
          "output_type": "stream",
          "name": "stdout",
          "text": [
            "20376 train sequences\n",
            "2265 test sequences\n",
            "Pad sequences (samples x text length)\n",
            "X_train shape: (20376, 20)\n",
            "X_test shape: (2265, 20)\n"
          ]
        }
      ]
    },
    {
      "cell_type": "markdown",
      "metadata": {
        "id": "AC26uzsLJj4P"
      },
      "source": [
        "We have 20376 reviews for training, 2265 for testing; we have 20 numbers for each review"
      ]
    },
    {
      "cell_type": "code",
      "metadata": {
        "id": "C2ms-Rsfo9ZI",
        "colab": {
          "base_uri": "https://localhost:8080/",
          "height": 424
        },
        "outputId": "40f6e060-f333-4637-d2e2-7a7891cfb24b"
      },
      "source": [
        "X_train_df = pd.DataFrame(X_train)\n",
        "X_train_df"
      ],
      "execution_count": 15,
      "outputs": [
        {
          "output_type": "execute_result",
          "data": {
            "text/html": [
              "<div>\n",
              "<style scoped>\n",
              "    .dataframe tbody tr th:only-of-type {\n",
              "        vertical-align: middle;\n",
              "    }\n",
              "\n",
              "    .dataframe tbody tr th {\n",
              "        vertical-align: top;\n",
              "    }\n",
              "\n",
              "    .dataframe thead th {\n",
              "        text-align: right;\n",
              "    }\n",
              "</style>\n",
              "<table border=\"1\" class=\"dataframe\">\n",
              "  <thead>\n",
              "    <tr style=\"text-align: right;\">\n",
              "      <th></th>\n",
              "      <th>0</th>\n",
              "      <th>1</th>\n",
              "      <th>2</th>\n",
              "      <th>3</th>\n",
              "      <th>4</th>\n",
              "      <th>5</th>\n",
              "      <th>6</th>\n",
              "      <th>7</th>\n",
              "      <th>8</th>\n",
              "      <th>9</th>\n",
              "      <th>10</th>\n",
              "      <th>11</th>\n",
              "      <th>12</th>\n",
              "      <th>13</th>\n",
              "      <th>14</th>\n",
              "      <th>15</th>\n",
              "      <th>16</th>\n",
              "      <th>17</th>\n",
              "      <th>18</th>\n",
              "      <th>19</th>\n",
              "    </tr>\n",
              "  </thead>\n",
              "  <tbody>\n",
              "    <tr>\n",
              "      <th>0</th>\n",
              "      <td>1323</td>\n",
              "      <td>5</td>\n",
              "      <td>893</td>\n",
              "      <td>275</td>\n",
              "      <td>4</td>\n",
              "      <td>2</td>\n",
              "      <td>330</td>\n",
              "      <td>475</td>\n",
              "      <td>5</td>\n",
              "      <td>70</td>\n",
              "      <td>226</td>\n",
              "      <td>17</td>\n",
              "      <td>21</td>\n",
              "      <td>2</td>\n",
              "      <td>26</td>\n",
              "      <td>546</td>\n",
              "      <td>2073</td>\n",
              "      <td>18</td>\n",
              "      <td>187</td>\n",
              "      <td>8142</td>\n",
              "    </tr>\n",
              "    <tr>\n",
              "      <th>1</th>\n",
              "      <td>20</td>\n",
              "      <td>8</td>\n",
              "      <td>57</td>\n",
              "      <td>3</td>\n",
              "      <td>71</td>\n",
              "      <td>5</td>\n",
              "      <td>95</td>\n",
              "      <td>98</td>\n",
              "      <td>4</td>\n",
              "      <td>50</td>\n",
              "      <td>78</td>\n",
              "      <td>150</td>\n",
              "      <td>1161</td>\n",
              "      <td>41</td>\n",
              "      <td>9</td>\n",
              "      <td>104</td>\n",
              "      <td>13</td>\n",
              "      <td>2493</td>\n",
              "      <td>95</td>\n",
              "      <td>636</td>\n",
              "    </tr>\n",
              "    <tr>\n",
              "      <th>2</th>\n",
              "      <td>3</td>\n",
              "      <td>29</td>\n",
              "      <td>1139</td>\n",
              "      <td>3</td>\n",
              "      <td>127</td>\n",
              "      <td>222</td>\n",
              "      <td>544</td>\n",
              "      <td>10</td>\n",
              "      <td>2</td>\n",
              "      <td>105</td>\n",
              "      <td>17</td>\n",
              "      <td>71</td>\n",
              "      <td>267</td>\n",
              "      <td>4</td>\n",
              "      <td>142</td>\n",
              "      <td>6</td>\n",
              "      <td>144</td>\n",
              "      <td>211</td>\n",
              "      <td>152</td>\n",
              "      <td>1681</td>\n",
              "    </tr>\n",
              "    <tr>\n",
              "      <th>3</th>\n",
              "      <td>85</td>\n",
              "      <td>190</td>\n",
              "      <td>2</td>\n",
              "      <td>64</td>\n",
              "      <td>14</td>\n",
              "      <td>8</td>\n",
              "      <td>26</td>\n",
              "      <td>7</td>\n",
              "      <td>17</td>\n",
              "      <td>68</td>\n",
              "      <td>4</td>\n",
              "      <td>202</td>\n",
              "      <td>2</td>\n",
              "      <td>819</td>\n",
              "      <td>26</td>\n",
              "      <td>2</td>\n",
              "      <td>399</td>\n",
              "      <td>7</td>\n",
              "      <td>68</td>\n",
              "      <td>36</td>\n",
              "    </tr>\n",
              "    <tr>\n",
              "      <th>4</th>\n",
              "      <td>3</td>\n",
              "      <td>65</td>\n",
              "      <td>9</td>\n",
              "      <td>23</td>\n",
              "      <td>80</td>\n",
              "      <td>993</td>\n",
              "      <td>15</td>\n",
              "      <td>128</td>\n",
              "      <td>113</td>\n",
              "      <td>35</td>\n",
              "      <td>145</td>\n",
              "      <td>518</td>\n",
              "      <td>62</td>\n",
              "      <td>4</td>\n",
              "      <td>2</td>\n",
              "      <td>360</td>\n",
              "      <td>7</td>\n",
              "      <td>5</td>\n",
              "      <td>62</td>\n",
              "      <td>48</td>\n",
              "    </tr>\n",
              "    <tr>\n",
              "      <th>...</th>\n",
              "      <td>...</td>\n",
              "      <td>...</td>\n",
              "      <td>...</td>\n",
              "      <td>...</td>\n",
              "      <td>...</td>\n",
              "      <td>...</td>\n",
              "      <td>...</td>\n",
              "      <td>...</td>\n",
              "      <td>...</td>\n",
              "      <td>...</td>\n",
              "      <td>...</td>\n",
              "      <td>...</td>\n",
              "      <td>...</td>\n",
              "      <td>...</td>\n",
              "      <td>...</td>\n",
              "      <td>...</td>\n",
              "      <td>...</td>\n",
              "      <td>...</td>\n",
              "      <td>...</td>\n",
              "      <td>...</td>\n",
              "    </tr>\n",
              "    <tr>\n",
              "      <th>20371</th>\n",
              "      <td>16</td>\n",
              "      <td>24</td>\n",
              "      <td>69</td>\n",
              "      <td>11</td>\n",
              "      <td>16</td>\n",
              "      <td>24</td>\n",
              "      <td>495</td>\n",
              "      <td>2</td>\n",
              "      <td>26</td>\n",
              "      <td>46</td>\n",
              "      <td>407</td>\n",
              "      <td>18</td>\n",
              "      <td>2594</td>\n",
              "      <td>1420</td>\n",
              "      <td>4</td>\n",
              "      <td>112</td>\n",
              "      <td>31</td>\n",
              "      <td>49</td>\n",
              "      <td>52</td>\n",
              "      <td>274</td>\n",
              "    </tr>\n",
              "    <tr>\n",
              "      <th>20372</th>\n",
              "      <td>17</td>\n",
              "      <td>99</td>\n",
              "      <td>69</td>\n",
              "      <td>4</td>\n",
              "      <td>276</td>\n",
              "      <td>9</td>\n",
              "      <td>33</td>\n",
              "      <td>3</td>\n",
              "      <td>92</td>\n",
              "      <td>17</td>\n",
              "      <td>196</td>\n",
              "      <td>216</td>\n",
              "      <td>10</td>\n",
              "      <td>6</td>\n",
              "      <td>6</td>\n",
              "      <td>7</td>\n",
              "      <td>5</td>\n",
              "      <td>1184</td>\n",
              "      <td>13</td>\n",
              "      <td>220</td>\n",
              "    </tr>\n",
              "    <tr>\n",
              "      <th>20373</th>\n",
              "      <td>751</td>\n",
              "      <td>1135</td>\n",
              "      <td>18</td>\n",
              "      <td>843</td>\n",
              "      <td>378</td>\n",
              "      <td>2</td>\n",
              "      <td>83</td>\n",
              "      <td>7</td>\n",
              "      <td>1551</td>\n",
              "      <td>4</td>\n",
              "      <td>827</td>\n",
              "      <td>131</td>\n",
              "      <td>20</td>\n",
              "      <td>29</td>\n",
              "      <td>45</td>\n",
              "      <td>74</td>\n",
              "      <td>4</td>\n",
              "      <td>56</td>\n",
              "      <td>30</td>\n",
              "      <td>421</td>\n",
              "    </tr>\n",
              "    <tr>\n",
              "      <th>20374</th>\n",
              "      <td>3</td>\n",
              "      <td>53</td>\n",
              "      <td>2</td>\n",
              "      <td>47</td>\n",
              "      <td>2</td>\n",
              "      <td>26</td>\n",
              "      <td>40</td>\n",
              "      <td>782</td>\n",
              "      <td>148</td>\n",
              "      <td>14</td>\n",
              "      <td>31</td>\n",
              "      <td>778</td>\n",
              "      <td>6</td>\n",
              "      <td>42</td>\n",
              "      <td>25</td>\n",
              "      <td>166</td>\n",
              "      <td>168</td>\n",
              "      <td>15</td>\n",
              "      <td>60</td>\n",
              "      <td>98</td>\n",
              "    </tr>\n",
              "    <tr>\n",
              "      <th>20375</th>\n",
              "      <td>1940</td>\n",
              "      <td>2</td>\n",
              "      <td>455</td>\n",
              "      <td>66</td>\n",
              "      <td>6</td>\n",
              "      <td>67</td>\n",
              "      <td>4694</td>\n",
              "      <td>64</td>\n",
              "      <td>4</td>\n",
              "      <td>21</td>\n",
              "      <td>1001</td>\n",
              "      <td>5</td>\n",
              "      <td>54</td>\n",
              "      <td>2126</td>\n",
              "      <td>250</td>\n",
              "      <td>3</td>\n",
              "      <td>52</td>\n",
              "      <td>29</td>\n",
              "      <td>2</td>\n",
              "      <td>1</td>\n",
              "    </tr>\n",
              "  </tbody>\n",
              "</table>\n",
              "<p>20376 rows × 20 columns</p>\n",
              "</div>"
            ],
            "text/plain": [
              "         0     1     2    3    4    5   ...   14   15    16    17   18    19\n",
              "0      1323     5   893  275    4    2  ...   26  546  2073    18  187  8142\n",
              "1        20     8    57    3   71    5  ...    9  104    13  2493   95   636\n",
              "2         3    29  1139    3  127  222  ...  142    6   144   211  152  1681\n",
              "3        85   190     2   64   14    8  ...   26    2   399     7   68    36\n",
              "4         3    65     9   23   80  993  ...    2  360     7     5   62    48\n",
              "...     ...   ...   ...  ...  ...  ...  ...  ...  ...   ...   ...  ...   ...\n",
              "20371    16    24    69   11   16   24  ...    4  112    31    49   52   274\n",
              "20372    17    99    69    4  276    9  ...    6    7     5  1184   13   220\n",
              "20373   751  1135    18  843  378    2  ...   45   74     4    56   30   421\n",
              "20374     3    53     2   47    2   26  ...   25  166   168    15   60    98\n",
              "20375  1940     2   455   66    6   67  ...  250    3    52    29    2     1\n",
              "\n",
              "[20376 rows x 20 columns]"
            ]
          },
          "metadata": {},
          "execution_count": 15
        }
      ]
    },
    {
      "cell_type": "markdown",
      "metadata": {
        "id": "ktQ_xfrPFK9r"
      },
      "source": [
        "## Fundamentals of Recurrent Neural Networks (RNNs)\n",
        "\n",
        "Why we are not use Full Connected Networks\n",
        "- Cannot learn the position of words in text\n",
        "\n",
        "we need sequence\n",
        "- Inputs and outputs can have different size, and it is too complex to use classic NNs"
      ]
    },
    {
      "cell_type": "markdown",
      "metadata": {
        "id": "yucYEfoyFO-F"
      },
      "source": [
        "![Imgur](https://i.imgur.com/g7Jnn7o.png)"
      ]
    },
    {
      "cell_type": "markdown",
      "metadata": {
        "id": "uWtp1BWeFXkl"
      },
      "source": [
        "## Vanishing Gradients and Exploding Gradients Problems\n",
        "RNN cannot capture long-range dependencies because we have deep layers \n",
        "- Exploding gradients - Gradient Clipping (Give threshold value and clip gradient vectors )\n",
        "\n",
        "weights bacome large in later part\n",
        "- Vanishing gradients - Long Short Term Memory (LSTM)\n",
        "\n",
        "lost some weights in later part"
      ]
    },
    {
      "cell_type": "markdown",
      "metadata": {
        "id": "f7qt4-AAFhQY"
      },
      "source": [
        "![Imgur](https://i.imgur.com/4mAUXhg.png)"
      ]
    },
    {
      "cell_type": "code",
      "metadata": {
        "id": "sHEelajSo_yK",
        "colab": {
          "base_uri": "https://localhost:8080/"
        },
        "outputId": "50bd7206-7195-4019-cead-d2bc5c930b33"
      },
      "source": [
        "from keras.models import Sequential\n",
        "from keras.layers import Embedding, SimpleRNN\n",
        "from keras.layers import Dense\n",
        "from keras.layers import Dropout\n",
        "\n",
        "model = Sequential()\n",
        "# We specify the maximum input length to our Embedding layer\n",
        "# so we can later flatten the embedded inputs\n",
        "embedding_dim = 64\n",
        "model.add(Embedding(max_features, embedding_dim, input_length=maxlen))\n",
        "# After the Embedding layer, \n",
        "# our activations have shape `(samples, maxlen, 64)`.\n",
        "\n",
        "model.add(SimpleRNN(32, return_sequences=True)) # sharing information\n",
        "model.add(SimpleRNN(16, return_sequences=True))\n",
        "model.add(SimpleRNN(32)) # default activation is \"tanh\"\n",
        "model.add(Dense(1))\n",
        "model.summary()"
      ],
      "execution_count": 16,
      "outputs": [
        {
          "output_type": "stream",
          "name": "stdout",
          "text": [
            "Model: \"sequential\"\n",
            "_________________________________________________________________\n",
            " Layer (type)                Output Shape              Param #   \n",
            "=================================================================\n",
            " embedding (Embedding)       (None, 20, 64)            640000    \n",
            "                                                                 \n",
            " simple_rnn (SimpleRNN)      (None, 20, 32)            3104      \n",
            "                                                                 \n",
            " simple_rnn_1 (SimpleRNN)    (None, 20, 16)            784       \n",
            "                                                                 \n",
            " simple_rnn_2 (SimpleRNN)    (None, 32)                1568      \n",
            "                                                                 \n",
            " dense (Dense)               (None, 1)                 33        \n",
            "                                                                 \n",
            "=================================================================\n",
            "Total params: 645,489\n",
            "Trainable params: 645,489\n",
            "Non-trainable params: 0\n",
            "_________________________________________________________________\n"
          ]
        }
      ]
    },
    {
      "cell_type": "code",
      "metadata": {
        "id": "m1kp_8QJpBtg",
        "colab": {
          "base_uri": "https://localhost:8080/"
        },
        "outputId": "cfeffc1d-8f6f-403d-b392-f2202b4aa153"
      },
      "source": [
        "model.compile(optimizer='adam', loss='mae', metrics='mape')\n",
        "history = model.fit(X_train, y_train,\n",
        "                    epochs=10,\n",
        "                    steps_per_epoch = 256,\n",
        "                    batch_size=batch_size,\n",
        "                   validation_data=(X_test,y_test))\n",
        "\n",
        "keras.backend.clear_session()\n",
        "del model"
      ],
      "execution_count": 17,
      "outputs": [
        {
          "output_type": "stream",
          "name": "stdout",
          "text": [
            "Epoch 1/10\n",
            "256/256 [==============================] - 10s 25ms/step - loss: 0.9135 - mape: 38.7777 - val_loss: 0.8177 - val_mape: 38.3333\n",
            "Epoch 2/10\n",
            "256/256 [==============================] - 6s 23ms/step - loss: 0.8320 - mape: 38.5994 - val_loss: 0.8208 - val_mape: 36.7001\n",
            "Epoch 3/10\n",
            "256/256 [==============================] - 6s 23ms/step - loss: 0.6968 - mape: 29.5548 - val_loss: 0.6574 - val_mape: 27.6983\n",
            "Epoch 4/10\n",
            "256/256 [==============================] - 6s 23ms/step - loss: 0.6095 - mape: 25.1778 - val_loss: 0.6278 - val_mape: 27.2221\n",
            "Epoch 5/10\n",
            "256/256 [==============================] - 6s 23ms/step - loss: 0.5752 - mape: 23.3809 - val_loss: 0.5934 - val_mape: 24.0302\n",
            "Epoch 6/10\n",
            "256/256 [==============================] - 6s 24ms/step - loss: 0.4728 - mape: 19.5012 - val_loss: 0.6234 - val_mape: 24.2487\n",
            "Epoch 7/10\n",
            "256/256 [==============================] - 6s 23ms/step - loss: 0.4687 - mape: 18.5478 - val_loss: 0.6115 - val_mape: 24.5375\n",
            "Epoch 8/10\n",
            "256/256 [==============================] - 6s 23ms/step - loss: 0.4468 - mape: 18.5559 - val_loss: 0.6198 - val_mape: 24.9643\n",
            "Epoch 9/10\n",
            "256/256 [==============================] - 6s 24ms/step - loss: 0.3984 - mape: 16.3504 - val_loss: 0.6089 - val_mape: 25.6079\n",
            "Epoch 10/10\n",
            "256/256 [==============================] - 6s 24ms/step - loss: 0.3940 - mape: 15.8185 - val_loss: 0.6313 - val_mape: 23.5706\n"
          ]
        }
      ]
    },
    {
      "cell_type": "code",
      "metadata": {
        "id": "ijGTh47ApD0L",
        "colab": {
          "base_uri": "https://localhost:8080/",
          "height": 281
        },
        "outputId": "03dbdcad-2927-4d4e-9c8d-0f8e4de2dbff"
      },
      "source": [
        "import matplotlib.pyplot as plt\n",
        "\n",
        "mape = history.history['mape']\n",
        "val_mape = history.history['val_mape']\n",
        "loss = history.history['loss']\n",
        "val_loss = history.history['val_loss']\n",
        "\n",
        "epochs = range(len(loss))\n",
        "\n",
        "plt.plot(epochs, mape, 'r', label='Training mape')\n",
        "plt.plot(epochs, val_mape, 'b', label='Validation mape')\n",
        "plt.title('Training and validation mape')\n",
        "plt.legend()\n",
        "plt.ylim(ymax=100,ymin=0.01)\n",
        "\n",
        "plt.show()\n",
        "# we have underfitting and overfitting problems at the same time"
      ],
      "execution_count": 18,
      "outputs": [
        {
          "output_type": "display_data",
          "data": {
            "image/png": "[encoded data removed]",
            "text/plain": [
              "<Figure size 432x288 with 1 Axes>"
            ]
          },
          "metadata": {
            "needs_background": "light"
          }
        }
      ]
    },
    {
      "cell_type": "markdown",
      "metadata": {
        "id": "qVg55gIeEstj"
      },
      "source": [
        "## Predict using Conv1D with word embedding.\n",
        "\n",
        "Rubric: Use Tokenizer, use GLove enbedding, use Conv1D, dropout and stacking are optional"
      ]
    },
    {
      "cell_type": "code",
      "metadata": {
        "id": "Ojb-AhHFpF4-",
        "colab": {
          "base_uri": "https://localhost:8080/"
        },
        "outputId": "c0e9951d-7faa-426b-c1d2-026bdb8a750f"
      },
      "source": [
        "from keras import layers\n",
        "from tensorflow.keras.optimizers import RMSprop\n",
        "model = Sequential()\n",
        "model.add(Embedding(max_features, 64, input_length=maxlen))\n",
        "model.add(layers.Conv1D(64, 5, activation='relu'))\n",
        "model.add(layers.MaxPooling1D(3))\n",
        "model.add(layers.Conv1D(32, 5, activation='relu'))\n",
        "model.add(layers.GlobalMaxPooling1D())\n",
        "model.add(layers.Dense(1))\n",
        "\n",
        "model.summary()"
      ],
      "execution_count": 20,
      "outputs": [
        {
          "output_type": "stream",
          "name": "stdout",
          "text": [
            "Model: \"sequential\"\n",
            "_________________________________________________________________\n",
            " Layer (type)                Output Shape              Param #   \n",
            "=================================================================\n",
            " embedding (Embedding)       (None, 20, 64)            640000    \n",
            "                                                                 \n",
            " conv1d (Conv1D)             (None, 16, 64)            20544     \n",
            "                                                                 \n",
            " max_pooling1d (MaxPooling1D  (None, 5, 64)            0         \n",
            " )                                                               \n",
            "                                                                 \n",
            " conv1d_1 (Conv1D)           (None, 1, 32)             10272     \n",
            "                                                                 \n",
            " global_max_pooling1d (Globa  (None, 32)               0         \n",
            " lMaxPooling1D)                                                  \n",
            "                                                                 \n",
            " dense (Dense)               (None, 1)                 33        \n",
            "                                                                 \n",
            "=================================================================\n",
            "Total params: 670,849\n",
            "Trainable params: 670,849\n",
            "Non-trainable params: 0\n",
            "_________________________________________________________________\n"
          ]
        }
      ]
    },
    {
      "cell_type": "code",
      "metadata": {
        "id": "5_dnMIbFpHkE",
        "colab": {
          "base_uri": "https://localhost:8080/"
        },
        "outputId": "16c41450-dd94-4f8c-a408-4f8291a5eb68"
      },
      "source": [
        "model.compile(optimizer='adam', loss='mae', metrics='mape')\n",
        "history = model.fit(X_train, y_train,\n",
        "                    epochs=10,\n",
        "                    steps_per_epoch = 256,\n",
        "                    batch_size=batch_size,\n",
        "                   validation_data=(X_test,y_test))\n",
        "\n",
        "keras.backend.clear_session()\n",
        "del model"
      ],
      "execution_count": 21,
      "outputs": [
        {
          "output_type": "stream",
          "name": "stdout",
          "text": [
            "Epoch 1/10\n",
            "256/256 [==============================] - 4s 14ms/step - loss: 0.9909 - mape: 34.2087 - val_loss: 0.7200 - val_mape: 29.4968\n",
            "Epoch 2/10\n",
            "256/256 [==============================] - 4s 14ms/step - loss: 0.7244 - mape: 29.0595 - val_loss: 0.6903 - val_mape: 27.3071\n",
            "Epoch 3/10\n",
            "256/256 [==============================] - 4s 14ms/step - loss: 0.6523 - mape: 25.3849 - val_loss: 0.6629 - val_mape: 25.2939\n",
            "Epoch 4/10\n",
            "256/256 [==============================] - 4s 14ms/step - loss: 0.5891 - mape: 23.0996 - val_loss: 0.6629 - val_mape: 25.8978\n",
            "Epoch 5/10\n",
            "256/256 [==============================] - 3s 13ms/step - loss: 0.5967 - mape: 23.5679 - val_loss: 0.6646 - val_mape: 26.7634\n",
            "Epoch 6/10\n",
            "256/256 [==============================] - 3s 13ms/step - loss: 0.5070 - mape: 19.8877 - val_loss: 0.6694 - val_mape: 25.2224\n",
            "Epoch 7/10\n",
            "256/256 [==============================] - 4s 14ms/step - loss: 0.5061 - mape: 19.6314 - val_loss: 0.6707 - val_mape: 26.0402\n",
            "Epoch 8/10\n",
            "256/256 [==============================] - 4s 14ms/step - loss: 0.4807 - mape: 18.4110 - val_loss: 0.6639 - val_mape: 26.0176\n",
            "Epoch 9/10\n",
            "256/256 [==============================] - 4s 14ms/step - loss: 0.4551 - mape: 17.6897 - val_loss: 0.6832 - val_mape: 25.8930\n",
            "Epoch 10/10\n",
            "256/256 [==============================] - 4s 14ms/step - loss: 0.4559 - mape: 17.4656 - val_loss: 0.6714 - val_mape: 25.4929\n"
          ]
        }
      ]
    },
    {
      "cell_type": "code",
      "metadata": {
        "id": "_MycGwEApKs0",
        "colab": {
          "base_uri": "https://localhost:8080/",
          "height": 281
        },
        "outputId": "8d3c11d4-6d3f-4f30-d32f-140c5e9cdcb1"
      },
      "source": [
        "import matplotlib.pyplot as plt\n",
        "\n",
        "mape = history.history['mape']\n",
        "val_mape = history.history['val_mape']\n",
        "loss = history.history['loss']\n",
        "val_loss = history.history['val_loss']\n",
        "\n",
        "epochs = range(len(loss))\n",
        "\n",
        "plt.plot(epochs, mape, 'r', label='Training mape')\n",
        "plt.plot(epochs, val_mape, 'b', label='Validation mape')\n",
        "plt.title('Training and validation mape')\n",
        "plt.legend()\n",
        "plt.ylim(ymax=100,ymin=0.01)\n",
        "\n",
        "plt.show()"
      ],
      "execution_count": 22,
      "outputs": [
        {
          "output_type": "display_data",
          "data": {
            "image/png": "[encoded data removed]",
            "text/plain": [
              "<Figure size 432x288 with 1 Axes>"
            ]
          },
          "metadata": {
            "needs_background": "light"
          }
        }
      ]
    },
    {
      "cell_type": "markdown",
      "metadata": {
        "id": "kZOMF86M15AJ"
      },
      "source": [
        "## Reqularization with LSTM"
      ]
    },
    {
      "cell_type": "code",
      "metadata": {
        "id": "UVSVbHWgpM2a",
        "colab": {
          "base_uri": "https://localhost:8080/"
        },
        "outputId": "df4bd448-9c6d-4ee1-d74b-b2f39c98998d"
      },
      "source": [
        "model = Sequential()\n",
        "#model.add(layers.Embedding(max_features, embedding_dim, input_length=maxlen))\n",
        "model.add(Embedding(max_features, 64, input_length=maxlen))\n",
        "model.add(layers.LSTM(32,dropout=0.2,recurrent_dropout=0.2))\n",
        "model.add(layers.Dense(1))\n",
        "\n",
        "model.summary()"
      ],
      "execution_count": 23,
      "outputs": [
        {
          "output_type": "stream",
          "name": "stdout",
          "text": [
            "Model: \"sequential\"\n",
            "_________________________________________________________________\n",
            " Layer (type)                Output Shape              Param #   \n",
            "=================================================================\n",
            " embedding (Embedding)       (None, 20, 64)            640000    \n",
            "                                                                 \n",
            " lstm (LSTM)                 (None, 32)                12416     \n",
            "                                                                 \n",
            " dense (Dense)               (None, 1)                 33        \n",
            "                                                                 \n",
            "=================================================================\n",
            "Total params: 652,449\n",
            "Trainable params: 652,449\n",
            "Non-trainable params: 0\n",
            "_________________________________________________________________\n"
          ]
        }
      ]
    },
    {
      "cell_type": "code",
      "metadata": {
        "id": "RSbjKI8ZpOnc",
        "colab": {
          "base_uri": "https://localhost:8080/"
        },
        "outputId": "3d57bf8a-413c-4ae4-8875-3dbbd463bfce"
      },
      "source": [
        "model.compile(optimizer='adam', loss='mae', metrics='mape')\n",
        "history = model.fit(X_train, y_train,\n",
        "                    epochs=10,\n",
        "                    steps_per_epoch = 256,\n",
        "                    batch_size=batch_size,\n",
        "                    validation_data=(X_test,y_test))\n",
        "keras.backend.clear_session()\n",
        "del model"
      ],
      "execution_count": 24,
      "outputs": [
        {
          "output_type": "stream",
          "name": "stdout",
          "text": [
            "Epoch 1/10\n",
            "256/256 [==============================] - 12s 36ms/step - loss: 1.1278 - mape: 42.6965 - val_loss: 0.8063 - val_mape: 35.6375\n",
            "Epoch 2/10\n",
            "256/256 [==============================] - 9s 36ms/step - loss: 0.7411 - mape: 30.6461 - val_loss: 0.6714 - val_mape: 28.9288\n",
            "Epoch 3/10\n",
            "256/256 [==============================] - 9s 35ms/step - loss: 0.6283 - mape: 25.0958 - val_loss: 0.6184 - val_mape: 25.4585\n",
            "Epoch 4/10\n",
            "256/256 [==============================] - 9s 35ms/step - loss: 0.5911 - mape: 23.6318 - val_loss: 0.6179 - val_mape: 26.1990\n",
            "Epoch 5/10\n",
            "256/256 [==============================] - 9s 35ms/step - loss: 0.5864 - mape: 23.6739 - val_loss: 0.5949 - val_mape: 24.0135\n",
            "Epoch 6/10\n",
            "256/256 [==============================] - 9s 35ms/step - loss: 0.5200 - mape: 20.6345 - val_loss: 0.5910 - val_mape: 22.7637\n",
            "Epoch 7/10\n",
            "256/256 [==============================] - 9s 34ms/step - loss: 0.5281 - mape: 21.2236 - val_loss: 0.5949 - val_mape: 24.7841\n",
            "Epoch 8/10\n",
            "256/256 [==============================] - 9s 35ms/step - loss: 0.4930 - mape: 19.6332 - val_loss: 0.5909 - val_mape: 24.2942\n",
            "Epoch 9/10\n",
            "256/256 [==============================] - 9s 35ms/step - loss: 0.4876 - mape: 19.6340 - val_loss: 0.5874 - val_mape: 22.8440\n",
            "Epoch 10/10\n",
            "256/256 [==============================] - 9s 36ms/step - loss: 0.4857 - mape: 19.3717 - val_loss: 0.5908 - val_mape: 24.5587\n"
          ]
        }
      ]
    },
    {
      "cell_type": "markdown",
      "metadata": {
        "id": "W_x_PvM5P-0W"
      },
      "source": [
        "We fixed overfitting problem a little bit (bcz LSTM), but there still exist underfitting problem."
      ]
    },
    {
      "cell_type": "code",
      "metadata": {
        "id": "oNT9QTarpQmT",
        "colab": {
          "base_uri": "https://localhost:8080/",
          "height": 281
        },
        "outputId": "8c34c3f8-d390-41fb-d909-9912aeeaf5d3"
      },
      "source": [
        "import matplotlib.pyplot as plt\n",
        "\n",
        "mape = history.history['mape']\n",
        "val_mape = history.history['val_mape']\n",
        "loss = history.history['loss']\n",
        "val_loss = history.history['val_loss']\n",
        "\n",
        "epochs = range(len(loss))\n",
        "\n",
        "plt.plot(epochs, mape, 'r', label='Training mape')\n",
        "plt.plot(epochs, val_mape, 'b', label='Validation mape')\n",
        "plt.title('Training and validation mape')\n",
        "plt.legend()\n",
        "plt.ylim(ymax=100,ymin=0.01)\n",
        "\n",
        "plt.show()"
      ],
      "execution_count": 25,
      "outputs": [
        {
          "output_type": "display_data",
          "data": {
            "image/png": "[encoded data removed]",
            "text/plain": [
              "<Figure size 432x288 with 1 Axes>"
            ]
          },
          "metadata": {
            "needs_background": "light"
          }
        }
      ]
    },
    {
      "cell_type": "markdown",
      "metadata": {
        "id": "58GQpuqtC5Xp"
      },
      "source": [
        "## Regularization with CNN and LSTM   \n",
        "**Instructions:**  You are required to use dropout when building prediction model in this question.  "
      ]
    },
    {
      "cell_type": "code",
      "metadata": {
        "id": "cTDzCKWLpSaU",
        "colab": {
          "base_uri": "https://localhost:8080/"
        },
        "outputId": "d3acf2ce-1b28-469f-cf7c-b60f52280a83"
      },
      "source": [
        "model = Sequential()\n",
        "model.add(Embedding(max_features, 64, input_length=maxlen))\n",
        "model.add(layers.Conv1D(64, 5, activation='relu'))\n",
        "model.add(layers.LSTM(32,dropout=0.2,recurrent_dropout=0.2))\n",
        "model.add(layers.Dense(1))\n",
        "\n",
        "model.summary()"
      ],
      "execution_count": 26,
      "outputs": [
        {
          "output_type": "stream",
          "name": "stdout",
          "text": [
            "Model: \"sequential\"\n",
            "_________________________________________________________________\n",
            " Layer (type)                Output Shape              Param #   \n",
            "=================================================================\n",
            " embedding (Embedding)       (None, 20, 64)            640000    \n",
            "                                                                 \n",
            " conv1d (Conv1D)             (None, 16, 64)            20544     \n",
            "                                                                 \n",
            " lstm (LSTM)                 (None, 32)                12416     \n",
            "                                                                 \n",
            " dense (Dense)               (None, 1)                 33        \n",
            "                                                                 \n",
            "=================================================================\n",
            "Total params: 672,993\n",
            "Trainable params: 672,993\n",
            "Non-trainable params: 0\n",
            "_________________________________________________________________\n"
          ]
        }
      ]
    },
    {
      "cell_type": "code",
      "metadata": {
        "id": "TKEsuoIcpUDc",
        "colab": {
          "base_uri": "https://localhost:8080/"
        },
        "outputId": "dcb92982-d418-47ac-a45e-f44767504c69"
      },
      "source": [
        "model.compile(optimizer='adam', loss='mae', metrics='mape')\n",
        "history = model.fit(X_train, y_train,\n",
        "                    epochs=10,\n",
        "                    steps_per_epoch = 256,\n",
        "                    batch_size=batch_size,\n",
        "                    validation_data=(X_test,y_test))\n",
        "keras.backend.clear_session()\n",
        "del model"
      ],
      "execution_count": 27,
      "outputs": [
        {
          "output_type": "stream",
          "name": "stdout",
          "text": [
            "Epoch 1/10\n",
            "256/256 [==============================] - 13s 37ms/step - loss: 1.0316 - mape: 37.1671 - val_loss: 0.6866 - val_mape: 28.4402\n",
            "Epoch 2/10\n",
            "256/256 [==============================] - 9s 35ms/step - loss: 0.6701 - mape: 27.1837 - val_loss: 0.6275 - val_mape: 26.4784\n",
            "Epoch 3/10\n",
            "256/256 [==============================] - 9s 35ms/step - loss: 0.5869 - mape: 24.1271 - val_loss: 0.6117 - val_mape: 23.8911\n",
            "Epoch 4/10\n",
            "256/256 [==============================] - 9s 35ms/step - loss: 0.5497 - mape: 21.9519 - val_loss: 0.6053 - val_mape: 23.9044\n",
            "Epoch 5/10\n",
            "256/256 [==============================] - 9s 36ms/step - loss: 0.5555 - mape: 22.4283 - val_loss: 0.5880 - val_mape: 23.4119\n",
            "Epoch 6/10\n",
            "256/256 [==============================] - 9s 35ms/step - loss: 0.4937 - mape: 19.9739 - val_loss: 0.5861 - val_mape: 22.8813\n",
            "Epoch 7/10\n",
            "256/256 [==============================] - 9s 35ms/step - loss: 0.4925 - mape: 19.6536 - val_loss: 0.5932 - val_mape: 22.5778\n",
            "Epoch 8/10\n",
            "256/256 [==============================] - 9s 34ms/step - loss: 0.4712 - mape: 18.8472 - val_loss: 0.6021 - val_mape: 22.3472\n",
            "Epoch 9/10\n",
            "256/256 [==============================] - 9s 35ms/step - loss: 0.4530 - mape: 18.4586 - val_loss: 0.5877 - val_mape: 23.5910\n",
            "Epoch 10/10\n",
            "256/256 [==============================] - 9s 35ms/step - loss: 0.4435 - mape: 17.4814 - val_loss: 0.6022 - val_mape: 21.9335\n"
          ]
        }
      ]
    },
    {
      "cell_type": "code",
      "metadata": {
        "id": "d4gH7YS2pV-O",
        "colab": {
          "base_uri": "https://localhost:8080/",
          "height": 281
        },
        "outputId": "598703a3-fcf5-4c40-f575-dd393b7fdf44"
      },
      "source": [
        "import matplotlib.pyplot as plt\n",
        "\n",
        "mape = history.history['mape']\n",
        "val_mape = history.history['val_mape']\n",
        "loss = history.history['loss']\n",
        "val_loss = history.history['val_loss']\n",
        "\n",
        "epochs = range(len(loss))\n",
        "\n",
        "plt.plot(epochs, mape, 'r', label='Training mape')\n",
        "plt.plot(epochs, val_mape, 'b', label='Validation mape')\n",
        "plt.title('Training and validation mape')\n",
        "plt.legend()\n",
        "plt.ylim(ymax=100,ymin=0.01)\n",
        "\n",
        "plt.show()"
      ],
      "execution_count": 28,
      "outputs": [
        {
          "output_type": "display_data",
          "data": {
            "image/png": "[encoded data removed]",
            "text/plain": [
              "<Figure size 432x288 with 1 Axes>"
            ]
          },
          "metadata": {
            "needs_background": "light"
          }
        }
      ]
    },
    {
      "cell_type": "markdown",
      "metadata": {
        "id": "v0fEt_cpQ5ao"
      },
      "source": [
        "Now we use Bidirectional model"
      ]
    },
    {
      "cell_type": "code",
      "metadata": {
        "id": "Tf5w_ioVpXul",
        "colab": {
          "base_uri": "https://localhost:8080/"
        },
        "outputId": "1f71196c-aa83-4b68-9740-31b74c6f6514"
      },
      "source": [
        "model = Sequential()\n",
        "model.add(Embedding(max_features, 64, input_length=maxlen))\n",
        "model.add(layers.Conv1D(64, 5, activation='relu'))\n",
        "model.add(layers.Bidirectional(\n",
        "    layers.LSTM(64,dropout=0.2,recurrent_dropout=0.2)))\n",
        "model.add(layers.Dense(1))\n",
        "\n",
        "model.summary()"
      ],
      "execution_count": 29,
      "outputs": [
        {
          "output_type": "stream",
          "name": "stdout",
          "text": [
            "Model: \"sequential\"\n",
            "_________________________________________________________________\n",
            " Layer (type)                Output Shape              Param #   \n",
            "=================================================================\n",
            " embedding (Embedding)       (None, 20, 64)            640000    \n",
            "                                                                 \n",
            " conv1d (Conv1D)             (None, 16, 64)            20544     \n",
            "                                                                 \n",
            " bidirectional (Bidirectiona  (None, 128)              66048     \n",
            " l)                                                              \n",
            "                                                                 \n",
            " dense (Dense)               (None, 1)                 129       \n",
            "                                                                 \n",
            "=================================================================\n",
            "Total params: 726,721\n",
            "Trainable params: 726,721\n",
            "Non-trainable params: 0\n",
            "_________________________________________________________________\n"
          ]
        }
      ]
    },
    {
      "cell_type": "code",
      "metadata": {
        "id": "WJkxKsq_pZWW",
        "colab": {
          "base_uri": "https://localhost:8080/"
        },
        "outputId": "aef9fadd-cedd-40ab-bcbf-679932199a4b"
      },
      "source": [
        "model.compile(optimizer='adam', loss='mae', metrics='mape')\n",
        "history = model.fit(X_train, y_train,\n",
        "                    epochs=10,\n",
        "                    steps_per_epoch = 256,\n",
        "                    batch_size=batch_size,\n",
        "                    validation_data=(X_test,y_test))\n",
        "keras.backend.clear_session()"
      ],
      "execution_count": 30,
      "outputs": [
        {
          "output_type": "stream",
          "name": "stdout",
          "text": [
            "Epoch 1/10\n",
            "256/256 [==============================] - 23s 68ms/step - loss: 0.9275 - mape: 33.7244 - val_loss: 0.6752 - val_mape: 27.6002\n",
            "Epoch 2/10\n",
            "256/256 [==============================] - 17s 66ms/step - loss: 0.6550 - mape: 26.3104 - val_loss: 0.6521 - val_mape: 27.5920\n",
            "Epoch 3/10\n",
            "256/256 [==============================] - 17s 66ms/step - loss: 0.5812 - mape: 23.9771 - val_loss: 0.6046 - val_mape: 23.8664\n",
            "Epoch 4/10\n",
            "256/256 [==============================] - 17s 66ms/step - loss: 0.5472 - mape: 22.0690 - val_loss: 0.5976 - val_mape: 22.9360\n",
            "Epoch 5/10\n",
            "256/256 [==============================] - 17s 65ms/step - loss: 0.5604 - mape: 22.3542 - val_loss: 0.5905 - val_mape: 24.3522\n",
            "Epoch 6/10\n",
            "256/256 [==============================] - 17s 66ms/step - loss: 0.4757 - mape: 19.1104 - val_loss: 0.5985 - val_mape: 24.3737\n",
            "Epoch 7/10\n",
            "256/256 [==============================] - 17s 65ms/step - loss: 0.5087 - mape: 20.2208 - val_loss: 0.6015 - val_mape: 25.2685\n",
            "Epoch 8/10\n",
            "256/256 [==============================] - 17s 66ms/step - loss: 0.4749 - mape: 19.3938 - val_loss: 0.6147 - val_mape: 24.8843\n",
            "Epoch 9/10\n",
            "256/256 [==============================] - 17s 66ms/step - loss: 0.4487 - mape: 18.1374 - val_loss: 0.6109 - val_mape: 23.7502\n",
            "Epoch 10/10\n",
            "256/256 [==============================] - 16s 64ms/step - loss: 0.4546 - mape: 17.7658 - val_loss: 0.5935 - val_mape: 22.2245\n"
          ]
        }
      ]
    },
    {
      "cell_type": "markdown",
      "metadata": {
        "id": "wwlr6I0dRkHI"
      },
      "source": [
        "These still exist underfitting problem, but overfitting problem has been solved. (In class)"
      ]
    },
    {
      "cell_type": "code",
      "metadata": {
        "id": "m5WJ-oGtpbKm",
        "colab": {
          "base_uri": "https://localhost:8080/",
          "height": 281
        },
        "outputId": "a8ceb116-8029-43ce-b0bd-079ed52f7c00"
      },
      "source": [
        "import matplotlib.pyplot as plt\n",
        "\n",
        "mape = history.history['mape']\n",
        "val_mape = history.history['val_mape']\n",
        "loss = history.history['loss']\n",
        "val_loss = history.history['val_loss']\n",
        "\n",
        "epochs = range(len(loss))\n",
        "\n",
        "plt.plot(epochs, mape, 'r', label='Training mape')\n",
        "plt.plot(epochs, val_mape, 'b', label='Validation mape')\n",
        "plt.title('Training and validation mape')\n",
        "plt.legend()\n",
        "plt.ylim(ymax=100,ymin=0.01)\n",
        "\n",
        "plt.show()"
      ],
      "execution_count": 31,
      "outputs": [
        {
          "output_type": "display_data",
          "data": {
            "image/png": "[encoded data removed]",
            "text/plain": [
              "<Figure size 432x288 with 1 Axes>"
            ]
          },
          "metadata": {
            "needs_background": "light"
          }
        }
      ]
    },
    {
      "cell_type": "code",
      "metadata": {
        "id": "jWQWmwrMEx1r"
      },
      "source": [
        "model.save('/content/modelrating.h5')"
      ],
      "execution_count": 32,
      "outputs": []
    }
  ]
}